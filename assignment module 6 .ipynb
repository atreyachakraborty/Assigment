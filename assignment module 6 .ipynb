{
 "cells": [
  {
   "cell_type": "code",
   "execution_count": 11,
   "id": "0292ea3f-0589-421c-a923-7238c31d7bc0",
   "metadata": {},
   "outputs": [
    {
     "data": {
      "text/plain": [
       "10"
      ]
     },
     "execution_count": 11,
     "metadata": {},
     "output_type": "execute_result"
    }
   ],
   "source": [
    "#1.What is the difference between a function and a method in Python\n",
    "\n",
    "#ans. when we write a function inside a class that's called a method.\n",
    "class atreya:\n",
    "    def fun1():\n",
    "      return 10\n",
    "a=atreya\n",
    "a.fun1() # we calling the method using a.fun1()\n",
    "\n",
    "#function \n",
    "def fun2():\n",
    "    return 10\n",
    "\n",
    "fun2() # Here we are calling the function directly, no need to create an object like a."
   ]
  },
  {
   "cell_type": "code",
   "execution_count": 23,
   "id": "70b04dfa-49cc-4806-a088-f3b73221c0d3",
   "metadata": {},
   "outputs": [],
   "source": [
    "# 2. Explain the concept of function arguments and parameters in Python\n",
    "\n",
    "#ans.In Python, function arguments and parameters are important concepts.\n",
    "#The values inside the parentheses of a function are called parameters. \n",
    "#For example, in the function `greeting(name)`, `name` is a parameter.\n",
    "#When we call the function and pass a specific value, such as `greeting(\"atreya\")`, \"atreya\" becomes the argument."
   ]
  },
  {
   "cell_type": "code",
   "execution_count": null,
   "id": "c2b8d6f4-d12b-4c9b-98cc-03675d45d5ad",
   "metadata": {},
   "outputs": [],
   "source": [
    "# 3. . What are the different ways to define and call a function in Python?\n",
    "# ans."
   ]
  },
  {
   "cell_type": "code",
   "execution_count": 27,
   "id": "4ec37561-fdf6-444c-b801-5d1928d528ce",
   "metadata": {},
   "outputs": [
    {
     "data": {
      "text/plain": [
       "5"
      ]
     },
     "execution_count": 27,
     "metadata": {},
     "output_type": "execute_result"
    }
   ],
   "source": [
    "#4. What is the purpose of the `return` statement in a Python function?\n",
    "# ans. when we use return it stops executing the function & returns the value as it is. \n",
    "\n",
    "def func2():\n",
    "    x=10\n",
    "    return 5\n",
    "\n",
    "func2()"
   ]
  },
  {
   "cell_type": "code",
   "execution_count": null,
   "id": "d9981249-98c9-45ac-a056-1794d11afdc1",
   "metadata": {},
   "outputs": [],
   "source": [
    "#5. What are iterators in Python and how do they differ from iterables?\n",
    "# ans. iterable>> those objects can loop over. like- list, string, tuples\n",
    "        #iterators>> An iterator is an object that keeps its state and knows what item to return next in the iteration. we use iter build-in function\n",
    "         # in Python to convert iterable into iterators. to access the next element in iterators we use next(). iterators fast, eat less memory in system \n"
   ]
  },
  {
   "cell_type": "code",
   "execution_count": 57,
   "id": "71db8929-5e4b-4086-81a0-7925f35793a4",
   "metadata": {},
   "outputs": [
    {
     "data": {
      "text/plain": [
       "4"
      ]
     },
     "execution_count": 57,
     "metadata": {},
     "output_type": "execute_result"
    }
   ],
   "source": [
    "#6. Explain the concept of generators in Python and how they are defined.\n",
    "#ans. yield >> general function uses a return statement but a generator function uses yield statement\n",
    "def func3(n):\n",
    "   for i in range(1,n+1):\n",
    "       a=i*2\n",
    "       yield a\n",
    "       i=i+1\n",
    "\n",
    "\n",
    "func3(10)\n",
    "w=func3(10)\n",
    "next(w)\n",
    "next(w)"
   ]
  },
  {
   "cell_type": "code",
   "execution_count": 59,
   "id": "f7b5bac4-d99c-4adf-b594-1e8b23a4d52f",
   "metadata": {},
   "outputs": [],
   "source": [
    "#7 What are the advantages of using generators over regular functions?\n",
    "# ans. generator only produce value when it require. so that the generator are memory efficient and improve the performace of the code when we computing large amount of data."
   ]
  },
  {
   "cell_type": "code",
   "execution_count": 63,
   "id": "5457a387-45c5-418d-9672-8b5832ee01a2",
   "metadata": {},
   "outputs": [
    {
     "data": {
      "text/plain": [
       "25"
      ]
     },
     "execution_count": 63,
     "metadata": {},
     "output_type": "execute_result"
    }
   ],
   "source": [
    "#8. What is a lambda function in Python and when is it typically used?\n",
    "#ans. lambda function use for define for simple operations in a single line. \n",
    "# syntax>> lambda arguments: expression \n",
    "a= lambda x:x**2 \n",
    "a(5)"
   ]
  },
  {
   "cell_type": "code",
   "execution_count": 86,
   "id": "f88e06de-63fb-43c7-92bb-91b52c1f7689",
   "metadata": {},
   "outputs": [
    {
     "name": "stdout",
     "output_type": "stream",
     "text": [
      "[1, 4, 9, 16, 25]\n"
     ]
    }
   ],
   "source": [
    "#8 Explain the purpose and usage of the `map()` function in Python?\n",
    "#ans. map() execute a specific function for each of items of an iterable\n",
    "def sqr(x):\n",
    "    return x**2\n",
    "\n",
    "l=[1,2,3,4,5]\n",
    "a=list(map(sqr,l))\n",
    "print(a)\n",
    "       "
   ]
  },
  {
   "cell_type": "code",
   "execution_count": 106,
   "id": "0e96bec1-5be8-4de2-a867-fdc6e177a487",
   "metadata": {},
   "outputs": [
    {
     "data": {
      "text/plain": [
       "[2, 4, 6]"
      ]
     },
     "execution_count": 106,
     "metadata": {},
     "output_type": "execute_result"
    }
   ],
   "source": [
    "#9 What is the difference between `map()`, `reduce()`, and `filter()` functions in Python?\n",
    "#ans. map()> Applies a function to each element of an iterable\n",
    "l1=[100,200,300,400]\n",
    "l2=[1,2,3,4]\n",
    "list(map(lambda x,y: x*y,l1,l2))\n",
    "\n",
    "#reducer()>Reduces an iterable to a single value\n",
    "from functools import reduce\n",
    "words=[\"i\",\"am\",\"studing\",\"data analysis\"]\n",
    "reduce(lambda x,y: x + \" \"+ y, words)\n",
    "\n",
    "# filter()>Filters elements based on a condition \n",
    "a=[2, 3, 4, 5, 6, 1]\n",
    "list(filter(lambda x: x%2==0,a)) "
   ]
  },
  {
   "cell_type": "code",
   "execution_count": null,
   "id": "ebd304e0-4e91-4e7a-b468-20f3eaadc40d",
   "metadata": {},
   "outputs": [],
   "source": []
  },
  {
   "cell_type": "code",
   "execution_count": null,
   "id": "ebbef24f-03e7-4189-a247-111dbf6c8ad9",
   "metadata": {},
   "outputs": [],
   "source": []
  },
  {
   "cell_type": "markdown",
   "id": "981610c4-bd3e-4074-abdd-6a20fe25653a",
   "metadata": {},
   "source": [
    "#PRACTICAL QS ANS"
   ]
  },
  {
   "cell_type": "code",
   "execution_count": 12,
   "id": "d848f192-0764-459b-b69d-930a9dcdbd42",
   "metadata": {},
   "outputs": [],
   "source": [
    "#1.Write a Python function that takes a list of numbers as input and returns the sum of all even numbers in list.\n",
    "def sum_even_numbers(n):\n",
    "    total = 0\n",
    "    for num in n:\n",
    "        if num % 2 == 0:\n",
    "            total += num\n",
    "    return total"
   ]
  },
  {
   "cell_type": "code",
   "execution_count": 14,
   "id": "d24fba7c-6b5e-4cea-9595-76055fce4ee1",
   "metadata": {},
   "outputs": [
    {
     "data": {
      "text/plain": [
       "30"
      ]
     },
     "execution_count": 14,
     "metadata": {},
     "output_type": "execute_result"
    }
   ],
   "source": [
    "sum_even_numbers([1,2,3,4,5,6,7,8,9,10])"
   ]
  },
  {
   "cell_type": "code",
   "execution_count": 36,
   "id": "79277b37-1005-4374-9098-48b598469b43",
   "metadata": {},
   "outputs": [],
   "source": [
    "#2.Write a Python function that takes a list of numbers as input and returns the sum of all even numbers in the list\n",
    "\n",
    "def reverse_string(n):\n",
    "    print (n[::-1])"
   ]
  },
  {
   "cell_type": "code",
   "execution_count": 38,
   "id": "ecdb7c75-cc35-4aba-83cc-01fd0c73edb9",
   "metadata": {},
   "outputs": [
    {
     "name": "stdout",
     "output_type": "stream",
     "text": [
      "ayerta\n"
     ]
    }
   ],
   "source": [
    "reverse_string(\"atreya\")\n"
   ]
  },
  {
   "cell_type": "code",
   "execution_count": 56,
   "id": "b0d34a61-185b-4c1a-8ae9-addc540a3198",
   "metadata": {},
   "outputs": [],
   "source": [
    "#3. Implement a Python function that takes a list of integers and returns a new list containing the squares of each number \n",
    "\n",
    "def square_list(n):\n",
    "    new_list=[]\n",
    "    for i in  n:\n",
    "        new_list.append(i**2)\n",
    "\n",
    "    print(new_list)\n",
    "\n"
   ]
  },
  {
   "cell_type": "code",
   "execution_count": 58,
   "id": "a899e5c7-da33-49f0-8f5f-1d3f2d339f5f",
   "metadata": {},
   "outputs": [
    {
     "name": "stdout",
     "output_type": "stream",
     "text": [
      "[1, 4, 9, 16, 25]\n"
     ]
    }
   ],
   "source": [
    "square_list([1,2,3,4,5])"
   ]
  },
  {
   "cell_type": "code",
   "execution_count": 103,
   "id": "4a76211b-26cb-4492-ad3c-f78f02d382b4",
   "metadata": {},
   "outputs": [],
   "source": [
    "#4.Write a Python function that checks if a given number is prime or not from 1 to 200.\n",
    "\n",
    "def check_prime(n):\n",
    "    if n<=0:\n",
    "        return False\n",
    "\n",
    "    else:\n",
    "        for i in range(2,n):\n",
    "            if n%i==0:\n",
    "                return False\n",
    "            else:\n",
    "                return True"
   ]
  },
  {
   "cell_type": "code",
   "execution_count": 107,
   "id": "fed95757-9f02-49c0-bc2c-9354d35b7993",
   "metadata": {},
   "outputs": [
    {
     "data": {
      "text/plain": [
       "False"
      ]
     },
     "execution_count": 107,
     "metadata": {},
     "output_type": "execute_result"
    }
   ],
   "source": [
    "check_prime(4)"
   ]
  },
  {
   "cell_type": "code",
   "execution_count": 125,
   "id": "60a43543-c432-40be-9668-89f26f980299",
   "metadata": {},
   "outputs": [],
   "source": [
    "#5.Create an iterator class in Python that generates the Fibonacci sequence up to a specified number of terms.\n",
    "def fibonacci(n):\n",
    "    a=0\n",
    "    b=1\n",
    "    for i in range(n):\n",
    "        yield a\n",
    "        a,b=b,a+b"
   ]
  },
  {
   "cell_type": "code",
   "execution_count": 127,
   "id": "9df398c0-04c0-42dd-918f-44ba62d684c8",
   "metadata": {},
   "outputs": [
    {
     "data": {
      "text/plain": [
       "<generator object fibonacci at 0x000002445C55FE60>"
      ]
     },
     "execution_count": 127,
     "metadata": {},
     "output_type": "execute_result"
    }
   ],
   "source": [
    "fibonacci(6)"
   ]
  },
  {
   "cell_type": "code",
   "execution_count": 129,
   "id": "440ddaa0-e951-40ab-b883-75155aa5b093",
   "metadata": {},
   "outputs": [],
   "source": [
    "a=fibonacci(6)"
   ]
  },
  {
   "cell_type": "code",
   "execution_count": 131,
   "id": "35b7e8a1-fe24-49ab-afa9-143a22c4184e",
   "metadata": {},
   "outputs": [
    {
     "data": {
      "text/plain": [
       "0"
      ]
     },
     "execution_count": 131,
     "metadata": {},
     "output_type": "execute_result"
    }
   ],
   "source": [
    "next(a)"
   ]
  },
  {
   "cell_type": "code",
   "execution_count": 133,
   "id": "2f566708-e063-4122-a1e3-aa8bf8badf4f",
   "metadata": {},
   "outputs": [
    {
     "data": {
      "text/plain": [
       "1"
      ]
     },
     "execution_count": 133,
     "metadata": {},
     "output_type": "execute_result"
    }
   ],
   "source": [
    "next(a)"
   ]
  },
  {
   "cell_type": "code",
   "execution_count": 135,
   "id": "62ae00b6-f30e-4f35-8fbf-205feff6315c",
   "metadata": {},
   "outputs": [
    {
     "data": {
      "text/plain": [
       "1"
      ]
     },
     "execution_count": 135,
     "metadata": {},
     "output_type": "execute_result"
    }
   ],
   "source": [
    "next(a)"
   ]
  },
  {
   "cell_type": "code",
   "execution_count": 137,
   "id": "4b4627b3-0cea-4d32-b447-2318a3417d11",
   "metadata": {},
   "outputs": [
    {
     "data": {
      "text/plain": [
       "2"
      ]
     },
     "execution_count": 137,
     "metadata": {},
     "output_type": "execute_result"
    }
   ],
   "source": [
    "next(a)"
   ]
  },
  {
   "cell_type": "code",
   "execution_count": 139,
   "id": "323bcf77-4c07-493f-93da-0dfd12266303",
   "metadata": {},
   "outputs": [
    {
     "data": {
      "text/plain": [
       "3"
      ]
     },
     "execution_count": 139,
     "metadata": {},
     "output_type": "execute_result"
    }
   ],
   "source": [
    "next(a)"
   ]
  },
  {
   "cell_type": "code",
   "execution_count": 142,
   "id": "f3f822fc-65d1-4b9d-99a1-c1845e8bb06d",
   "metadata": {},
   "outputs": [
    {
     "data": {
      "text/plain": [
       "5"
      ]
     },
     "execution_count": 142,
     "metadata": {},
     "output_type": "execute_result"
    }
   ],
   "source": [
    "next(a)"
   ]
  },
  {
   "cell_type": "code",
   "execution_count": 144,
   "id": "c6b6b1b5-ab1f-411f-a0b0-5d1a04f6cdf2",
   "metadata": {},
   "outputs": [],
   "source": [
    "#6. Write a generator function in Python that yields the powers of 2 up to a given exponent.\n",
    "\n",
    "def power_fac(n):\n",
    "    for i in range(n+1):\n",
    "        yield i**2"
   ]
  },
  {
   "cell_type": "code",
   "execution_count": 166,
   "id": "0562461a-bbdb-409f-83a8-5623807df622",
   "metadata": {},
   "outputs": [
    {
     "name": "stdout",
     "output_type": "stream",
     "text": [
      "0 1 4 9 16 25 "
     ]
    }
   ],
   "source": [
    "for p in power_fac(5):\n",
    "    print(p,end= \" \")"
   ]
  },
  {
   "cell_type": "code",
   "execution_count": 168,
   "id": "60bbd1d3-c595-4760-bf0b-7834075eb8b3",
   "metadata": {},
   "outputs": [],
   "source": [
    "#7.Implement a generator function that reads a file line by line and yields each line as a string.\n",
    "\n",
    "#file still not cover yet"
   ]
  },
  {
   "cell_type": "code",
   "execution_count": 178,
   "id": "16f627ab-3bd2-4884-b922-b96c5ca52679",
   "metadata": {},
   "outputs": [
    {
     "name": "stdout",
     "output_type": "stream",
     "text": [
      "[(5, 1), (3, 4), (1, 5), (7, 10)]\n"
     ]
    }
   ],
   "source": [
    "#8. Use a lambda function in Python to sort a list of tuples based on the second element of each tuple.\n",
    "\n",
    "t=[(1,5),(3,4),(5,1),(7,10)]\n",
    "\n",
    "func_short=sorted(t,key=lambda x:x[1])\n",
    "print(func_short)"
   ]
  },
  {
   "cell_type": "code",
   "execution_count": 182,
   "id": "9fcbd6f6-2363-41db-a867-21d6b7da41d5",
   "metadata": {},
   "outputs": [],
   "source": [
    "#9.Write a Python program that uses `map()` to convert a list of temperatures from Celsius to Fahrenheit\n",
    "l=50,30,20,0\n",
    "\n",
    "fahrenheit_temp=(map(lambda x:(x*9/5)+32,l))"
   ]
  },
  {
   "cell_type": "code",
   "execution_count": 188,
   "id": "c4302083-ae52-4e55-8f91-040b93e0ab03",
   "metadata": {},
   "outputs": [
    {
     "data": {
      "text/plain": [
       "[122.0, 86.0, 68.0, 32.0]"
      ]
     },
     "execution_count": 188,
     "metadata": {},
     "output_type": "execute_result"
    }
   ],
   "source": [
    "list(fahrenheit_temp)"
   ]
  },
  {
   "cell_type": "code",
   "execution_count": 206,
   "id": "971a4113-46f8-4a61-a3fc-b352b02422d3",
   "metadata": {},
   "outputs": [
    {
     "data": {
      "text/plain": [
       "['a', 'e', 'i', 'A', 'e', 'a']"
      ]
     },
     "execution_count": 206,
     "metadata": {},
     "output_type": "execute_result"
    }
   ],
   "source": [
    "#10.Create a Python program that uses `filter()` to remove all the vowels from a given string\n",
    "s=\"My name is Atreya \"\n",
    "list(filter(lambda x:x.lower() in \"aeiou\",s))"
   ]
  },
  {
   "cell_type": "code",
   "execution_count": 220,
   "id": "0c91379f-81a6-4863-92d0-d768170d9611",
   "metadata": {},
   "outputs": [
    {
     "name": "stdout",
     "output_type": "stream",
     "text": [
      "[(34587, 163.8), (98762, 284.0), (77226, 108.85000000000001), (88112, 84.97)]\n"
     ]
    }
   ],
   "source": [
    "# q.s 11>>>\n",
    "orders = [[34587, 4, 40.95],[98762, 5, 56.80],[77226, 3, 32.95],[88112, 3, 24.99]]\n",
    "calculate_total = lambda order: (order[0], order[1] * order[2] + 10 if order[1] * order[2] < 100 else order[1] * order[2])\n",
    "result=list(map(calculate_total,orders))\n",
    "print(result)"
   ]
  },
  {
   "cell_type": "code",
   "execution_count": null,
   "id": "933567e1-8b9d-4f20-8c29-68531c1a6ca3",
   "metadata": {},
   "outputs": [],
   "source": []
  }
 ],
 "metadata": {
  "kernelspec": {
   "display_name": "Python 3 (ipykernel)",
   "language": "python",
   "name": "python3"
  },
  "language_info": {
   "codemirror_mode": {
    "name": "ipython",
    "version": 3
   },
   "file_extension": ".py",
   "mimetype": "text/x-python",
   "name": "python",
   "nbconvert_exporter": "python",
   "pygments_lexer": "ipython3",
   "version": "3.12.4"
  }
 },
 "nbformat": 4,
 "nbformat_minor": 5
}
