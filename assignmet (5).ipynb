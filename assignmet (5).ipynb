{
 "cells": [
  {
   "cell_type": "markdown",
   "id": "c50f50ac-411a-4f9e-8307-f991d4fb78df",
   "metadata": {},
   "source": [
    "1.What is a parameter?\n",
    "ans.a parameter is a variable that is internal to a model and is learned directly from the training data during the model training process. Parameters are crucial for the model's prediction capability."
   ]
  },
  {
   "cell_type": "markdown",
   "id": "643c405b-b656-44da-9c96-ece91b3d910c",
   "metadata": {},
   "source": [
    "2.What is correlation?\n",
    "\n",
    "Correlation is a statistical measure that describes the strength and direction of a relationship between two or more variables.\n",
    "\n",
    "Negative Correlation: The variables move in opposite directions. As one variable increases, the other decreases. The correlation coefficient ranges from 0 to -1."
   ]
  },
  {
   "cell_type": "markdown",
   "id": "c55280f3-bb08-4a5f-a384-5847d8bc0f54",
   "metadata": {},
   "source": [
    "3.Define Machine Learning. What are the main components in Machine Learning?\n",
    "\n",
    "ans.Machine learning (ML) is a branch of artificial intelligence (AI) that focuses on building systems that can learn from and make decisions based on data.\n",
    "Data:\n",
    "\n",
    "Raw Data: The initial data that is collected from various sources, which can include numerical data, text, images, or any other form of information.\n",
    "Training Data: The subset of data used to train the model, allowing it to learn from examples.\n",
    "Testing Data: The subset of data used to evaluate the model's performance and accuracy.\n",
    "\n",
    "Features:\n",
    "\n",
    "Features: Individual measurable properties or characteristics of the data. Features are used as input to the ML model.\n",
    "Feature Engineering: The process of selecting, modifying, or creating features to improve the performance of the ML model.\n",
    "\n",
    "Model:\n",
    "\n",
    "Algorithms: The specific approach or method used to learn from the data. Common algorithms include decision trees, neural networks, and support vector machines.\n",
    "\n",
    "Model Training: The process of applying the algorithm to the training data to learn patterns and relationships.\n",
    "\n",
    "Training Process:\n",
    "Loss Function: A method to measure how well the model's predictions match the actual outcomes. The goal is to minimize this loss.\n",
    "Optimization Algorithm: Techniques like gradient descent used to adjust the model's parameters to minimize the loss function.\n",
    "\n",
    "Evaluation:\n",
    "Evaluation Metrics: Metrics such as accuracy, precision, recall, and F1-score used to assess the model's performance.\n",
    "\n",
    "Cross-Validation: Techniques to assess the model's performance and robustness by training and testing on different subsets of the data.\n",
    "\n",
    "Prediction:\n",
    "Inference: Using the trained model to make predictions or decisions on new, unseen data.\n",
    "\n",
    "Deployment:\n",
    "Model Deployment: Integrating the trained model into a production environment where it can make predictions on new data in real-time or batch mode.\n",
    "\n",
    "Feedback Loop:\n",
    "Model Improvement: Continuously updating and refining the model based on new data and feedback to improve performance.\n"
   ]
  },
  {
   "cell_type": "markdown",
   "id": "5a78976c-f397-4ea3-912d-57799a5b23af",
   "metadata": {},
   "source": [
    "4.How does loss value help in determining whether the model is good or not?\n",
    "\n",
    "ans.The loss value measures the difference between the predicted values produced by the model and the actual values from the dataset. It's essentially a measure of the error.\n",
    "yes,lower loss indicates a better-performing model.\n",
    "\n",
    "How Loss Value Helps-----\n",
    "\n",
    "Overfitting and Underfitting: The relationship between training loss and validation loss helps in diagnosing overfitting and underfitting:\n",
    "Overfitting: Low training loss but high validation loss. The model has learned the training data too well, including noise and outliers, and doesn’t perform well on new data.\n",
    "Underfitting: High training loss and high validation loss. The model hasn’t learned the data well enough and needs improvement\n",
    "\n",
    "Model Selection: By comparing the loss values of different models, one can choose the best model. The model with the lowest loss on the validation set is typically preferred."
   ]
  },
  {
   "cell_type": "markdown",
   "id": "1b9f76da-42fc-4c0b-a1ca-87da9628217c",
   "metadata": {},
   "source": [
    "5.What are continuous and categorical variables?\n",
    "ans.\n",
    "Continuous Variables: Continuous variables are quantitative variables that can take any value within a given range. These values can be infinitely precise, allowing for a wide range of possibilities.\n",
    "Examples: Height, weight, temperature, time, age.\n",
    "Continuous data is often visualized using histograms, line charts, and scatter plots.\n",
    "\n",
    "Categorical Variables:Categorical variables, also known as qualitative variables, represent distinct groups or categories that do not have a natural order or ranking.\n",
    "Examples: Gender, race, type of cuisine, brand names.\n",
    "Categorical data is often visualized using bar charts, pie charts, and frequency tables."
   ]
  },
  {
   "cell_type": "markdown",
   "id": "a3d096e0-6858-4454-8860-0dce5ae0d686",
   "metadata": {},
   "source": [
    "6.How do we handle categorical variables in Machine Learning? What are the common techniques?\n",
    "\n",
    "ans.as most models require numerical input. Here are some common techniques to handle categorical variables:\n",
    "\n",
    "1. Label Encoding:Label encoding assigns a unique integer to each category.\n",
    "\n",
    "2. One-Hot Encoding:One-hot encoding creates a new binary column for each category, where a value of 1 indicates the presence of the category, and 0 indicates its absence.\n",
    "\n",
    "3.Target Encoding:Target encoding replaces each category with the mean of the target variable. This method is often used in cases with high-cardinality categorical variables.\n"
   ]
  },
  {
   "cell_type": "markdown",
   "id": "4d0d3e84-31d5-4939-b8e3-cbec3442d916",
   "metadata": {},
   "source": [
    "7.what do you mean by training and testing a dataset?\n",
    "and.\n",
    "Training a Dataset: The training dataset is the portion of the data used to train a machine learning model.The primary goal of the training dataset is to allow the model to learn the patterns, relationships, and characteristics of the data.\n",
    "\n",
    "Testing a Dataset:The testing dataset is the portion of the data used to evaluate the performance of the machine learning model.The primary goal of the testing dataset is to provide an unbiased assessment of how well the model generalizes to new, unseen data.\n"
   ]
  },
  {
   "cell_type": "markdown",
   "id": "75a906f1-e6e8-4be2-b17e-7d7785ad9c41",
   "metadata": {},
   "source": [
    "8.What is sklearn.preprocessing?\n",
    "ans.sklearn.preprocessing is a module in the scikit-learn library that provides various methods and functions for preprocessing and transforming data.\n",
    "\n",
    "StandardScaler:\n",
    "from sklearn.preprocessing import StandardScaler\n",
    "scaler = StandardScaler()\n",
    "X_scaled = scaler.fit_transform(X)\n",
    "\n",
    "MinMaxScaler:\n",
    "from sklearn.preprocessing import MinMaxScaler\n",
    "scaler = MinMaxScaler()\n",
    "X_scaled = scaler.fit_transform(X)\n",
    "\n",
    "LabelEncoder:\n",
    "from sklearn.preprocessing import LabelEncoder\n",
    "label_encoder = LabelEncoder()\n",
    "y_encoded = label_encoder.fit_transform(y)\n",
    "\n",
    "OneHotEncoder:\n",
    "from sklearn.preprocessing import OneHotEncoder\n",
    "encoder = OneHotEncoder()\n",
    "X_encoded = encoder.fit_transform(X)\n",
    "\n",
    "PolynomialFeatures:\n",
    "from sklearn.preprocessing import PolynomialFeatures\n",
    "poly = PolynomialFeatures(degree=2)\n",
    "X_poly = poly.fit_transform(X)\n",
    "\n",
    "Normalizer:\n",
    "from sklearn.preprocessing import Normalizer\n",
    "normalizer = Normalizer()\n",
    "X_normalized = normalizer.fit_transform(X)\n"
   ]
  },
  {
   "cell_type": "markdown",
   "id": "e8c58e47-2d2f-4c99-b3a3-48428df52bae",
   "metadata": {},
   "source": [
    "9.What is a Test set?\n",
    "ans.A test set is a subset of your dataset that is used to evaluate the performance of a machine learning model after it has been trained.\n"
   ]
  },
  {
   "cell_type": "code",
   "execution_count": 3,
   "id": "c9f8cbe7-ad9c-46a4-9bb8-66e5f47708fb",
   "metadata": {},
   "outputs": [
    {
     "name": "stdout",
     "output_type": "stream",
     "text": [
      "Testing Loss: 0.03417731866825181\n"
     ]
    }
   ],
   "source": [
    "#10.How do we split data for model fitting (training and testing) in Python?\n",
    "\n",
    "import numpy as np\n",
    "from sklearn.model_selection import train_test_split\n",
    "from sklearn.linear_model import LinearRegression\n",
    "from sklearn.metrics import mean_squared_error\n",
    "\n",
    "X = np.array([[1], [2], [3], [4], [5], [6], [7], [8], [9], [10]])\n",
    "y = np.array([1.1, 2.0, 2.9, 4.0, 4.8, 6.1, 7.1, 7.9, 9.2, 9.9])\n",
    "\n",
    "\n",
    "X_train, X_test, y_train, y_test = train_test_split(X, y, test_size=0.2, random_state=42)\n",
    "\n",
    "# Create and train the model\n",
    "model = LinearRegression()\n",
    "model.fit(X_train, y_train)\n",
    "\n",
    "# Make predictions on the testing set\n",
    "y_pred = model.predict(X_test)\n",
    "\n",
    "# Evaluate the models \n",
    "test_loss = mean_squared_error(y_test, y_pred)\n",
    "print(f\"Testing Loss: {test_loss}\")\n"
   ]
  },
  {
   "cell_type": "markdown",
   "id": "86d08491-050e-4950-a3a2-bc1a3c839fe1",
   "metadata": {},
   "source": [
    "10.How do you approach a Machine Learning problem?\n",
    "ans. \n",
    "1.Define the Problem :Clearly define what you want to achieve.\n",
    "2. Collect and Understand the Data: Gather all relevant data\n",
    "3.Data Preprocessing: Handle missing values, transforming,correct inconsistencies, and remove duplicates.\n",
    "4.Feature Selection: Selecting the most relevant features\n",
    "5.Model Selection: Choose appropriate algorithms based on the problem type (e.g., regression, classification, clustering).\n",
    "6.Model Training: Train the selected model(s) using the training data.\n",
    "7.Model Evaluation: Evaluate the model’s performance using appropriate metrics.\n",
    "8.Model Testing: est the final model on the test set to evaluate its performance on unseen data.\n",
    "9.Deployment: Deploy the model into a production environment where it can make real-time or batch predictions."
   ]
  },
  {
   "cell_type": "markdown",
   "id": "2376de80-5d7a-4b51-9139-72a5697112d7",
   "metadata": {},
   "source": [
    "11.Why do we have to perform EDA before fitting a model to the data?\n",
    "\n",
    "ans.EDA helps you understand the data's underlying structure and characteristics, identify potential issues, and make informed decisions throughout the modeling process.\n",
    "Understanding Data Distribution\n",
    "Identifying Data Quality \n",
    "Feature Selection and Engineering\n",
    "Handling Multicollinearity\n",
    "Visualizing Data"
   ]
  },
  {
   "cell_type": "markdown",
   "id": "bd20c329-e9c9-404d-bc54-a626fffd64fa",
   "metadata": {},
   "source": [
    "12.What is correlation?\n",
    "ans.Correlation is a statistical measure that describes the strength and direction of a relationship between two variables."
   ]
  },
  {
   "cell_type": "markdown",
   "id": "f3e68d93-5d64-41d6-9e38-283761f19958",
   "metadata": {},
   "source": [
    "13.What does negative correlation mean?\n",
    "ans.a statistical relationship between two variables where an increase in one variable is associated with a decrease in the other, and vice versa"
   ]
  },
  {
   "cell_type": "code",
   "execution_count": 7,
   "id": "3e359bc4-d164-435f-9441-c7da51118f44",
   "metadata": {},
   "outputs": [
    {
     "data": {
      "image/png": "[encoded data removed]",
      "text/plain": [
       "<Figure size 1000x800 with 2 Axes>"
      ]
     },
     "metadata": {},
     "output_type": "display_data"
    }
   ],
   "source": [
    "#14.How can you find correlation between variables in Python?\n",
    "#ans.\n",
    "import pandas as pd\n",
    "import seaborn as sns\n",
    "import matplotlib.pyplot as plt\n",
    "\n",
    "df = sns.load_dataset('titanic')\n",
    "numeric_df = df.select_dtypes(include=['number'])\n",
    "corr_df = numeric_df.corr()\n",
    "#Visualization\n",
    "plt.figure(figsize=(10, 8))\n",
    "sns.heatmap(corr_df, annot=True, cmap='coolwarm')\n",
    "plt.show()\n"
   ]
  },
  {
   "cell_type": "markdown",
   "id": "8ab916cc-df2b-4f9b-be6c-c0f7994c1459",
   "metadata": {},
   "source": [
    "15.What is causation? Explain difference between correlation and causation with an example.\n",
    "ans.a relationship between two variables where one variable directly affects the other. In other words, a change in one variable (the cause) directly results in a change in the other variable (the effect).\n",
    "\n",
    "Correlation vs. Causation\n",
    "Measures the strength and direction of a relationship between two variables & implies that changes in one variable directly cause changes in another."
   ]
  },
  {
   "cell_type": "markdown",
   "id": "006cea81-da30-45a9-af80-7bff40114e9a",
   "metadata": {},
   "source": [
    "16. What is an optimizer? What are different types of optimizers? Explain each with an example.\n",
    "ans.An optimizer in a machine learning algorithm or method is used to adjust the weights and biases of the model to minimise the loss function.\n",
    "##not covered yet in recorded or live class..."
   ]
  },
  {
   "cell_type": "markdown",
   "id": "7089ae40-6df6-420b-95f9-94d9d1f61bc7",
   "metadata": {},
   "source": [
    "#17.What is sklearn.linear_model ?\n",
    "ans. sklearn.linear_model is a module in the scikit-learn library that provides a variety of linear models for regression and classification tasks."
   ]
  },
  {
   "cell_type": "markdown",
   "id": "f7f3441f-b843-46b0-8dd6-0d7b495fcfd1",
   "metadata": {},
   "source": [
    "18.What does model.fit() do? What arguments must be given?\n",
    "ans. The model.fit() method is used to train a machine learning model on a given dataset.\n",
    "\n",
    "The model.fit() method typically requires---\n",
    "X (Features): The input data\n",
    "y (Target): The target data"
   ]
  },
  {
   "cell_type": "markdown",
   "id": "28982e48-5511-470a-8b00-50eaccf6369f",
   "metadata": {},
   "source": [
    "19.What does model.predict() do? What arguments must be given?\n",
    "ans. The model.predict() method is used to generate predictions from a trained machine learning model\n",
    "X (Features): The input data for which you want to generate predictions.\n"
   ]
  },
  {
   "cell_type": "markdown",
   "id": "8056793c-8076-4c3a-921d-140f3e939d14",
   "metadata": {},
   "source": [
    "20.what are continuous and categorical variables?\n",
    "\n",
    "ans.Continuous variables are quantitative variables that can take any value within a specified range.\n",
    "Examples: Height, weight, temperature, and time.\n",
    "    \n",
    "Categorical variables, also known as qualitative variables, represent distinct groups or categories that do not have a natural order or ranking.\n",
    "Examples: Gender, race, type of cuisine, and brand names."
   ]
  },
  {
   "cell_type": "markdown",
   "id": "f50429a0-2f8f-4348-8dbc-2fba9d7aaff8",
   "metadata": {},
   "source": [
    "21.what is feature scaling? How does it help in Machine Learning?\n",
    "\n",
    "ans.Feature scaling is a technique used to standardize the range of independent variables or features of data.\n",
    "\n",
    "Feature Scaling Helps in Improves Model Performance,Prevents Dominance of Features,Improves AccuracyEnhances Model Interpretability."
   ]
  },
  {
   "cell_type": "code",
   "execution_count": 22,
   "id": "fc86d7db-d9c6-454e-9abe-a1f36f355f01",
   "metadata": {},
   "outputs": [
    {
     "name": "stdout",
     "output_type": "stream",
     "text": [
      "x scale data is [[-1.34164079 -1.34164079]\n",
      " [-0.4472136  -0.4472136 ]\n",
      " [ 0.4472136   0.4472136 ]\n",
      " [ 1.34164079  1.34164079]]\n"
     ]
    }
   ],
   "source": [
    "#22.How do we perform scaling in Python?\n",
    "\n",
    "#ans. example of standardscaler\n",
    "X = np.array([[1, 200], [2, 300], [3, 400], [4, 500]])\n",
    "from sklearn.preprocessing import StandardScaler\n",
    "scale= StandardScaler()\n",
    "x_scale=scale.fit_transform(X)\n",
    "print(\"x scale data is\",x_scale)"
   ]
  },
  {
   "cell_type": "markdown",
   "id": "28451b5f-37bf-4a2a-9746-a46a6eb0c82b",
   "metadata": {},
   "source": [
    "#23. What is sklearn.preprocessing?\n",
    "ans.sklearn.preprocessing is a module in the scikit-learn library that provides various utilities for preprocessing and transforming data before it is used to train a machine learning model.\n"
   ]
  },
  {
   "cell_type": "code",
   "execution_count": 26,
   "id": "a7b2d538-3a9a-4eec-af1b-fef9b7a3ff59",
   "metadata": {},
   "outputs": [
    {
     "name": "stdout",
     "output_type": "stream",
     "text": [
      "Testing Loss: 0.0008163265306122391\n"
     ]
    }
   ],
   "source": [
    "#24.How do we split data for model fitting (training and testing) in Python\n",
    "#ans.\n",
    "from sklearn.model_selection import train_test_split\n",
    "from sklearn.linear_model import LinearRegression\n",
    "from sklearn.metrics import mean_squared_error\n",
    "\n",
    "X = np.array([[1], [2], [3], [4], [5]])\n",
    "y = np.array([1.1, 2.0, 2.9, 4.0, 4.8])\n",
    "X_train, X_test, y_train, y_test = train_test_split(X, y, test_size=0.2, random_state=42)\n",
    "model = LinearRegression()\n",
    "model.fit(X_train, y_train)\n",
    "\n",
    "y_pred = model.predict(X_test)\n",
    "\n",
    "test_loss = mean_squared_error(y_test, y_pred)\n",
    "print(f\"Testing Loss: {test_loss}\")\n"
   ]
  },
  {
   "cell_type": "code",
   "execution_count": 28,
   "id": "e5c1d540-d22c-4fb7-9a81-fefefc6fc7a0",
   "metadata": {},
   "outputs": [
    {
     "name": "stdout",
     "output_type": "stream",
     "text": [
      "   Color  Color_Encoded\n",
      "0    Red              2\n",
      "1   Blue              0\n",
      "2  Green              1\n"
     ]
    }
   ],
   "source": [
    "#25.explain data encoding?\n",
    "#ans.preprocessing step in machine learning where categorical data is #transformed into a numerical format that can be understood by machine #learning algorithms\n",
    "\n",
    "from sklearn.preprocessing import LabelEncoder\r\n",
    "data = {'Color': ['Red', 'Blue', 'Green']}\r\n",
    "df = pd.DataFrame(data)\r\n",
    "label_encoder = LabelEncoder()\r\n",
    "df['Color_Encoded'] = label_encoder.fit_transform(df['Color'])\r\n",
    "print(df)\r\n"
   ]
  },
  {
   "cell_type": "code",
   "execution_count": null,
   "id": "ceb4b4d7-f4c5-427e-96b3-68a34d3699ee",
   "metadata": {},
   "outputs": [],
   "source": []
  }
 ],
 "metadata": {
  "kernelspec": {
   "display_name": "Python 3 (ipykernel)",
   "language": "python",
   "name": "python3"
  },
  "language_info": {
   "codemirror_mode": {
    "name": "ipython",
    "version": 3
   },
   "file_extension": ".py",
   "mimetype": "text/x-python",
   "name": "python",
   "nbconvert_exporter": "python",
   "pygments_lexer": "ipython3",
   "version": "3.12.4"
  }
 },
 "nbformat": 4,
 "nbformat_minor": 5
}
