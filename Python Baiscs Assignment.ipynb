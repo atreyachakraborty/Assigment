{
 "cells": [
  {
   "cell_type": "markdown",
   "id": "43940ecf-95be-4b2e-8b93-c91411f4add9",
   "metadata": {},
   "source": [
    "1. Key Features of Python That Make It Popular\n",
    "   \n",
    "Python is widely used because of its:\n",
    "- Ease of Learning: Simple syntax similar to English.\n",
    "- Interpreted Language: No need for compilation; runs line by line.\n",
    "- Dynamically Typed: No need to declare variable types.\n",
    "- Extensive Libraries: Libraries for machine learning (scikit-learn), data analysis (pandas), and web development (Django).\n",
    "- Platform Independence: Works on Windows, macOS, Linux, etc.\n",
    "- Object-Oriented & Functional: Supports OOP and functional programming.\n"
   ]
  },
  {
   "cell_type": "markdown",
   "id": "027fc03c-eba9-4cf9-ae94-3b107f9dde13",
   "metadata": {},
   "source": [
    "2 .Describe the role of predefined keywords in Python and provide examples of how they are used in a program\n",
    "\n",
    "if condition:  \n",
    "    print(\"Condition met\")\n",
    "\n",
    "def my_function():  \n",
    "    return \"Hello!\"\n",
    "\n",
    "class MyClass:  \n",
    "    pass"
   ]
  },
  {
   "cell_type": "code",
   "execution_count": 2,
   "id": "8de329a1-1f9e-4b70-9835-abc3b902e097",
   "metadata": {},
   "outputs": [
    {
     "name": "stdout",
     "output_type": "stream",
     "text": [
      "[1, 2, 3, 4]\n"
     ]
    },
    {
     "ename": "TypeError",
     "evalue": "'tuple' object does not support item assignment",
     "output_type": "error",
     "traceback": [
      "\u001b[1;31m---------------------------------------------------------------------------\u001b[0m",
      "\u001b[1;31mTypeError\u001b[0m                                 Traceback (most recent call last)",
      "Cell \u001b[1;32mIn[2], line 8\u001b[0m\n\u001b[0;32m      6\u001b[0m \u001b[38;5;66;03m# Immutable Example\u001b[39;00m\n\u001b[0;32m      7\u001b[0m my_tuple \u001b[38;5;241m=\u001b[39m (\u001b[38;5;241m1\u001b[39m, \u001b[38;5;241m2\u001b[39m, \u001b[38;5;241m3\u001b[39m)\n\u001b[1;32m----> 8\u001b[0m my_tuple[\u001b[38;5;241m0\u001b[39m] \u001b[38;5;241m=\u001b[39m \u001b[38;5;241m10\u001b[39m\n",
      "\u001b[1;31mTypeError\u001b[0m: 'tuple' object does not support item assignment"
     ]
    }
   ],
   "source": [
    "# 3. Compare and contrast mutable and immutable objects in Python with examples\n",
    "\n",
    "\n",
    "# Mutable Example\n",
    "my_list = [1, 2, 3]\n",
    "my_list.append(4)  # Modifies the list\n",
    "print(my_list)  # Output\n",
    "\n",
    "# Immutable Example\n",
    "my_tuple = (1, 2, 3)\n",
    "my_tuple[0] = 10  # This will raise an error because tuples cannot be modified.\n"
   ]
  },
  {
   "cell_type": "code",
   "execution_count": 3,
   "id": "495ff569-8de9-4577-9fa7-1ef8d55c808d",
   "metadata": {},
   "outputs": [
    {
     "name": "stdout",
     "output_type": "stream",
     "text": [
      "30\n",
      "False\n",
      "20\n"
     ]
    }
   ],
   "source": [
    "# 4. Discuss the different types of operators in Python and provide examples of how they are used0\n",
    "x = 10\n",
    "y = 20\n",
    "\n",
    "print(x + y)  # Addition\n",
    "print(x > y)  # Comparison (False)\n",
    "print(x and y)  # Logical (Returns 20 because both are truthy)"
   ]
  },
  {
   "cell_type": "code",
   "execution_count": 4,
   "id": "54e3589a-815d-46ac-9cba-3e15555d6346",
   "metadata": {},
   "outputs": [
    {
     "name": "stdout",
     "output_type": "stream",
     "text": [
      "10\n",
      "10\n",
      "(1, 2, 3)\n"
     ]
    }
   ],
   "source": [
    "# 5 Explain the concept of type casting in Python with examples0\n",
    "\n",
    "\n",
    "num = 10\n",
    "str_num = str(num)\n",
    "print(str_num)  \n",
    "\n",
    "\n",
    "decimal = 10.5\n",
    "int_decimal = int(decimal)\n",
    "print(int_decimal)  \n",
    "\n",
    "\n",
    "lst = [1, 2, 3]\n",
    "tpl = tuple(lst)\n",
    "print(tpl)  "
   ]
  },
  {
   "cell_type": "code",
   "execution_count": 5,
   "id": "8f044633-387e-4a4e-9150-b0841f488594",
   "metadata": {},
   "outputs": [
    {
     "name": "stdout",
     "output_type": "stream",
     "text": [
      "Just turned 18\n"
     ]
    }
   ],
   "source": [
    "# 6  How do conditional statements work in Python? Illustrate with examples\n",
    "\n",
    "age = 18\n",
    "\n",
    "if age < 18:\n",
    "    print(\"Minor\")\n",
    "elif age == 18:\n",
    "    print(\"Just turned 18\")\n",
    "else:\n",
    "    print(\"Adult\")"
   ]
  },
  {
   "cell_type": "code",
   "execution_count": 6,
   "id": "1a3759a1-6784-48e0-8a3f-6b83ce760c22",
   "metadata": {},
   "outputs": [
    {
     "name": "stdout",
     "output_type": "stream",
     "text": [
      "0\n",
      "1\n",
      "2\n",
      "3\n",
      "4\n",
      "0\n",
      "1\n",
      "2\n",
      "3\n",
      "4\n"
     ]
    }
   ],
   "source": [
    "# 7  Describe the different types of loops in Python and their use cases with examples.\n",
    "\n",
    "# For Loop Example\n",
    "for i in range(5): \n",
    "    print(i)\n",
    "\n",
    "# While Loop Example\n",
    "count = 0\n",
    "while count < 5:\n",
    "    print(count)\n",
    "    count += 1"
   ]
  },
  {
   "cell_type": "code",
   "execution_count": null,
   "id": "d9f123ee-4b22-4bf2-8118-94a84c6d35cf",
   "metadata": {},
   "outputs": [],
   "source": []
  }
 ],
 "metadata": {
  "kernelspec": {
   "display_name": "Python 3 (ipykernel)",
   "language": "python",
   "name": "python3"
  },
  "language_info": {
   "codemirror_mode": {
    "name": "ipython",
    "version": 3
   },
   "file_extension": ".py",
   "mimetype": "text/x-python",
   "name": "python",
   "nbconvert_exporter": "python",
   "pygments_lexer": "ipython3",
   "version": "3.12.7"
  }
 },
 "nbformat": 4,
 "nbformat_minor": 5
}
