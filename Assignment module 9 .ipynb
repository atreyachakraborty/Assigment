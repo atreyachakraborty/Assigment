{
 "cells": [
  {
   "cell_type": "raw",
   "id": "9ad9497e-b4ce-4ad9-97d4-141c0a88ba25",
   "metadata": {},
   "source": [
    "1. Discuss the scenarios where multithreading is preferable to multiprocessing and scenarios where multiprocessing is a better choice."
   ]
  },
  {
   "cell_type": "markdown",
   "id": "b52a9c33-8db6-40c1-9ed5-69e2eaf5f59d",
   "metadata": {},
   "source": [
    "Multithreading is often the better choice in scenarios where tasks are input /output bound or require frequent switching between tasks. \n",
    "example- Web servers handling multiple clients\n",
    "\n",
    "Multiprocessing is preferable when tasks are CPU-bound or when isolation between tasks is necessary.\n",
    "example- Running separate instances of programs that need to be isolated from each other."
   ]
  },
  {
   "cell_type": "raw",
   "id": "1e676e43-79dc-4e6b-9123-fc82bdddce3c",
   "metadata": {},
   "source": [
    "2. Describe what a process pool is and how it helps in managing multiple processes efficiently."
   ]
  },
  {
   "cell_type": "raw",
   "id": "c513968c-4bea-4469-a2cd-f00a29796fdc",
   "metadata": {},
   "source": [
    "A process pool is a collection of worker processes that a pool manager manages to execute multiple tasks concurrently. The concept of a process pool is used to efficiently manage the creation, execution, and destruction of processes, which can be resource-intensive operations\n",
    "\n",
    "Key Benefits of a Process Pool:\n",
    "Resource Management, Improved Performance, Simplified Parallelism, Load Balancing."
   ]
  },
  {
   "cell_type": "markdown",
   "id": "38577557-3e21-4941-828c-7118c2946fd6",
   "metadata": {},
   "source": [
    "3. Explain what multiprocessing is and why it is used in Python programs."
   ]
  },
  {
   "cell_type": "raw",
   "id": "f0e3d8ba-1027-4748-a75b-5f25bb7cd4b8",
   "metadata": {},
   "source": [
    "Multiprocessing is a technique in computer programming where multiple processes run simultaneously, leveraging multiple CPU cores to execute tasks in parallel.\n",
    "\n",
    "the reasons why multiprocessing is used in Python are-\n",
    "\n",
    "For tasks that require significant CPU resources multiprocessing greatly reduces the execution time by distributing the workload across multiple CPU cores.\n",
    "algorithms and tasks, benefit from parallel execution, speeding up processing and enabling real-time performance."
   ]
  },
  {
   "cell_type": "raw",
   "id": "8b4cdec1-33da-4f26-bdfd-7699c92119e4",
   "metadata": {},
   "source": [
    "4. Write a Python program using multithreading where one thread adds numbers to a list, and another\n",
    "thread removes numbers from the list. Implement a mechanism to avoid race conditions using\n",
    "threading.Lock."
   ]
  },
  {
   "cell_type": "code",
   "execution_count": 1,
   "id": "edb07e8b-5124-47ac-a587-f97ce781108c",
   "metadata": {},
   "outputs": [
    {
     "name": "stdout",
     "output_type": "stream",
     "text": [
      "Added 0 to the list\n",
      "Removed 0 from the list\n",
      "Added 1 to the list\n",
      "Added 2 to the list\n",
      "Removed 1 from the list\n",
      "Added 3 to the list\n",
      "Added 4 to the list\n",
      "Removed 2 from the list\n",
      "Added 5 to the list\n",
      "Added 6 to the list\n",
      "Removed 3 from the list\n",
      "Added 7 to the list\n",
      "Added 8 to the list\n",
      "Removed 4 from the list\n",
      "Added 9 to the list\n",
      "Removed 5 from the list\n",
      "Removed 6 from the list\n",
      "Removed 7 from the list\n",
      "Removed 8 from the list\n",
      "Removed 9 from the list\n",
      "Final list: []\n"
     ]
    }
   ],
   "source": [
    "import threading\n",
    "import time\n",
    "\n",
    "shared_list = []\n",
    "lock = threading.Lock()\n",
    "\n",
    "def add_numbers():\n",
    "    for i in range(10):\n",
    "        time.sleep(1)  \n",
    "        with lock:\n",
    "            shared_list.append(i)\n",
    "            print(f\"Added {i} to the list\")\n",
    "\n",
    "\n",
    "def remove_numbers():\n",
    "    for i in range(10):\n",
    "        time.sleep(2)  # Simulate some delay\n",
    "        with lock:\n",
    "            if shared_list:\n",
    "                removed = shared_list.pop(0)\n",
    "                print(f\"Removed {removed} from the list\")\n",
    "\n",
    "\n",
    "thread1 = threading.Thread(target=add_numbers)\n",
    "thread2 = threading.Thread(target=remove_numbers)\n",
    "thread1.start()\n",
    "thread2.start()\n",
    "thread1.join()\n",
    "thread2.join()\n",
    "\n",
    "print(\"Final list:\", shared_list)\n"
   ]
  },
  {
   "cell_type": "raw",
   "id": "e68b6ea6-4505-4a4e-a3b1-93c90b9fdbde",
   "metadata": {},
   "source": [
    "5. Describe the methods and tools available in Python for safely sharing data between threads and processes."
   ]
  },
  {
   "cell_type": "raw",
   "id": "43f5245d-4f8b-45e2-a73d-cf4206d1921a",
   "metadata": {},
   "source": [
    "Sharing Data Between Threads\n",
    "\n",
    "threading.Lock>>\n",
    "Ensures that only one thread can access a shared resource at a time.\n",
    "\n",
    "threading.RLock>>\n",
    "Similar to Lock, but allows a thread to acquire the same lock multiple times.\n",
    "\n",
    "threading.Condition>>\n",
    "Allows threads to wait for certain conditions to be met before continuing.\n",
    "\n",
    "\n",
    "Sharing Data Between Processes\n",
    "\n",
    "multiprocessing.Value>>\n",
    "Shares a single value between processes.\n",
    "\n",
    "multiprocessing.Array>>\n",
    "Shares an array of values between processes.\n",
    "\n",
    "multiprocessing.Queue>>\n",
    "Provides a thread and process-safe queue for communication between processes."
   ]
  },
  {
   "cell_type": "raw",
   "id": "0c0824e5-b775-4ede-8846-d321c2c996c6",
   "metadata": {},
   "source": [
    "6. Discuss why it’s crucial to handle exceptions in concurrent programs and the techniques available for doing so."
   ]
  },
  {
   "cell_type": "markdown",
   "id": "75ba7773-ff14-41b9-88ad-e2634518225f",
   "metadata": {},
   "source": [
    "Handling exceptions in concurrent programs is crucial because concurrent execution often involves multiple threads or processes working together. If an exception occurs in one thread or process and is not properly handled, it can lead to serious issues such as data corruption, deadlocks, or program crashes.\n",
    "\n",
    "Techniques for Handling Exceptions in Concurrent Programs:\n",
    "Use of  high-level constructs like multiprocessing.Pool which provides built-in error handling and exception propagation.\n",
    "Using Queue Module Utilize thread data structures from the queue or multiprocessing module to pass exceptions back to the main thread/process."
   ]
  },
  {
   "cell_type": "raw",
   "id": "62691a34-7950-4379-a5f1-e4ab311b52b7",
   "metadata": {},
   "source": [
    "7. Create a program that uses a thread pool to calculate the factorial of numbers from 1 to 10 concurrently.Use concurrent.futures.ThreadPoolExecutor to manage the threads."
   ]
  },
  {
   "cell_type": "code",
   "execution_count": 3,
   "id": "7fc5afa8-8f91-41c2-bd97-098e4a47d894",
   "metadata": {},
   "outputs": [
    {
     "name": "stdout",
     "output_type": "stream",
     "text": [
      "Factorial of 1 is 1\n",
      "Factorial of 2 is 2\n",
      "Factorial of 3 is 6\n",
      "Factorial of 4 is 24\n",
      "Factorial of 5 is 120\n",
      "Factorial of 6 is 720\n",
      "Factorial of 7 is 5040\n",
      "Factorial of 8 is 40320\n",
      "Factorial of 9 is 362880\n",
      "Factorial of 10 is 3628800\n"
     ]
    }
   ],
   "source": [
    "import concurrent.futures\n",
    "import math\n",
    "\n",
    "def calculate_factorial(n):\n",
    "    return math.factorial(n)\n",
    "numbers = range(1, 11)\n",
    "\n",
    "with concurrent.futures.ThreadPoolExecutor() as executor:\n",
    "    results = executor.map(calculate_factorial, numbers)\n",
    "for number, result in zip(numbers, results):\n",
    "    print(f\"Factorial of {number} is {result}\")\n"
   ]
  },
  {
   "cell_type": "markdown",
   "id": "1657eafa-a63d-4762-a6a5-45a09c26be1c",
   "metadata": {},
   "source": [
    "8. Create a Python program that uses multiprocessing.Pool to compute the square of numbers from 1 to 10 in parallel. Measure the time taken to perform this computation using a pool of different sizes (e.g., 2, 4, 8 processes)."
   ]
  },
  {
   "cell_type": "code",
   "execution_count": null,
   "id": "a37a89e9-b9dc-4d40-8eb0-89fe79aa5688",
   "metadata": {},
   "outputs": [],
   "source": [
    "import multiprocessing\n",
    "import time\n",
    "\n",
    "def compute_square(n):\n",
    "    return n * n\n",
    "\n",
    "def measure_time(pool_size):\n",
    "    start = time.perf_counter()\n",
    "    with multiprocessing.Pool(pool_size) as pool:\n",
    "        result = pool.map(compute_square, range(1, 11))\n",
    "    end = time.perf_counter()\n",
    "    return result, round(end - start, 4)\n",
    "\n",
    "if __name__ == \"__main__\":\n",
    "    pool_sizes = [2, 4, 8]\n",
    "    \n",
    "    def run_measurements():\n",
    "        for pool_size in pool_sizes:\n",
    "            result, elapsed_time = measure_time(pool_size)\n",
    "            print(f\"Pool size: {pool_size}, Result: {result}, Time taken: {elapsed_time} seconds\")\n",
    "    \n",
    "    run_measurements()\n"
   ]
  },
  {
   "cell_type": "code",
   "execution_count": null,
   "id": "11d45820-9899-42cf-b0be-c63a0a44cebc",
   "metadata": {},
   "outputs": [],
   "source": []
  }
 ],
 "metadata": {
  "kernelspec": {
   "display_name": "Python 3 (ipykernel)",
   "language": "python",
   "name": "python3"
  },
  "language_info": {
   "codemirror_mode": {
    "name": "ipython",
    "version": 3
   },
   "file_extension": ".py",
   "mimetype": "text/x-python",
   "name": "python",
   "nbconvert_exporter": "python",
   "pygments_lexer": "ipython3",
   "version": "3.12.4"
  }
 },
 "nbformat": 4,
 "nbformat_minor": 5
}
