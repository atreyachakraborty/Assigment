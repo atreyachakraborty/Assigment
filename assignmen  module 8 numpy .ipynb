{
 "cells": [
  {
   "cell_type": "markdown",
   "id": "bee209f6-bb8c-4732-a60c-7918c439e16c",
   "metadata": {},
   "source": [
    "THEORETICAL QUESTIONS"
   ]
  },
  {
   "cell_type": "markdown",
   "id": "b905b9fb-20c2-481b-8aba-8e49fddc9550",
   "metadata": {},
   "source": [
    "1. Explain the purpose and advantages of NumPy in scientific computing and data analysis. How does it enhance Python's capabilities for numerical operations?\n",
    "\n",
    "ANS. numpy deals with large amounts of data, offering significant improvement in speed and memory as it uses a type data structure. Also, numpy offers high-level syntax and a wide range of numerical operation\n",
    "\n",
    "Numpy serves uses to solves complex algorithms in the field of probability and statistical analysis"
   ]
  },
  {
   "cell_type": "markdown",
   "id": "03fb064a-2afd-48b8-9337-50aaa81e95d6",
   "metadata": {},
   "source": [
    "2.Compare and contrast np.mean() and np.average() functions in NumPy. When would you use one over the \n",
    "other\n",
    "\n",
    "ans. as np. mean() is used to calculate the average values in an array \n",
    "        np. average() gives weight to the average of the values in an array.\n",
    "\n",
    "when we want unweighted average of data for our computation we use np.mean()\n",
    "when we want weighted avaerage number for our calculation we use np.average()?"
   ]
  },
  {
   "cell_type": "code",
   "execution_count": 1,
   "id": "3e8a86c8-f27e-431d-bdd7-94c09e35a905",
   "metadata": {},
   "outputs": [
    {
     "data": {
      "text/plain": [
       "array([[4, 5, 5],\n",
       "       [4, 1, 1],\n",
       "       [1, 3, 1]], dtype=int32)"
      ]
     },
     "execution_count": 1,
     "metadata": {},
     "output_type": "execute_result"
    }
   ],
   "source": [
    "#3.Describe the methods for reversing a NumPy array along different axes. Provide examples for 1D and 2D \n",
    "#array.\n",
    "\n",
    "#ans. \n",
    "import numpy as np\n",
    "arr1=np.random.randint(1,6,size=(3,3))\n",
    "arr1"
   ]
  },
  {
   "cell_type": "code",
   "execution_count": 3,
   "id": "9089ffdf-1458-45d2-b4e4-382900d3cd97",
   "metadata": {},
   "outputs": [],
   "source": [
    "arr2=np.array([1,2,3,4,5,6])"
   ]
  },
  {
   "cell_type": "code",
   "execution_count": 37,
   "id": "b4bf5e9d-7d0f-4d7f-8432-52c6db228656",
   "metadata": {},
   "outputs": [
    {
     "data": {
      "text/plain": [
       "array([[5, 3, 2],\n",
       "       [5, 4, 2],\n",
       "       [4, 3, 1]], dtype=int32)"
      ]
     },
     "execution_count": 37,
     "metadata": {},
     "output_type": "execute_result"
    }
   ],
   "source": [
    "arr1[::-1]"
   ]
  },
  {
   "cell_type": "code",
   "execution_count": 39,
   "id": "fc438fbc-b658-4532-9aa0-235cfd1bd1e9",
   "metadata": {},
   "outputs": [
    {
     "data": {
      "text/plain": [
       "array([6, 5, 4, 3, 2, 1])"
      ]
     },
     "execution_count": 39,
     "metadata": {},
     "output_type": "execute_result"
    }
   ],
   "source": [
    "arr2[::-1]"
   ]
  },
  {
   "cell_type": "code",
   "execution_count": 47,
   "id": "ad4d4943-334e-451b-bc89-2ac168fa85d7",
   "metadata": {},
   "outputs": [
    {
     "data": {
      "text/plain": [
       "1"
      ]
     },
     "execution_count": 47,
     "metadata": {},
     "output_type": "execute_result"
    }
   ],
   "source": [
    "arr2.ndim"
   ]
  },
  {
   "cell_type": "code",
   "execution_count": null,
   "id": "9af6e9ff-597c-4f98-94b7-34c82044fb73",
   "metadata": {},
   "outputs": [],
   "source": []
  },
  {
   "cell_type": "code",
   "execution_count": 61,
   "id": "dc25a0ea-8fc0-4a8a-89e9-2c3176d9af27",
   "metadata": {},
   "outputs": [
    {
     "data": {
      "text/plain": [
       "array([[4, 3, 1],\n",
       "       [5, 4, 2],\n",
       "       [5, 3, 2]], dtype=int32)"
      ]
     },
     "execution_count": 61,
     "metadata": {},
     "output_type": "execute_result"
    }
   ],
   "source": [
    " #4. How can you determine the data type of elements in a NumPy array? Discuss the importance of data types in memory management and performance.\n",
    "arr1"
   ]
  },
  {
   "cell_type": "code",
   "execution_count": 67,
   "id": "7534094f-f45a-47d3-b3c1-93249c220871",
   "metadata": {},
   "outputs": [
    {
     "data": {
      "text/plain": [
       "dtype('int32')"
      ]
     },
     "execution_count": 67,
     "metadata": {},
     "output_type": "execute_result"
    }
   ],
   "source": [
    "arr1.dtype\n"
   ]
  },
  {
   "cell_type": "markdown",
   "id": "b402afb2-bd90-47cf-864e-ff4468b90a01",
   "metadata": {},
   "source": [
    "for memory managment if we use int32 in place of int64 it will consume less memory , and if we use float 32 inplace of float64 it wil run faster as it consum less CPU power "
   ]
  },
  {
   "cell_type": "markdown",
   "id": "2a96dad7-f1fe-43e7-8216-1e1a3c454ed5",
   "metadata": {},
   "source": [
    "5.Define ndarrays in NumPy and explain their key features. How do they differ from standard Python lists?\n",
    "\n",
    "An ndarray, or N-dimensional array, is a central feature of NumPy that stores homogeneous data types, meaning all elements in the array must be of the same type. Unlike standard Python lists, which can store any kind of data, ndarrays support multiple dimensions, allowing for the representation of complex data structures. \r\n",
    "\r\n",
    "Key features of ndarrays include:\r\n",
    "- Support for vectorized operations, enabling efficient mathematical computations on large datasets.\r\n",
    "- A rich set of mathematical functions that cater to linear algebra, statistics, and random sampling.\r\n",
    "\r\n",
    "In comparison to standard Python lists, ndarrays are generally faster and more efficient in terms of memory consumption. While lists can store various data types, this flexibility comes at the cost of speed and increased memory usage.\n"
   ]
  },
  {
   "cell_type": "markdown",
   "id": "2a7c0e8c-644a-4a1f-82e5-1465af0bedbb",
   "metadata": {},
   "source": [
    " 6. Analyze the performance benefits of NumPy arrays over Python lists for large-scale numerical operations.\n",
    "\n",
    "ans.NumPy Arrays: Offer a vast array of built-in functions for complex mathematical operations (like linear algebra, Fourier transforms).\n",
    "Python Lists: Lack these built-in capabilities and require additional coding or libraries to achieve similar functionality.\n",
    "\n",
    "NumPy Arrays: Store data in contiguous blocks of memory, leading to better  performance and less memory\n",
    "Python Lists: Store references to objects, which means more memory usage and less efficient\n"
   ]
  },
  {
   "cell_type": "code",
   "execution_count": 70,
   "id": "5dbc067e-b482-45b0-b0cf-4dc28d765f4f",
   "metadata": {},
   "outputs": [
    {
     "data": {
      "text/plain": [
       "array([[1, 2, 3],\n",
       "       [4, 5, 6]])"
      ]
     },
     "execution_count": 70,
     "metadata": {},
     "output_type": "execute_result"
    }
   ],
   "source": [
    " #7. Compare vstack() and hstack() functions in NumPy. Provide examples demonstrating their usage and output.\n",
    "\n",
    "#ans. vstack() used for stacking arrays top of one each other\n",
    "#     hstack() used for horizontally stacking array\n",
    "\n",
    "     \n",
    "\n",
    "arr1 = np.array([1, 2, 3]) \n",
    "arr2 = np.array([4, 5, 6])\n",
    "\n",
    "np.vstack((arr1,arr2))\n"
   ]
  },
  {
   "cell_type": "code",
   "execution_count": 72,
   "id": "5659764f-aaa3-44cc-a3c8-f09ccb3a3df1",
   "metadata": {},
   "outputs": [
    {
     "data": {
      "text/plain": [
       "array([1, 2, 3, 4, 5, 6])"
      ]
     },
     "execution_count": 72,
     "metadata": {},
     "output_type": "execute_result"
    }
   ],
   "source": [
    "np.hstack((arr1,arr2))"
   ]
  },
  {
   "cell_type": "code",
   "execution_count": null,
   "id": "d07a5e2e-d7a3-41f9-aae0-e67f8e6657ac",
   "metadata": {},
   "outputs": [],
   "source": []
  },
  {
   "cell_type": "markdown",
   "id": "18219e0e-48e0-4511-a6d6-e69a00644081",
   "metadata": {},
   "source": [
    "#8. Explain the differences between fliplr() and flipud() methods in NumPy, including their effects on various \n",
    "#array dimensions.\n",
    "\n",
    "fliplr()\n",
    "Flips the array in the left/right direction.\n",
    "Reverses the order of columns.\n",
    "Works on arrays of 2 or more dimensions.\n",
    "\n",
    "flipud()\n",
    "Flips the array in the up/down direction.\n",
    "Reverses the order of rows.\n",
    "Works on arrays of 2 or more dimensions."
   ]
  },
  {
   "cell_type": "code",
   "execution_count": 88,
   "id": "18c847aa-795e-4129-9c5f-91f437549f12",
   "metadata": {},
   "outputs": [
    {
     "data": {
      "text/plain": [
       "array([[3, 2, 1],\n",
       "       [6, 5, 4]])"
      ]
     },
     "execution_count": 88,
     "metadata": {},
     "output_type": "execute_result"
    }
   ],
   "source": [
    "arr1=np.array([[1,2,3],[4,5,6]])\n",
    "np.fliplr(arr1)\n",
    "#np.fliplr(arr1)"
   ]
  },
  {
   "cell_type": "code",
   "execution_count": 92,
   "id": "c79a11c5-a529-4402-a604-2f8433e29612",
   "metadata": {},
   "outputs": [
    {
     "data": {
      "text/plain": [
       "array([[4, 5, 6],\n",
       "       [1, 2, 3]])"
      ]
     },
     "execution_count": 92,
     "metadata": {},
     "output_type": "execute_result"
    }
   ],
   "source": [
    "np.flipud(arr1)"
   ]
  },
  {
   "cell_type": "code",
   "execution_count": null,
   "id": "c8e4a168-50f3-41c4-be3d-4b594da0d562",
   "metadata": {},
   "outputs": [],
   "source": []
  },
  {
   "cell_type": "markdown",
   "id": "99d03155-44eb-45d4-9d19-e650c94b6ff3",
   "metadata": {},
   "source": [
    " 9. Discuss the functionality of the array_split() method in NumPy. How does it handle uneven splits?\n",
    "\n",
    "this method in NumPy that allows us to split an array into multiple sub-arrays."
   ]
  },
  {
   "cell_type": "code",
   "execution_count": 102,
   "id": "6a4d66fe-31c8-4b1a-afd9-b8c795d4ee2c",
   "metadata": {},
   "outputs": [
    {
     "name": "stdout",
     "output_type": "stream",
     "text": [
      "[array([[1, 2, 3]]), array([[4, 5, 6]]), array([[7, 8, 9]])]\n"
     ]
    }
   ],
   "source": [
    "arr_2d = np.array([[1, 2, 3], [4, 5, 6], [7, 8, 9]]) \n",
    "new_arr = np.array_split(arr_2d, 3, axis=0) \n",
    "print(new_arr)"
   ]
  },
  {
   "cell_type": "code",
   "execution_count": 110,
   "id": "f829032a-5b10-4e31-bed6-802b3d714375",
   "metadata": {},
   "outputs": [
    {
     "name": "stdout",
     "output_type": "stream",
     "text": [
      "[array([1, 2, 3]), array([4, 5]), array([6, 7])]\n"
     ]
    }
   ],
   "source": [
    "#for un even data type\n",
    "arr = np.array([1, 2, 3, 4, 5, 6,7]) \n",
    "arr2 = np.array_split(arr, 3) \n",
    "print(arr2)\n",
    "\n"
   ]
  },
  {
   "cell_type": "code",
   "execution_count": 112,
   "id": "8aab8ad6-3809-4bdc-8975-89e13462b031",
   "metadata": {},
   "outputs": [
    {
     "name": "stdout",
     "output_type": "stream",
     "text": [
      "[array([1, 2, 3]), array([4, 5]), array([6, 7])]\n"
     ]
    }
   ],
   "source": [
    "arr = np.array([1, 2, 3, 4, 5, 6, 7]) \n",
    "arr3 = np.array_split(arr, 3) \n",
    "print(arr3)"
   ]
  },
  {
   "cell_type": "code",
   "execution_count": null,
   "id": "9c4a0f46-dd29-4550-85b6-254bb00e5b18",
   "metadata": {},
   "outputs": [],
   "source": []
  },
  {
   "cell_type": "markdown",
   "id": "4f8f4a6c-669f-4ac2-b1da-85850bb376b5",
   "metadata": {},
   "source": [
    " 10. Explain the concepts of vectorization and broadcasting in NumPy. How do they contribute to efficient array operations?\n",
    "\n",
    "Broadcasting allows NumPy to perform operations on arrays of different shapes by automatically expanding their dimensions to make them compatible\n",
    "\n",
    "Vectorization refers to the ability of NumPy to apply operations to entire arrays at once, without the need for explicit loops."
   ]
  },
  {
   "cell_type": "code",
   "execution_count": 116,
   "id": "fa568704-377f-45ef-8008-9ba2635ebde9",
   "metadata": {},
   "outputs": [
    {
     "data": {
      "text/plain": [
       "array([[ 6,  7,  8],\n",
       "       [ 9, 10, 11],\n",
       "       [12, 13, 14]])"
      ]
     },
     "execution_count": 116,
     "metadata": {},
     "output_type": "execute_result"
    }
   ],
   "source": [
    "arr_2d+5 #vectorized"
   ]
  },
  {
   "cell_type": "code",
   "execution_count": 120,
   "id": "a2930a93-7200-40b2-ae4a-7c5171d808ff",
   "metadata": {},
   "outputs": [
    {
     "data": {
      "text/plain": [
       "array([[1, 2, 3, 4, 5, 6, 7, 8, 9]])"
      ]
     },
     "execution_count": 120,
     "metadata": {},
     "output_type": "execute_result"
    }
   ],
   "source": [
    "arr_2d.reshape(1,9) #broadcasting"
   ]
  },
  {
   "cell_type": "code",
   "execution_count": null,
   "id": "b7919bf6-2568-4c17-9180-ada5da44b3c3",
   "metadata": {},
   "outputs": [],
   "source": []
  },
  {
   "cell_type": "code",
   "execution_count": null,
   "id": "82817c08-6d51-4ea2-b206-c222bc18093d",
   "metadata": {},
   "outputs": [],
   "source": []
  },
  {
   "cell_type": "markdown",
   "id": "d584e62a-2d34-4302-8ea3-1d20d302fd06",
   "metadata": {},
   "source": [
    "1. Create a 3x3 NumPy array with random integers between 1 and 100. Then, interchange its rows and columns"
   ]
  },
  {
   "cell_type": "code",
   "execution_count": 9,
   "id": "f536cff1-b12a-4c0d-9bf0-0f8bfe9583b4",
   "metadata": {},
   "outputs": [
    {
     "data": {
      "text/plain": [
       "array([[87, 67, 40],\n",
       "       [42, 16, 96],\n",
       "       [27, 52, 70]], dtype=int32)"
      ]
     },
     "execution_count": 9,
     "metadata": {},
     "output_type": "execute_result"
    }
   ],
   "source": [
    "arr4=np.random.randint(1,100,size= (3,3))\n",
    "arr4"
   ]
  },
  {
   "cell_type": "code",
   "execution_count": 11,
   "id": "72ceb23f-ccc0-43b4-bc2d-27f5cad32886",
   "metadata": {},
   "outputs": [
    {
     "data": {
      "text/plain": [
       "array([[87, 42, 27],\n",
       "       [67, 16, 52],\n",
       "       [40, 96, 70]], dtype=int32)"
      ]
     },
     "execution_count": 11,
     "metadata": {},
     "output_type": "execute_result"
    }
   ],
   "source": [
    "arr4.T\n"
   ]
  },
  {
   "cell_type": "code",
   "execution_count": null,
   "id": "31dbf351-1524-4aa1-b911-1fe507a80acd",
   "metadata": {},
   "outputs": [],
   "source": []
  },
  {
   "cell_type": "markdown",
   "id": "2d2c6e73-9b9b-40fd-949e-bb8a67ece8b9",
   "metadata": {},
   "source": [
    "2. Generate a 1D NumPy array with 10 elements. Reshape it into a 2x5 array, then into a 5x2 array"
   ]
  },
  {
   "cell_type": "code",
   "execution_count": 17,
   "id": "527d8521-99d3-44c9-8410-edba47baedff",
   "metadata": {},
   "outputs": [
    {
     "data": {
      "text/plain": [
       "array([ 1,  2,  3,  4,  5,  6,  7,  8,  9, 10])"
      ]
     },
     "execution_count": 17,
     "metadata": {},
     "output_type": "execute_result"
    }
   ],
   "source": [
    "arr2=np.array([1,2,3,4,5,6,7,8,9,10])\n",
    "arr2"
   ]
  },
  {
   "cell_type": "code",
   "execution_count": 21,
   "id": "0db59245-f37c-4923-bc4e-1a1f54584fa5",
   "metadata": {},
   "outputs": [
    {
     "data": {
      "text/plain": [
       "array([[ 1,  2,  3,  4,  5],\n",
       "       [ 6,  7,  8,  9, 10]])"
      ]
     },
     "execution_count": 21,
     "metadata": {},
     "output_type": "execute_result"
    }
   ],
   "source": [
    "arr2.reshape(2,5)"
   ]
  },
  {
   "cell_type": "code",
   "execution_count": 23,
   "id": "cd63ceaf-7be8-4be5-8812-b70dfefb734b",
   "metadata": {},
   "outputs": [
    {
     "data": {
      "text/plain": [
       "array([[ 1,  2],\n",
       "       [ 3,  4],\n",
       "       [ 5,  6],\n",
       "       [ 7,  8],\n",
       "       [ 9, 10]])"
      ]
     },
     "execution_count": 23,
     "metadata": {},
     "output_type": "execute_result"
    }
   ],
   "source": [
    "arr2.reshape(5,2)"
   ]
  },
  {
   "cell_type": "code",
   "execution_count": null,
   "id": "e238b78f-3632-4519-9408-0c41003b2d17",
   "metadata": {},
   "outputs": [],
   "source": []
  },
  {
   "cell_type": "markdown",
   "id": "6a423ae1-06a9-41ed-b2ab-36042d0e0de9",
   "metadata": {},
   "source": [
    " 3. Create a 4x4 NumPy array with random float values. Add a border of zeros around it, resulting in a 6x6 array"
   ]
  },
  {
   "cell_type": "code",
   "execution_count": 47,
   "id": "e030d8db-512f-4ae8-b0e8-273097757e8d",
   "metadata": {},
   "outputs": [
    {
     "data": {
      "text/plain": [
       "array([[0.03216627, 0.17577448, 0.80801288, 0.19077265],\n",
       "       [0.81650642, 0.97222042, 0.15409688, 0.27559471],\n",
       "       [0.99509236, 0.58503415, 0.54225207, 0.91549061],\n",
       "       [0.89614326, 0.12795522, 0.8437099 , 0.0778894 ]])"
      ]
     },
     "execution_count": 47,
     "metadata": {},
     "output_type": "execute_result"
    }
   ],
   "source": [
    "arr=np.random.rand(4,4)\n",
    "arr"
   ]
  },
  {
   "cell_type": "code",
   "execution_count": 49,
   "id": "ca9036f2-91c8-48cc-b6c8-227dfca6d821",
   "metadata": {},
   "outputs": [
    {
     "name": "stdout",
     "output_type": "stream",
     "text": [
      "[[0.57497344 0.77909969 0.16535932 0.06625076]\n",
      " [0.50934851 0.47447744 0.26679778 0.392757  ]\n",
      " [0.93913191 0.12717525 0.86984103 0.54386542]\n",
      " [0.56275774 0.4260786  0.25461256 0.10276333]]\n",
      "[[0.         0.         0.         0.         0.         0.        ]\n",
      " [0.         0.57497344 0.77909969 0.16535932 0.06625076 0.        ]\n",
      " [0.         0.50934851 0.47447744 0.26679778 0.392757   0.        ]\n",
      " [0.         0.93913191 0.12717525 0.86984103 0.54386542 0.        ]\n",
      " [0.         0.56275774 0.4260786  0.25461256 0.10276333 0.        ]\n",
      " [0.         0.         0.         0.         0.         0.        ]]\n"
     ]
    }
   ],
   "source": [
    "\n",
    "inner_array = np.random.rand(4, 4)\n",
    "\n",
    "bordered_array = np.zeros((6, 6))\n",
    "\n",
    "bordered_array[1:5, 1:5] = inner_array\n",
    "\n",
    "print(inner_array)\n",
    "print(bordered_array)"
   ]
  },
  {
   "cell_type": "code",
   "execution_count": null,
   "id": "ed0f9043-2314-4bd6-9e6d-0a79772440fc",
   "metadata": {},
   "outputs": [],
   "source": []
  },
  {
   "cell_type": "markdown",
   "id": "4a2932f4-6be9-44b1-b06d-210c593fae06",
   "metadata": {},
   "source": [
    " 4. Using NumPy, create an array of integers from 10 to 60 with a step of 5."
   ]
  },
  {
   "cell_type": "code",
   "execution_count": 51,
   "id": "8a3715aa-22b4-4e26-94f1-4b007ff0d1e5",
   "metadata": {},
   "outputs": [
    {
     "data": {
      "text/plain": [
       "array([10, 15, 20, 25, 30, 35, 40, 45, 50, 55])"
      ]
     },
     "execution_count": 51,
     "metadata": {},
     "output_type": "execute_result"
    }
   ],
   "source": [
    "np.arange(10,60,5)"
   ]
  },
  {
   "cell_type": "code",
   "execution_count": null,
   "id": "e7168099-6e35-4cb9-bdac-d609b471d607",
   "metadata": {},
   "outputs": [],
   "source": []
  },
  {
   "cell_type": "markdown",
   "id": "d8197166-38a7-477c-9749-02c57b10872e",
   "metadata": {},
   "source": [
    " 5. Create a NumPy array of strings ['python', 'numpy', 'pandas']. Apply different case transformations \n",
    "(uppercase, lowercase, title case, etc.) to each element."
   ]
  },
  {
   "cell_type": "code",
   "execution_count": 61,
   "id": "6b702b2f-2c21-49d6-b5dc-906c6b0e7ec9",
   "metadata": {},
   "outputs": [
    {
     "data": {
      "text/plain": [
       "array(['python', 'numpy', 'pandas'], dtype='<U6')"
      ]
     },
     "execution_count": 61,
     "metadata": {},
     "output_type": "execute_result"
    }
   ],
   "source": [
    "l=\"python,numpy,pandas\"\n",
    "l.split(\",\")\n",
    "arr=np.array(l.split(\",\"))\n",
    "arr"
   ]
  },
  {
   "cell_type": "code",
   "execution_count": 63,
   "id": "4bfe19cc-cbff-4965-9edb-534c343ffabf",
   "metadata": {},
   "outputs": [
    {
     "data": {
      "text/plain": [
       "array(['PYTHON', 'NUMPY', 'PANDAS'], dtype='<U6')"
      ]
     },
     "execution_count": 63,
     "metadata": {},
     "output_type": "execute_result"
    }
   ],
   "source": [
    "np.char.upper(arr)"
   ]
  },
  {
   "cell_type": "code",
   "execution_count": 65,
   "id": "9e884bc6-0e23-4f8b-9336-79f19864d1c4",
   "metadata": {},
   "outputs": [
    {
     "data": {
      "text/plain": [
       "array(['Python', 'Numpy', 'Pandas'], dtype='<U6')"
      ]
     },
     "execution_count": 65,
     "metadata": {},
     "output_type": "execute_result"
    }
   ],
   "source": [
    "np.char.capitalize(arr)"
   ]
  },
  {
   "cell_type": "code",
   "execution_count": 67,
   "id": "55595601-7d6d-408b-a638-f6182671123a",
   "metadata": {},
   "outputs": [
    {
     "data": {
      "text/plain": [
       "array(['Python', 'Numpy', 'Pandas'], dtype='<U6')"
      ]
     },
     "execution_count": 67,
     "metadata": {},
     "output_type": "execute_result"
    }
   ],
   "source": [
    "np.char.title(arr)"
   ]
  },
  {
   "cell_type": "code",
   "execution_count": null,
   "id": "80842afc-7aeb-4ce3-847e-787f27587d51",
   "metadata": {},
   "outputs": [],
   "source": []
  },
  {
   "cell_type": "markdown",
   "id": "77f408f1-6817-4427-98f9-174ceaa8c975",
   "metadata": {},
   "source": [
    " 6. Generate a NumPy array of words. Insert a space between each character of every word in the array"
   ]
  },
  {
   "cell_type": "code",
   "execution_count": 75,
   "id": "47e2876f-4ccd-4e78-80da-f255db7bc487",
   "metadata": {},
   "outputs": [
    {
     "data": {
      "text/plain": [
       "array(['pwskill', 'data', 'atreya'], dtype='<U7')"
      ]
     },
     "execution_count": 75,
     "metadata": {},
     "output_type": "execute_result"
    }
   ],
   "source": [
    "arr=np.array([\"pwskill\",\"data\",\"atreya\"])\n",
    "arr"
   ]
  },
  {
   "cell_type": "code",
   "execution_count": 79,
   "id": "1c5e6037-c849-436a-b277-873a99866948",
   "metadata": {},
   "outputs": [
    {
     "data": {
      "text/plain": [
       "array(['p w s k i l l', 'd a t a', 'a t r e y a'], dtype='<U13')"
      ]
     },
     "execution_count": 79,
     "metadata": {},
     "output_type": "execute_result"
    }
   ],
   "source": [
    "np.char.join(\" \",arr)"
   ]
  },
  {
   "cell_type": "code",
   "execution_count": null,
   "id": "fe38f644-5fe3-4b71-bfb9-3647e8847ec4",
   "metadata": {},
   "outputs": [],
   "source": []
  },
  {
   "cell_type": "markdown",
   "id": "703ca82b-b6d8-4152-8feb-df5a4e6a2a2d",
   "metadata": {},
   "source": [
    "7. Create two 2D NumPy arrays and perform element-wise addition, subtraction, multiplication, and division."
   ]
  },
  {
   "cell_type": "code",
   "execution_count": 81,
   "id": "f9e48833-49d8-4f91-911e-792348f89c14",
   "metadata": {},
   "outputs": [
    {
     "data": {
      "text/plain": [
       "array([[1, 2, 3],\n",
       "       [4, 5, 6],\n",
       "       [7, 8, 9]])"
      ]
     },
     "execution_count": 81,
     "metadata": {},
     "output_type": "execute_result"
    }
   ],
   "source": [
    "arr=np.array([[1,2,3],[4,5,6],[7,8,9]])\n",
    "arr"
   ]
  },
  {
   "cell_type": "code",
   "execution_count": 83,
   "id": "c66761b5-52c1-460f-8b71-4c00c7bb3474",
   "metadata": {},
   "outputs": [
    {
     "data": {
      "text/plain": [
       "array([[ 6,  7,  8],\n",
       "       [ 9, 10, 11],\n",
       "       [12, 13, 14]])"
      ]
     },
     "execution_count": 83,
     "metadata": {},
     "output_type": "execute_result"
    }
   ],
   "source": [
    "arr+5"
   ]
  },
  {
   "cell_type": "code",
   "execution_count": 85,
   "id": "08a5d2c3-aa21-409e-91a7-74ac253e0794",
   "metadata": {},
   "outputs": [
    {
     "data": {
      "text/plain": [
       "array([[-4, -3, -2],\n",
       "       [-1,  0,  1],\n",
       "       [ 2,  3,  4]])"
      ]
     },
     "execution_count": 85,
     "metadata": {},
     "output_type": "execute_result"
    }
   ],
   "source": [
    "arr-5"
   ]
  },
  {
   "cell_type": "code",
   "execution_count": 87,
   "id": "b22cda6a-2930-4a0d-995c-9f73a38d9b3a",
   "metadata": {},
   "outputs": [
    {
     "data": {
      "text/plain": [
       "array([[0.5, 1. , 1.5],\n",
       "       [2. , 2.5, 3. ],\n",
       "       [3.5, 4. , 4.5]])"
      ]
     },
     "execution_count": 87,
     "metadata": {},
     "output_type": "execute_result"
    }
   ],
   "source": [
    "arr/2"
   ]
  },
  {
   "cell_type": "code",
   "execution_count": 89,
   "id": "4c3c4b32-eae9-4223-a739-ba85abe8d337",
   "metadata": {},
   "outputs": [
    {
     "data": {
      "text/plain": [
       "array([[ 2,  4,  6],\n",
       "       [ 8, 10, 12],\n",
       "       [14, 16, 18]])"
      ]
     },
     "execution_count": 89,
     "metadata": {},
     "output_type": "execute_result"
    }
   ],
   "source": [
    "arr*2"
   ]
  },
  {
   "cell_type": "code",
   "execution_count": null,
   "id": "278f23ca-9c73-4f9c-8f40-4a253c6d9b21",
   "metadata": {},
   "outputs": [],
   "source": []
  },
  {
   "cell_type": "markdown",
   "id": "ad923ff6-3df9-408f-aa8e-d1946181218c",
   "metadata": {},
   "source": [
    " 8. Use NumPy to create a 5x5 identity matrix, then extract its diagonal elements."
   ]
  },
  {
   "cell_type": "code",
   "execution_count": 93,
   "id": "f317c63c-af68-4f78-b45d-71584bbb15dd",
   "metadata": {},
   "outputs": [
    {
     "data": {
      "text/plain": [
       "array([[1., 0., 0., 0., 0.],\n",
       "       [0., 1., 0., 0., 0.],\n",
       "       [0., 0., 1., 0., 0.],\n",
       "       [0., 0., 0., 1., 0.],\n",
       "       [0., 0., 0., 0., 1.]])"
      ]
     },
     "execution_count": 93,
     "metadata": {},
     "output_type": "execute_result"
    }
   ],
   "source": [
    "arr=np.eye(5,5) \n",
    "arr"
   ]
  },
  {
   "cell_type": "code",
   "execution_count": 105,
   "id": "cb06b2e5-d263-4b14-835e-7d106c744b2a",
   "metadata": {},
   "outputs": [
    {
     "data": {
      "text/plain": [
       "array([[1., 0., 0., 0., 0.]])"
      ]
     },
     "execution_count": 105,
     "metadata": {},
     "output_type": "execute_result"
    }
   ],
   "source": [
    "arr_1=arr[0:5][0:1]\n",
    "arr_1"
   ]
  },
  {
   "cell_type": "code",
   "execution_count": null,
   "id": "913acfcd-0612-4d60-a08d-9e4abbae6669",
   "metadata": {},
   "outputs": [],
   "source": []
  },
  {
   "cell_type": "markdown",
   "id": "3088deed-dc28-4db4-a322-ad0f3d27d6a4",
   "metadata": {},
   "source": [
    " 9. Generate a NumPy array of 100 random integers between 0 and 1000. Find and display all prime numbers in \n",
    "this array."
   ]
  },
  {
   "cell_type": "code",
   "execution_count": 197,
   "id": "4a17f0cb-0999-420b-b656-bafb4ac5116f",
   "metadata": {},
   "outputs": [
    {
     "data": {
      "text/plain": [
       "array([[48, 75, 43],\n",
       "       [28, 70, 40],\n",
       "       [13,  7, 93]], dtype=int32)"
      ]
     },
     "execution_count": 197,
     "metadata": {},
     "output_type": "execute_result"
    }
   ],
   "source": [
    "arr=np.random.randint(0,100,size=(3,3))\n",
    "arr"
   ]
  },
  {
   "cell_type": "code",
   "execution_count": 205,
   "id": "67da0ce6-a571-4cd5-bb0a-d1cec69f47db",
   "metadata": {},
   "outputs": [
    {
     "data": {
      "text/plain": [
       "array([], dtype=int32)"
      ]
     },
     "execution_count": 205,
     "metadata": {},
     "output_type": "execute_result"
    }
   ],
   "source": [
    "def prime(num):\n",
    "    if num < 2:\n",
    "        return False\n",
    "    for i in range(2, int(np.sqr(num)) + 1):\n",
    "        if num % i == 0:\n",
    "            return False\n",
    "    return True\n",
    "prime_flags = np.vectorize(prime)(arr)\n",
    "\n",
    "arr[prime_flags]\n",
    "\n",
    "#print(\"Prime numbers in the array:\",arr[prime_flags] )\n"
   ]
  },
  {
   "cell_type": "code",
   "execution_count": null,
   "id": "7eea776f-baf8-45ac-af9f-76710a3b33c3",
   "metadata": {},
   "outputs": [],
   "source": []
  },
  {
   "cell_type": "markdown",
   "id": "0cbc97b5-a31f-4135-853d-30aad5ff63b9",
   "metadata": {},
   "source": [
    "10. Create a NumPy array representing daily temperatures for a month. Calculate and display the weekly \n",
    "averages."
   ]
  },
  {
   "cell_type": "code",
   "execution_count": 211,
   "id": "5f4f89a1-7b27-4814-bec0-b3b29aefe41d",
   "metadata": {},
   "outputs": [
    {
     "data": {
      "text/plain": [
       "array([[35, 29, 33, 39, 38, 31, 34],\n",
       "       [42, 33, 41, 40, 31, 33, 42],\n",
       "       [39, 33, 35, 30, 39, 32, 40],\n",
       "       [30, 41, 33, 31, 42, 33, 38]], dtype=int32)"
      ]
     },
     "execution_count": 211,
     "metadata": {},
     "output_type": "execute_result"
    }
   ],
   "source": [
    "\n",
    "arr=np.random.randint(29,43,size=(4,7))\n",
    "arr"
   ]
  },
  {
   "cell_type": "code",
   "execution_count": 235,
   "id": "ccd1a0a8-2096-4732-af64-1fa59f969dde",
   "metadata": {},
   "outputs": [],
   "source": [
    "arr2=arr[0:8][0:1]"
   ]
  },
  {
   "cell_type": "code",
   "execution_count": 239,
   "id": "2d9a528f-7e5a-45eb-a38d-148a91137dd1",
   "metadata": {},
   "outputs": [
    {
     "name": "stdout",
     "output_type": "stream",
     "text": [
      "average temperature of this week is 34.142857142857146\n"
     ]
    }
   ],
   "source": [
    "average_temp=np.average(arr2)\n",
    "print(\"average temperature of this week is\",average_temp )"
   ]
  },
  {
   "cell_type": "code",
   "execution_count": null,
   "id": "6d218f0d-0162-4c85-93b6-7006d5c5dfd4",
   "metadata": {},
   "outputs": [],
   "source": []
  }
 ],
 "metadata": {
  "kernelspec": {
   "display_name": "Python 3 (ipykernel)",
   "language": "python",
   "name": "python3"
  },
  "language_info": {
   "codemirror_mode": {
    "name": "ipython",
    "version": 3
   },
   "file_extension": ".py",
   "mimetype": "text/x-python",
   "name": "python",
   "nbconvert_exporter": "python",
   "pygments_lexer": "ipython3",
   "version": "3.12.4"
  }
 },
 "nbformat": 4,
 "nbformat_minor": 5
}
