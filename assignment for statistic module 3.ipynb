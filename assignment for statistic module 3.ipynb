{
 "cells": [
  {
   "cell_type": "markdown",
   "id": "82eeaad1",
   "metadata": {},
   "source": [
    " # Write a Python program to perform a Z-test for comparing a sample mean to a known population mean and interpret the results"
   ]
  },
  {
   "cell_type": "markdown",
   "id": "d18ea8d5",
   "metadata": {},
   "source": [
    "1. What is hypothesis testing in statistics?\n",
    "Hypothesis testing is a statistical method used to determine whether there is enough evidence to support or reject a given claim about a population based on sample data.\n",
    "2. What is the null hypothesis, and how does it differ from the alternative hypothesis?\n",
    "•\tNull Hypothesis (H₀): The default assumption that there is no effect or difference.\n",
    "•\tAlternative Hypothesis (H₁ or Ha): Opposes H₀, asserting that there is a statistically significant effect or difference.\n",
    "3. What is the significance level in hypothesis testing, and why is it important?\n",
    "The significance level (denoted as α) is the probability of rejecting the null hypothesis when it is actually true. It helps control Type 1 errors. Common values are 0.05 (5%) or 0.01 (1%).\n",
    "4. What does a P-value represent in hypothesis testing?\n",
    "The P-value indicates the probability of obtaining results at least as extreme as the observed data, assuming the null hypothesis is true.\n",
    "5. How do you interpret the P-value in hypothesis testing?\n",
    "•\tIf P ≤ α, reject the null hypothesis (strong evidence against H₀).\n",
    "•\tIf P > α, fail to reject the null hypothesis (not enough evidence to support H₁).\n",
    "6. What are Type 1 and Type 2 errors in hypothesis testing?\n",
    "•\tType 1 Error (False Positive): Rejecting a true H₀.\n",
    "•\tType 2 Error (False Negative): Failing to reject a false H₀.\n",
    "7. What is the difference between a one-tailed and a two-tailed test in hypothesis testing?\n",
    "•\tOne-Tailed: Tests for an effect in only one direction.\n",
    "•\tTwo-Tailed: Tests for an effect in both directions.\n",
    "8. What is the Z-test, and when is it used in hypothesis testing?\n",
    "The Z-test is used when the population variance is known and the sample size is large (n ≥ 30).\n",
    "9. How do you calculate the Z-score, and what does it represent in hypothesis testing?\n",
    "The Z-score formula:\n",
    "[ Z = \\frac{(X - \\mu)}{\\sigma} ] Where:\n",
    "•\t(X) = observed value\n",
    "•\t( \\mu ) = mean\n",
    "•\t( \\sigma ) = standard deviation\n",
    "The Z-score indicates how many standard deviations a value is from the mean.\n",
    "10. What is the T-distribution, and when should it be used instead of the normal distribution?\n",
    "The T-distribution is used when the sample size is small (n < 30) and the population variance is unknown.\n",
    "11. What is the difference between a Z-test and a T-test?\n",
    "•\tZ-test: Used for large samples with known population variance.\n",
    "•\tT-test: Used for small samples when population variance is unknown.\n",
    "12. What is the T-test, and how is it used in hypothesis testing?\n",
    "A T-test compares the means of two groups to determine if there is a statistically significant difference.\n",
    "13. What is the relationship between the Z-test and the T-test in hypothesis testing?\n",
    "Both compare means, but the Z-test requires a large sample with known variance, whereas the T-test is used for smaller samples with unknown variance.\n",
    "14. What is a confidence interval, and how is it used to interpret statistical results?\n",
    "A confidence interval (CI) provides a range of values within which the true population parameter likely falls, helping assess uncertainty in estimates.\n",
    "15. What is the margin of error, and how does it affect the confidence interval?\n",
    "The margin of error reflects uncertainty in estimates; a larger margin results in a wider confidence interval.\n",
    "16. How is Bayes' Theorem used in statistics, and what is its significance?\n",
    "Bayes’ Theorem updates probabilities based on prior evidence. It is widely used in machine learning and medical diagnoses.\n",
    "17. What is the Chi-square distribution, and when is it used?\n",
    "The Chi-square distribution is used for categorical data, particularly in goodness-of-fit and independence tests.\n",
    "18. What is the Chi-square goodness of fit test, and how is it applied?\n",
    "This test determines if observed categorical data matches expected distributions.\n",
    "19. What is the F-distribution, and when is it used in hypothesis testing?\n",
    "The F-distribution is used in variance comparison tests, such as ANOVA and regression analysis.\n",
    "20. What is an ANOVA test, and what are its assumptions?\n",
    "The ANOVA test compares means across multiple groups, assuming:\n",
    "•\tNormal distribution of data\n",
    "•\tEqual variances\n",
    "•\tIndependence of observations\n",
    "21. What are the different types of ANOVA tests?\n",
    "•\tOne-Way ANOVA: Compares means of three or more groups.\n",
    "•\tTwo-Way ANOVA: Compares means with two independent variables.\n",
    "22. What is the F-test, and how does it relate to hypothesis testing?\n",
    "The F-test is used to compare variances between groups and is central to ANOVA and regression models.\n",
    "\n"
   ]
  },
  {
   "cell_type": "markdown",
   "id": "96a26d70",
   "metadata": {},
   "source": [
    "1. What is hypothesis testing in statistics?\n",
    "Hypothesis testing is a statistical method used to determine whether there is enough evidence to support or reject a given claim about a population based on sample data.\n",
    "2. What is the null hypothesis, and how does it differ from the alternative hypothesis?\n",
    "•\tNull Hypothesis (H₀): The default assumption that there is no effect or difference.\n",
    "•\tAlternative Hypothesis (H₁ or Ha): Opposes H₀, asserting that there is a statistically significant effect or difference.\n",
    "3. What is the significance level in hypothesis testing, and why is it important?\n",
    "The significance level (denoted as α) is the probability of rejecting the null hypothesis when it is actually true. It helps control Type 1 errors. Common values are 0.05 (5%) or 0.01 (1%).\n",
    "4. What does a P-value represent in hypothesis testing?\n",
    "The P-value indicates the probability of obtaining results at least as extreme as the observed data, assuming the null hypothesis is true.\n",
    "5. How do you interpret the P-value in hypothesis testing?\n",
    "•\tIf P ≤ α, reject the null hypothesis (strong evidence against H₀).\n",
    "•\tIf P > α, fail to reject the null hypothesis (not enough evidence to support H₁).\n",
    "6. What are Type 1 and Type 2 errors in hypothesis testing?\n",
    "•\tType 1 Error (False Positive): Rejecting a true H₀.\n",
    "•\tType 2 Error (False Negative): Failing to reject a false H₀.\n",
    "7. What is the difference between a one-tailed and a two-tailed test in hypothesis testing?\n",
    "•\tOne-Tailed: Tests for an effect in only one direction.\n",
    "•\tTwo-Tailed: Tests for an effect in both directions.\n",
    "8. What is the Z-test, and when is it used in hypothesis testing?\n",
    "The Z-test is used when the population variance is known and the sample size is large (n ≥ 30).\n",
    "9. How do you calculate the Z-score, and what does it represent in hypothesis testing?\n",
    "The Z-score formula:\n",
    "[ Z = \\frac{(X - \\mu)}{\\sigma} ] Where:\n",
    "•\t(X) = observed value\n",
    "•\t( \\mu ) = mean\n",
    "•\t( \\sigma ) = standard deviation\n",
    "The Z-score indicates how many standard deviations a value is from the mean.\n",
    "10. What is the T-distribution, and when should it be used instead of the normal distribution?\n",
    "The T-distribution is used when the sample size is small (n < 30) and the population variance is unknown.\n",
    "11. What is the difference between a Z-test and a T-test?\n",
    "•\tZ-test: Used for large samples with known population variance.\n",
    "•\tT-test: Used for small samples when population variance is unknown.\n",
    "12. What is the T-test, and how is it used in hypothesis testing?\n",
    "A T-test compares the means of two groups to determine if there is a statistically significant difference.\n",
    "13. What is the relationship between the Z-test and the T-test in hypothesis testing?\n",
    "Both compare means, but the Z-test requires a large sample with known variance, whereas the T-test is used for smaller samples with unknown variance.\n",
    "14. What is a confidence interval, and how is it used to interpret statistical results?\n",
    "A confidence interval (CI) provides a range of values within which the true population parameter likely falls, helping assess uncertainty in estimates.\n",
    "15. What is the margin of error, and how does it affect the confidence interval?\n",
    "The margin of error reflects uncertainty in estimates; a larger margin results in a wider confidence interval.\n",
    "16. How is Bayes' Theorem used in statistics, and what is its significance?\n",
    "Bayes’ Theorem updates probabilities based on prior evidence. It is widely used in machine learning and medical diagnoses.\n",
    "17. What is the Chi-square distribution, and when is it used?\n",
    "The Chi-square distribution is used for categorical data, particularly in goodness-of-fit and independence tests.\n",
    "18. What is the Chi-square goodness of fit test, and how is it applied?\n",
    "This test determines if observed categorical data matches expected distributions.\n",
    "19. What is the F-distribution, and when is it used in hypothesis testing?\n",
    "The F-distribution is used in variance comparison tests, such as ANOVA and regression analysis.\n",
    "20. What is an ANOVA test, and what are its assumptions?\n",
    "The ANOVA test compares means across multiple groups, assuming:\n",
    "•\tNormal distribution of data\n",
    "•\tEqual variances\n",
    "•\tIndependence of observations\n",
    "21. What are the different types of ANOVA tests?\n",
    "•\tOne-Way ANOVA: Compares means of three or more groups.\n",
    "•\tTwo-Way ANOVA: Compares means with two independent variables.\n",
    "22. What is the F-test, and how does it relate to hypothesis testing?\n",
    "The F-test is used to compare variances between groups and is central to ANOVA and regression models.\n",
    "\n"
   ]
  },
  {
   "cell_type": "code",
   "execution_count": 1,
   "id": "bbd48615",
   "metadata": {},
   "outputs": [
    {
     "name": "stdout",
     "output_type": "stream",
     "text": [
      "Z-Score: -2.7386127875258306, P-Value: 0.00616989932054416\n"
     ]
    }
   ],
   "source": [
    "import scipy.stats as stats\n",
    "\n",
    "sample_mean = 50\n",
    "pop_mean = 55\n",
    "std_dev = 10\n",
    "sample_size = 30\n",
    "\n",
    "z_score = (sample_mean - pop_mean) / (std_dev / (sample_size ** 0.5))\n",
    "p_value = stats.norm.sf(abs(z_score)) * 2  # Two-tailed test\n",
    "\n",
    "print(f\"Z-Score: {z_score}, P-Value: {p_value}\")"
   ]
  },
  {
   "cell_type": "markdown",
   "id": "14144647",
   "metadata": {},
   "source": [
    "# Simulate random data to perform hypothesis testing and calculate the corresponding P-value using Python@"
   ]
  },
  {
   "cell_type": "code",
   "execution_count": 2,
   "id": "3c3b504e",
   "metadata": {},
   "outputs": [
    {
     "name": "stdout",
     "output_type": "stream",
     "text": [
      "Sample Mean: 50.51852613427687\n"
     ]
    }
   ],
   "source": [
    "import numpy as np\n",
    "\n",
    "data = np.random.normal(loc=50, scale=10, size=100)\n",
    "sample_mean = np.mean(data)\n",
    "print(f\"Sample Mean: {sample_mean}\")"
   ]
  },
  {
   "cell_type": "markdown",
   "id": "27fe2cb3",
   "metadata": {},
   "source": [
    "# @ Implement a one-sample Z-test using Python to compare the sample mean with the population mean@"
   ]
  },
  {
   "cell_type": "code",
   "execution_count": 3,
   "id": "3515bc04",
   "metadata": {},
   "outputs": [
    {
     "name": "stdout",
     "output_type": "stream",
     "text": [
      "Z-Statistic: -3.5822582556626106, P-Value: 0.0003406367906215962\n"
     ]
    }
   ],
   "source": [
    "from statsmodels.stats.weightstats import ztest\n",
    "\n",
    "data = np.random.normal(50, 10, 30)\n",
    "z_stat, p_val = ztest(data, value=55)\n",
    "print(f\"Z-Statistic: {z_stat}, P-Value: {p_val}\")"
   ]
  },
  {
   "cell_type": "markdown",
   "id": "bf41fd65",
   "metadata": {},
   "source": [
    "#  Perform a two-tailed Z-test using Python and visualize the decision region on a plot@"
   ]
  },
  {
   "cell_type": "code",
   "execution_count": 4,
   "id": "a1f0d5e6",
   "metadata": {},
   "outputs": [
    {
     "data": {
      "image/png": "[encoded data removed]",
      "text/plain": [
       "<Figure size 640x480 with 1 Axes>"
      ]
     },
     "metadata": {},
     "output_type": "display_data"
    }
   ],
   "source": [
    "import matplotlib.pyplot as plt\n",
    "import scipy.stats as stats\n",
    "\n",
    "x = np.linspace(-3, 3, 100)\n",
    "y = stats.norm.pdf(x)\n",
    "\n",
    "plt.plot(x, y)\n",
    "plt.axvline(-1.96, color='red', linestyle='dashed')\n",
    "plt.axvline(1.96, color='red', linestyle='dashed')\n",
    "plt.title(\"Two-Tailed Z-Test Decision Region\")\n",
    "plt.show()"
   ]
  },
  {
   "cell_type": "markdown",
   "id": "787c5dfa",
   "metadata": {},
   "source": [
    "#  Create a Python function that calculates and visualizes Type 1 and Type 2 errors during hypothesis testing@"
   ]
  },
  {
   "cell_type": "code",
   "execution_count": 5,
   "id": "02c76a30",
   "metadata": {},
   "outputs": [
    {
     "data": {
      "image/png": "[encoded data removed]",
      "text/plain": [
       "<Figure size 640x480 with 1 Axes>"
      ]
     },
     "metadata": {},
     "output_type": "display_data"
    }
   ],
   "source": [
    "import seaborn as sns\n",
    "\n",
    "sns.kdeplot(np.random.normal(0, 1, 1000), label=\"Null Distribution\")\n",
    "sns.kdeplot(np.random.normal(2, 1, 1000), label=\"Alternative Distribution\")\n",
    "plt.axvline(1.96, color='red', linestyle='dashed', label=\"Critical Value\")\n",
    "plt.legend()\n",
    "plt.show()"
   ]
  },
  {
   "cell_type": "markdown",
   "id": "f5d71597",
   "metadata": {},
   "source": [
    "# Write a Python program to perform an independent T-test and interpret the results"
   ]
  },
  {
   "cell_type": "code",
   "execution_count": 6,
   "id": "0e5be9a7",
   "metadata": {},
   "outputs": [
    {
     "name": "stdout",
     "output_type": "stream",
     "text": [
      "T-Statistic: -2.741554036547757, P-Value: 0.008117159794888395\n"
     ]
    }
   ],
   "source": [
    "from scipy.stats import ttest_ind\n",
    "\n",
    "group1 = np.random.normal(50, 10, 30)\n",
    "group2 = np.random.normal(55, 10, 30)\n",
    "\n",
    "t_stat, p_val = ttest_ind(group1, group2)\n",
    "print(f\"T-Statistic: {t_stat}, P-Value: {p_val}\")"
   ]
  },
  {
   "cell_type": "markdown",
   "id": "b1dd6ffb",
   "metadata": {},
   "source": [
    "# Perform a paired sample T-test using Python and visualize the comparison results"
   ]
  },
  {
   "cell_type": "code",
   "execution_count": 7,
   "id": "f7a8b842",
   "metadata": {},
   "outputs": [
    {
     "name": "stdout",
     "output_type": "stream",
     "text": [
      "T-Statistic: -14.81468559091828, P-Value: 4.626874151844739e-15\n"
     ]
    }
   ],
   "source": [
    "from scipy.stats import ttest_rel\n",
    "\n",
    "before = np.random.normal(50, 10, 30)\n",
    "after = before + np.random.normal(5, 2, 30)\n",
    "\n",
    "t_stat, p_val = ttest_rel(before, after)\n",
    "print(f\"T-Statistic: {t_stat}, P-Value: {p_val}\")"
   ]
  },
  {
   "cell_type": "markdown",
   "id": "8ad9e39e",
   "metadata": {},
   "source": [
    "# Simulate data and perform both Z-test and T-test, then compare the results using Python"
   ]
  },
  {
   "cell_type": "code",
   "execution_count": 8,
   "id": "d0a450d2",
   "metadata": {},
   "outputs": [
    {
     "name": "stdout",
     "output_type": "stream",
     "text": [
      "Z-Test P-Value: 7.588385731931301e-05, T-Test P-Value: 0.008117159794888395\n"
     ]
    }
   ],
   "source": [
    "z_stat, p_val_z = ztest(group1, value=55)\n",
    "t_stat, p_val_t = ttest_ind(group1, group2)\n",
    "\n",
    "print(f\"Z-Test P-Value: {p_val_z}, T-Test P-Value: {p_val_t}\")"
   ]
  },
  {
   "cell_type": "markdown",
   "id": "f14e558f",
   "metadata": {},
   "source": [
    "# Write a Python function to calculate the confidence interval for a sample mean and explain its significance."
   ]
  },
  {
   "cell_type": "code",
   "execution_count": 9,
   "id": "03e55202",
   "metadata": {},
   "outputs": [
    {
     "name": "stdout",
     "output_type": "stream",
     "text": [
      "Confidence Interval: (46.421611712565685, 53.578388287434315)\n"
     ]
    }
   ],
   "source": [
    "import scipy.stats as stats\n",
    "\n",
    "sample_mean = 50\n",
    "std_dev = 10\n",
    "sample_size = 30\n",
    "confidence = 0.95\n",
    "\n",
    "margin_error = stats.norm.ppf((1 + confidence) / 2) * (std_dev / (sample_size ** 0.5))\n",
    "lower_bound = sample_mean - margin_error\n",
    "upper_bound = sample_mean + margin_error\n",
    "\n",
    "print(f\"Confidence Interval: ({lower_bound}, {upper_bound})\")"
   ]
  },
  {
   "cell_type": "markdown",
   "id": "0964faa6",
   "metadata": {},
   "source": [
    "# Write a Python program to calculate the margin of error for a given confidence level using sample dataD"
   ]
  },
  {
   "cell_type": "code",
   "execution_count": 10,
   "id": "ab467b72",
   "metadata": {},
   "outputs": [
    {
     "name": "stdout",
     "output_type": "stream",
     "text": [
      "Margin of Error: 3.5783882874343145\n"
     ]
    }
   ],
   "source": [
    "import scipy.stats as stats\n",
    "\n",
    "def margin_of_error(sample_std, sample_size, confidence=0.95):\n",
    "    critical_value = stats.norm.ppf((1 + confidence) / 2)\n",
    "    return critical_value * (sample_std / (sample_size ** 0.5))\n",
    "\n",
    "# Example usage\n",
    "sample_std = 10\n",
    "sample_size = 30\n",
    "print(f\"Margin of Error: {margin_of_error(sample_std, sample_size)}\")"
   ]
  },
  {
   "cell_type": "markdown",
   "id": "534c8177",
   "metadata": {},
   "source": [
    "# mplement a Bayesian inference method using Bayes' Theorem in Python and explain the processD"
   ]
  },
  {
   "cell_type": "code",
   "execution_count": 11,
   "id": "b341daad",
   "metadata": {},
   "outputs": [
    {
     "name": "stdout",
     "output_type": "stream",
     "text": [
      "Posterior Probability: 0.8749999999999999\n"
     ]
    }
   ],
   "source": [
    "def bayesian_inference(prior_prob, likelihood, marginal_likelihood):\n",
    "    posterior_prob = (likelihood * prior_prob) / marginal_likelihood\n",
    "    return posterior_prob\n",
    "\n",
    "# Example usage\n",
    "prior = 0.5  # Prior probability of event A\n",
    "likelihood = 0.7  # Probability of event B given event A\n",
    "marginal = 0.4  # Probability of event B\n",
    "posterior = bayesian_inference(prior, likelihood, marginal)\n",
    "print(f\"Posterior Probability: {posterior}\")"
   ]
  },
  {
   "cell_type": "markdown",
   "id": "c593bde0",
   "metadata": {},
   "source": [
    "#  Perform a Chi-square test for independence between two categorical variables in PythonD"
   ]
  },
  {
   "cell_type": "code",
   "execution_count": 12,
   "id": "aae2fa9b",
   "metadata": {},
   "outputs": [
    {
     "name": "stdout",
     "output_type": "stream",
     "text": [
      "Posterior Probability: 0.8749999999999999\n"
     ]
    }
   ],
   "source": [
    "def bayesian_inference(prior_prob, likelihood, marginal_likelihood):\n",
    "    posterior_prob = (likelihood * prior_prob) / marginal_likelihood\n",
    "    return posterior_prob\n",
    "\n",
    "# Example usage\n",
    "prior = 0.5  # Prior probability of event A\n",
    "likelihood = 0.7  # Probability of event B given event A\n",
    "marginal = 0.4  # Probability of event B\n",
    "posterior = bayesian_inference(prior, likelihood, marginal)\n",
    "print(f\"Posterior Probability: {posterior}\")"
   ]
  },
  {
   "cell_type": "markdown",
   "id": "0df2cc2d",
   "metadata": {},
   "source": [
    "# Write a Python program to calculate the expected frequencies for a Chi-square test based on observed\n"
   ]
  },
  {
   "cell_type": "code",
   "execution_count": 13,
   "id": "83302456",
   "metadata": {},
   "outputs": [
    {
     "name": "stdout",
     "output_type": "stream",
     "text": [
      "Chi-Square Statistic: 15.041666666666666\n",
      "P-Value: 0.00010516355403363098\n",
      "Expected Frequencies: \n",
      "[[20. 20.]\n",
      " [30. 30.]]\n"
     ]
    }
   ],
   "source": [
    "import scipy.stats as stats\n",
    "import pandas as pd\n",
    "import numpy as np\n",
    "\n",
    "# Example categorical data\n",
    "data = np.array([[30, 10], [20, 40]])\n",
    "chi2_stat, p_val, dof, expected = stats.chi2_contingency(data)\n",
    "\n",
    "print(f\"Chi-Square Statistic: {chi2_stat}\")\n",
    "print(f\"P-Value: {p_val}\")\n",
    "print(f\"Expected Frequencies: \\n{expected}\")"
   ]
  },
  {
   "cell_type": "markdown",
   "id": "a63ced77",
   "metadata": {},
   "source": [
    "#  Perform a goodness-of-fit test using Python to compare the observed data to an expected distributionD"
   ]
  },
  {
   "cell_type": "code",
   "execution_count": 14,
   "id": "d64dd760",
   "metadata": {},
   "outputs": [
    {
     "name": "stdout",
     "output_type": "stream",
     "text": [
      "Expected Frequencies:\n",
      "[[35. 15.]\n",
      " [35. 15.]]\n"
     ]
    }
   ],
   "source": [
    "def expected_frequencies(observed):\n",
    "    row_sums = observed.sum(axis=1).reshape(-1, 1)\n",
    "    col_sums = observed.sum(axis=0)\n",
    "    total = observed.sum()\n",
    "    return (row_sums @ col_sums.reshape(1, -1)) / total\n",
    "\n",
    "# Example usage\n",
    "observed_data = np.array([[30, 20], [40, 10]])\n",
    "print(f\"Expected Frequencies:\\n{expected_frequencies(observed_data)}\")"
   ]
  },
  {
   "cell_type": "markdown",
   "id": "cdf39fed",
   "metadata": {},
   "source": [
    "# Create a Python script to simulate and visualize the Chi-square distribution and discuss its characteristicsD"
   ]
  },
  {
   "cell_type": "code",
   "execution_count": 15,
   "id": "f1699630",
   "metadata": {},
   "outputs": [
    {
     "name": "stdout",
     "output_type": "stream",
     "text": [
      "Chi-Square Statistic: 5.0\n",
      "P-Value: 0.0820849986238988\n"
     ]
    }
   ],
   "source": [
    "observed = np.array([50, 30, 20])\n",
    "expected = np.array([40, 40, 20])\n",
    "chi2_stat, p_val = stats.chisquare(observed, expected)\n",
    "\n",
    "print(f\"Chi-Square Statistic: {chi2_stat}\")\n",
    "print(f\"P-Value: {p_val}\")"
   ]
  },
  {
   "cell_type": "markdown",
   "id": "f353108e",
   "metadata": {},
   "source": [
    "# mplement an F-test using Python to compare the variances of two random samplesD"
   ]
  },
  {
   "cell_type": "code",
   "execution_count": 16,
   "id": "eeaccb87",
   "metadata": {},
   "outputs": [
    {
     "name": "stdout",
     "output_type": "stream",
     "text": [
      "F-Statistic: 0.3800023035205347, P-Value: 0.005615041635064618\n"
     ]
    }
   ],
   "source": [
    "def f_test(sample1, sample2):\n",
    "    var1 = np.var(sample1, ddof=1)\n",
    "    var2 = np.var(sample2, ddof=1)\n",
    "    f_stat = var1 / var2\n",
    "    p_val = stats.f.cdf(f_stat, len(sample1)-1, len(sample2)-1)\n",
    "    return f_stat, p_val\n",
    "\n",
    "# Example usage\n",
    "sample1 = np.random.normal(50, 10, 30)\n",
    "sample2 = np.random.normal(55, 15, 30)\n",
    "\n",
    "f_stat, p_val = f_test(sample1, sample2)\n",
    "print(f\"F-Statistic: {f_stat}, P-Value: {p_val}\")"
   ]
  },
  {
   "cell_type": "markdown",
   "id": "fef72b71",
   "metadata": {},
   "source": []
  }
 ],
 "metadata": {
  "kernelspec": {
   "display_name": "Python 3 (ipykernel)",
   "language": "python",
   "name": "python3"
  },
  "language_info": {
   "codemirror_mode": {
    "name": "ipython",
    "version": 3
   },
   "file_extension": ".py",
   "mimetype": "text/x-python",
   "name": "python",
   "nbconvert_exporter": "python",
   "pygments_lexer": "ipython3",
   "version": "3.12.7"
  }
 },
 "nbformat": 4,
 "nbformat_minor": 5
}
