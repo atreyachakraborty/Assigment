{
 "cells": [
  {
   "cell_type": "code",
   "execution_count": 1,
   "id": "f96fee80-bc74-4d91-bc97-96a2ee3b3772",
   "metadata": {},
   "outputs": [],
   "source": [
    "# it is the great example of preparation of target variable\n",
    "\n",
    "import pandas as pd\n",
    "import numpy as np \n",
    "import seaborn as sns\n",
    "import matplotlib.pyplot as plt\n",
    "\n",
    "import warnings\n",
    "warnings.filterwarnings(\"ignore\")"
   ]
  },
  {
   "cell_type": "code",
   "execution_count": 2,
   "id": "4315a2fd-25ec-4923-8db4-95e48afea011",
   "metadata": {},
   "outputs": [
    {
     "data": {
      "text/html": [
       "<div>\n",
       "<style scoped>\n",
       "    .dataframe tbody tr th:only-of-type {\n",
       "        vertical-align: middle;\n",
       "    }\n",
       "\n",
       "    .dataframe tbody tr th {\n",
       "        vertical-align: top;\n",
       "    }\n",
       "\n",
       "    .dataframe thead th {\n",
       "        text-align: right;\n",
       "    }\n",
       "</style>\n",
       "<table border=\"1\" class=\"dataframe\">\n",
       "  <thead>\n",
       "    <tr style=\"text-align: right;\">\n",
       "      <th></th>\n",
       "      <th>add_these_pw_job_title_9089</th>\n",
       "      <th>agent_city</th>\n",
       "      <th>agent_firm_name</th>\n",
       "      <th>agent_state</th>\n",
       "      <th>application_type</th>\n",
       "      <th>case_no</th>\n",
       "      <th>case_number</th>\n",
       "      <th>case_received_date</th>\n",
       "      <th>case_status</th>\n",
       "      <th>class_of_admission</th>\n",
       "      <th>...</th>\n",
       "      <th>ri_pvt_employment_firm_to</th>\n",
       "      <th>ri_us_workers_considered</th>\n",
       "      <th>schd_a_sheepherder</th>\n",
       "      <th>us_economic_sector</th>\n",
       "      <th>wage_offer_from_9089</th>\n",
       "      <th>wage_offer_to_9089</th>\n",
       "      <th>wage_offer_unit_of_pay_9089</th>\n",
       "      <th>wage_offered_from_9089</th>\n",
       "      <th>wage_offered_to_9089</th>\n",
       "      <th>wage_offered_unit_of_pay_9089</th>\n",
       "    </tr>\n",
       "  </thead>\n",
       "  <tbody>\n",
       "    <tr>\n",
       "      <th>0</th>\n",
       "      <td>NaN</td>\n",
       "      <td>NaN</td>\n",
       "      <td>NaN</td>\n",
       "      <td>NaN</td>\n",
       "      <td>PERM</td>\n",
       "      <td>A-07323-97014</td>\n",
       "      <td>NaN</td>\n",
       "      <td>NaN</td>\n",
       "      <td>Certified</td>\n",
       "      <td>J-1</td>\n",
       "      <td>...</td>\n",
       "      <td>NaN</td>\n",
       "      <td>NaN</td>\n",
       "      <td>NaN</td>\n",
       "      <td>IT</td>\n",
       "      <td>75629.0</td>\n",
       "      <td>NaN</td>\n",
       "      <td>yr</td>\n",
       "      <td>NaN</td>\n",
       "      <td>NaN</td>\n",
       "      <td>NaN</td>\n",
       "    </tr>\n",
       "    <tr>\n",
       "      <th>1</th>\n",
       "      <td>NaN</td>\n",
       "      <td>NaN</td>\n",
       "      <td>NaN</td>\n",
       "      <td>NaN</td>\n",
       "      <td>PERM</td>\n",
       "      <td>A-07332-99439</td>\n",
       "      <td>NaN</td>\n",
       "      <td>NaN</td>\n",
       "      <td>Denied</td>\n",
       "      <td>B-2</td>\n",
       "      <td>...</td>\n",
       "      <td>NaN</td>\n",
       "      <td>NaN</td>\n",
       "      <td>NaN</td>\n",
       "      <td>Other Economic Sector</td>\n",
       "      <td>37024.0</td>\n",
       "      <td>NaN</td>\n",
       "      <td>yr</td>\n",
       "      <td>NaN</td>\n",
       "      <td>NaN</td>\n",
       "      <td>NaN</td>\n",
       "    </tr>\n",
       "    <tr>\n",
       "      <th>2</th>\n",
       "      <td>NaN</td>\n",
       "      <td>NaN</td>\n",
       "      <td>NaN</td>\n",
       "      <td>NaN</td>\n",
       "      <td>PERM</td>\n",
       "      <td>A-07333-99643</td>\n",
       "      <td>NaN</td>\n",
       "      <td>NaN</td>\n",
       "      <td>Certified</td>\n",
       "      <td>H-1B</td>\n",
       "      <td>...</td>\n",
       "      <td>NaN</td>\n",
       "      <td>NaN</td>\n",
       "      <td>NaN</td>\n",
       "      <td>Aerospace</td>\n",
       "      <td>47923.0</td>\n",
       "      <td>NaN</td>\n",
       "      <td>yr</td>\n",
       "      <td>NaN</td>\n",
       "      <td>NaN</td>\n",
       "      <td>NaN</td>\n",
       "    </tr>\n",
       "    <tr>\n",
       "      <th>3</th>\n",
       "      <td>NaN</td>\n",
       "      <td>NaN</td>\n",
       "      <td>NaN</td>\n",
       "      <td>NaN</td>\n",
       "      <td>PERM</td>\n",
       "      <td>A-07339-01930</td>\n",
       "      <td>NaN</td>\n",
       "      <td>NaN</td>\n",
       "      <td>Certified</td>\n",
       "      <td>B-2</td>\n",
       "      <td>...</td>\n",
       "      <td>NaN</td>\n",
       "      <td>NaN</td>\n",
       "      <td>NaN</td>\n",
       "      <td>Other Economic Sector</td>\n",
       "      <td>10.97</td>\n",
       "      <td>NaN</td>\n",
       "      <td>hr</td>\n",
       "      <td>NaN</td>\n",
       "      <td>NaN</td>\n",
       "      <td>NaN</td>\n",
       "    </tr>\n",
       "    <tr>\n",
       "      <th>4</th>\n",
       "      <td>NaN</td>\n",
       "      <td>NaN</td>\n",
       "      <td>NaN</td>\n",
       "      <td>NaN</td>\n",
       "      <td>PERM</td>\n",
       "      <td>A-07345-03565</td>\n",
       "      <td>NaN</td>\n",
       "      <td>NaN</td>\n",
       "      <td>Certified</td>\n",
       "      <td>L-1</td>\n",
       "      <td>...</td>\n",
       "      <td>NaN</td>\n",
       "      <td>NaN</td>\n",
       "      <td>NaN</td>\n",
       "      <td>Advanced Mfg</td>\n",
       "      <td>100000.0</td>\n",
       "      <td>NaN</td>\n",
       "      <td>yr</td>\n",
       "      <td>NaN</td>\n",
       "      <td>NaN</td>\n",
       "      <td>NaN</td>\n",
       "    </tr>\n",
       "  </tbody>\n",
       "</table>\n",
       "<p>5 rows × 154 columns</p>\n",
       "</div>"
      ],
      "text/plain": [
       "  add_these_pw_job_title_9089 agent_city agent_firm_name agent_state  \\\n",
       "0                         NaN        NaN             NaN         NaN   \n",
       "1                         NaN        NaN             NaN         NaN   \n",
       "2                         NaN        NaN             NaN         NaN   \n",
       "3                         NaN        NaN             NaN         NaN   \n",
       "4                         NaN        NaN             NaN         NaN   \n",
       "\n",
       "  application_type        case_no case_number case_received_date case_status  \\\n",
       "0             PERM  A-07323-97014         NaN                NaN   Certified   \n",
       "1             PERM  A-07332-99439         NaN                NaN      Denied   \n",
       "2             PERM  A-07333-99643         NaN                NaN   Certified   \n",
       "3             PERM  A-07339-01930         NaN                NaN   Certified   \n",
       "4             PERM  A-07345-03565         NaN                NaN   Certified   \n",
       "\n",
       "  class_of_admission  ... ri_pvt_employment_firm_to ri_us_workers_considered  \\\n",
       "0                J-1  ...                       NaN                      NaN   \n",
       "1                B-2  ...                       NaN                      NaN   \n",
       "2               H-1B  ...                       NaN                      NaN   \n",
       "3                B-2  ...                       NaN                      NaN   \n",
       "4                L-1  ...                       NaN                      NaN   \n",
       "\n",
       "  schd_a_sheepherder     us_economic_sector wage_offer_from_9089  \\\n",
       "0                NaN                     IT              75629.0   \n",
       "1                NaN  Other Economic Sector              37024.0   \n",
       "2                NaN              Aerospace              47923.0   \n",
       "3                NaN  Other Economic Sector                10.97   \n",
       "4                NaN           Advanced Mfg             100000.0   \n",
       "\n",
       "  wage_offer_to_9089 wage_offer_unit_of_pay_9089 wage_offered_from_9089  \\\n",
       "0                NaN                          yr                    NaN   \n",
       "1                NaN                          yr                    NaN   \n",
       "2                NaN                          yr                    NaN   \n",
       "3                NaN                          hr                    NaN   \n",
       "4                NaN                          yr                    NaN   \n",
       "\n",
       "  wage_offered_to_9089  wage_offered_unit_of_pay_9089  \n",
       "0                  NaN                            NaN  \n",
       "1                  NaN                            NaN  \n",
       "2                  NaN                            NaN  \n",
       "3                  NaN                            NaN  \n",
       "4                  NaN                            NaN  \n",
       "\n",
       "[5 rows x 154 columns]"
      ]
     },
     "execution_count": 2,
     "metadata": {},
     "output_type": "execute_result"
    }
   ],
   "source": [
    "df=pd.read_csv(\"us_perm_visas.csv\")\n",
    "df.head()"
   ]
  },
  {
   "cell_type": "code",
   "execution_count": 3,
   "id": "1993b20b-8a25-4a33-95c3-80e31d0d6bd9",
   "metadata": {},
   "outputs": [
    {
     "data": {
      "text/plain": [
       "(374362, 154)"
      ]
     },
     "execution_count": 3,
     "metadata": {},
     "output_type": "execute_result"
    }
   ],
   "source": [
    "df.shape"
   ]
  },
  {
   "cell_type": "code",
   "execution_count": 4,
   "id": "6a73b271-140c-49d9-8515-6ad1d385f3d7",
   "metadata": {},
   "outputs": [
    {
     "name": "stdout",
     "output_type": "stream",
     "text": [
      "['add_these_pw_job_title_9089' 'agent_city' 'agent_firm_name'\n",
      " 'agent_state' 'application_type' 'case_no' 'case_number'\n",
      " 'case_received_date' 'case_status' 'class_of_admission'\n",
      " 'country_of_citizenship' 'country_of_citzenship' 'decision_date'\n",
      " 'employer_address_1' 'employer_address_2' 'employer_city'\n",
      " 'employer_country' 'employer_decl_info_title' 'employer_name'\n",
      " 'employer_num_employees' 'employer_phone' 'employer_phone_ext'\n",
      " 'employer_postal_code' 'employer_state' 'employer_yr_estab'\n",
      " 'foreign_worker_info_alt_edu_experience'\n",
      " 'foreign_worker_info_birth_country' 'foreign_worker_info_city'\n",
      " 'foreign_worker_info_education' 'foreign_worker_info_education_other'\n",
      " 'foreign_worker_info_inst' 'foreign_worker_info_major'\n",
      " 'foreign_worker_info_postal_code' 'foreign_worker_info_rel_occup_exp'\n",
      " 'foreign_worker_info_req_experience' 'foreign_worker_info_state'\n",
      " 'foreign_worker_info_training_comp' 'foreign_worker_ownership_interest'\n",
      " 'foreign_worker_yr_rel_edu_completed' 'fw_info_alt_edu_experience'\n",
      " 'fw_info_birth_country' 'fw_info_education_other' 'fw_info_postal_code'\n",
      " 'fw_info_rel_occup_exp' 'fw_info_req_experience' 'fw_info_training_comp'\n",
      " 'fw_info_yr_rel_edu_completed' 'fw_ownership_interest'\n",
      " 'ji_foreign_worker_live_on_premises' 'ji_fw_live_on_premises'\n",
      " 'ji_live_in_dom_svc_contract' 'ji_live_in_domestic_service'\n",
      " 'ji_offered_to_sec_j_foreign_worker' 'ji_offered_to_sec_j_fw'\n",
      " 'job_info_alt_cmb_ed_oth_yrs' 'job_info_alt_combo_ed'\n",
      " 'job_info_alt_combo_ed_exp' 'job_info_alt_combo_ed_other'\n",
      " 'job_info_alt_field' 'job_info_alt_field_name' 'job_info_alt_occ'\n",
      " 'job_info_alt_occ_job_title' 'job_info_alt_occ_num_months'\n",
      " 'job_info_combo_occupation' 'job_info_education'\n",
      " 'job_info_education_other' 'job_info_experience'\n",
      " 'job_info_experience_num_months' 'job_info_foreign_ed'\n",
      " 'job_info_foreign_lang_req' 'job_info_job_req_normal'\n",
      " 'job_info_job_title' 'job_info_major' 'job_info_training'\n",
      " 'job_info_training_field' 'job_info_training_num_months'\n",
      " 'job_info_work_city' 'job_info_work_postal_code' 'job_info_work_state'\n",
      " 'naics_2007_us_code' 'naics_2007_us_title' 'naics_code' 'naics_title'\n",
      " 'naics_us_code' 'naics_us_code_2007' 'naics_us_title'\n",
      " 'naics_us_title_2007' 'orig_case_no' 'orig_file_date'\n",
      " 'preparer_info_emp_completed' 'preparer_info_title' 'pw_amount_9089'\n",
      " 'pw_determ_date' 'pw_expire_date' 'pw_job_title_908' 'pw_job_title_9089'\n",
      " 'pw_level_9089' 'pw_soc_code' 'pw_soc_title' 'pw_source_name_9089'\n",
      " 'pw_source_name_other_9089' 'pw_track_num' 'pw_unit_of_pay_9089'\n",
      " 'rec_info_barg_rep_notified' 'recr_info_barg_rep_notified'\n",
      " 'recr_info_coll_teach_comp_proc' 'recr_info_coll_univ_teacher'\n",
      " 'recr_info_employer_rec_payment' 'recr_info_first_ad_start'\n",
      " 'recr_info_job_fair_from' 'recr_info_job_fair_to'\n",
      " 'recr_info_on_campus_recr_from' 'recr_info_on_campus_recr_to'\n",
      " 'recr_info_pro_org_advert_from' 'recr_info_pro_org_advert_to'\n",
      " 'recr_info_prof_org_advert_from' 'recr_info_prof_org_advert_to'\n",
      " 'recr_info_professional_occ' 'recr_info_radio_tv_ad_from'\n",
      " 'recr_info_radio_tv_ad_to' 'recr_info_second_ad_start'\n",
      " 'recr_info_sunday_newspaper' 'recr_info_swa_job_order_end'\n",
      " 'recr_info_swa_job_order_start' 'refile' 'ri_1st_ad_newspaper_name'\n",
      " 'ri_2nd_ad_newspaper_name' 'ri_2nd_ad_newspaper_or_journal'\n",
      " 'ri_campus_placement_from' 'ri_campus_placement_to'\n",
      " 'ri_coll_tch_basic_process' 'ri_coll_teach_pro_jnl'\n",
      " 'ri_coll_teach_select_date' 'ri_employee_referral_prog_from'\n",
      " 'ri_employee_referral_prog_to' 'ri_employer_web_post_from'\n",
      " 'ri_employer_web_post_to' 'ri_job_search_website_from'\n",
      " 'ri_job_search_website_to' 'ri_layoff_in_past_six_months'\n",
      " 'ri_local_ethnic_paper_from' 'ri_local_ethnic_paper_to'\n",
      " 'ri_posted_notice_at_worksite' 'ri_pvt_employment_firm_from'\n",
      " 'ri_pvt_employment_firm_to' 'ri_us_workers_considered'\n",
      " 'schd_a_sheepherder' 'us_economic_sector' 'wage_offer_from_9089'\n",
      " 'wage_offer_to_9089' 'wage_offer_unit_of_pay_9089'\n",
      " 'wage_offered_from_9089' 'wage_offered_to_9089'\n",
      " 'wage_offered_unit_of_pay_9089']\n"
     ]
    }
   ],
   "source": [
    "print(df.columns.values)"
   ]
  },
  {
   "cell_type": "code",
   "execution_count": 5,
   "id": "7f2daffb-5f72-48d5-accf-b8a7c576084d",
   "metadata": {},
   "outputs": [
    {
     "data": {
      "text/plain": [
       "0                   NaN\n",
       "1                   NaN\n",
       "2                   NaN\n",
       "3                   NaN\n",
       "4                   NaN\n",
       "              ...      \n",
       "374357    A-16363-85407\n",
       "374358    A-16271-56745\n",
       "374359    A-16354-82345\n",
       "374360    A-16357-84250\n",
       "374361    A-16279-59292\n",
       "Name: case_number, Length: 374362, dtype: object"
      ]
     },
     "execution_count": 5,
     "metadata": {},
     "output_type": "execute_result"
    }
   ],
   "source": [
    "df[\"case_number\"]"
   ]
  },
  {
   "cell_type": "code",
   "execution_count": 6,
   "id": "3dca9d3a-aeb0-47f3-bd58-10d22870d5c0",
   "metadata": {},
   "outputs": [
    {
     "data": {
      "text/plain": [
       "0         A-07323-97014\n",
       "1         A-07332-99439\n",
       "2         A-07333-99643\n",
       "3         A-07339-01930\n",
       "4         A-07345-03565\n",
       "              ...      \n",
       "374357              NaN\n",
       "374358              NaN\n",
       "374359              NaN\n",
       "374360              NaN\n",
       "374361              NaN\n",
       "Name: case_no, Length: 374362, dtype: object"
      ]
     },
     "execution_count": 6,
     "metadata": {},
     "output_type": "execute_result"
    }
   ],
   "source": [
    "df[\"case_no\"]"
   ]
  },
  {
   "cell_type": "code",
   "execution_count": 7,
   "id": "5233e448-3dbf-4e3a-bf2e-b98b2b3adf1e",
   "metadata": {},
   "outputs": [],
   "source": [
    "# by seeig the both columns we can say that the both columns data are same.\n"
   ]
  },
  {
   "cell_type": "code",
   "execution_count": 8,
   "id": "4c6c4b3f-9d60-4a7b-b1d1-5cc7107b7567",
   "metadata": {},
   "outputs": [
    {
     "data": {
      "text/plain": [
       "238418"
      ]
     },
     "execution_count": 8,
     "metadata": {},
     "output_type": "execute_result"
    }
   ],
   "source": [
    "df[\"case_number\"].nunique()"
   ]
  },
  {
   "cell_type": "code",
   "execution_count": 9,
   "id": "f96db284-1086-4db5-bb9f-049a45df6274",
   "metadata": {},
   "outputs": [
    {
     "data": {
      "text/plain": [
       "134990"
      ]
     },
     "execution_count": 9,
     "metadata": {},
     "output_type": "execute_result"
    }
   ],
   "source": [
    "df[\"case_no\"].nunique()"
   ]
  },
  {
   "cell_type": "code",
   "execution_count": 10,
   "id": "a3eddb22-2b14-44a0-a64e-4b9762a5407d",
   "metadata": {},
   "outputs": [
    {
     "data": {
      "text/plain": [
       "(374362, 154)"
      ]
     },
     "execution_count": 10,
     "metadata": {},
     "output_type": "execute_result"
    }
   ],
   "source": [
    "df.shape"
   ]
  },
  {
   "cell_type": "code",
   "execution_count": 11,
   "id": "e889a577-4d88-4c28-bd79-52b2ad9c2969",
   "metadata": {},
   "outputs": [],
   "source": [
    "# in col case_number & case_no , where case_number carries a null in that same row case_num carring a value"
   ]
  },
  {
   "cell_type": "code",
   "execution_count": 12,
   "id": "4dd55517-6fda-4eb0-8d9a-a497368be1ee",
   "metadata": {},
   "outputs": [
    {
     "data": {
      "text/plain": [
       "135269"
      ]
     },
     "execution_count": 12,
     "metadata": {},
     "output_type": "execute_result"
    }
   ],
   "source": [
    "df.case_number.isna().sum()"
   ]
  },
  {
   "cell_type": "code",
   "execution_count": 13,
   "id": "ef1aeffe-833a-4b1c-b49b-2fb288bce6dd",
   "metadata": {},
   "outputs": [
    {
     "data": {
      "text/plain": [
       "239093"
      ]
     },
     "execution_count": 13,
     "metadata": {},
     "output_type": "execute_result"
    }
   ],
   "source": [
    "df.case_no.isna().sum()"
   ]
  },
  {
   "cell_type": "markdown",
   "id": "8dfe8a02-992a-4e2c-81d0-9e4690082217",
   "metadata": {},
   "source": [
    "here the case number null values count is closely similer to case num\n",
    "\n",
    "\n",
    "So we replace the null values at case_number col with case_num, similarly to the vice versa."
   ]
  },
  {
   "cell_type": "code",
   "execution_count": 15,
   "id": "f0a1d60b-379d-4fc3-92b8-a64d6fe0e8d6",
   "metadata": {},
   "outputs": [
    {
     "data": {
      "text/plain": [
       "5"
      ]
     },
     "execution_count": 15,
     "metadata": {},
     "output_type": "execute_result"
    }
   ],
   "source": [
    "# position of the column index of  case_no. \n",
    "\n",
    "case_no_index=df.columns.get_loc(\"case_no\")\n",
    "case_no_index"
   ]
  },
  {
   "cell_type": "code",
   "execution_count": 16,
   "id": "d0249efc-2796-418c-98a3-3993a7bfbb07",
   "metadata": {},
   "outputs": [
    {
     "data": {
      "text/plain": [
       "6"
      ]
     },
     "execution_count": 16,
     "metadata": {},
     "output_type": "execute_result"
    }
   ],
   "source": [
    "# position of the column index of  case_number. \n",
    "case_number_index=df.columns.get_loc(\"case_number\")\n",
    "case_number_index"
   ]
  },
  {
   "cell_type": "code",
   "execution_count": 17,
   "id": "8f79b9de-ba80-4a2e-8e9a-872b94a586f4",
   "metadata": {},
   "outputs": [],
   "source": [
    "casenumberlist=[]\n",
    "for value in df.iloc[0:135269,case_no_index]:\n",
    "    casenumberlist.append(value)\n",
    "\n",
    "for value in df.iloc[135269:374362,case_no_index]:\n",
    "    casenumberlist.append(value)\n",
    "\n",
    "#This is a loop that iterates over each value in the specified range of rows (0 to 135268)\n",
    "#and the specified column (case_no_index).\n",
    "\n",
    "df[\"casenumberlist\"]=casenumberlist"
   ]
  },
  {
   "cell_type": "code",
   "execution_count": 18,
   "id": "3c44d63c-7c10-48dc-a124-73a0b0c171fa",
   "metadata": {},
   "outputs": [
    {
     "data": {
      "text/html": [
       "<div>\n",
       "<style scoped>\n",
       "    .dataframe tbody tr th:only-of-type {\n",
       "        vertical-align: middle;\n",
       "    }\n",
       "\n",
       "    .dataframe tbody tr th {\n",
       "        vertical-align: top;\n",
       "    }\n",
       "\n",
       "    .dataframe thead th {\n",
       "        text-align: right;\n",
       "    }\n",
       "</style>\n",
       "<table border=\"1\" class=\"dataframe\">\n",
       "  <thead>\n",
       "    <tr style=\"text-align: right;\">\n",
       "      <th></th>\n",
       "      <th>add_these_pw_job_title_9089</th>\n",
       "      <th>agent_city</th>\n",
       "      <th>agent_firm_name</th>\n",
       "      <th>agent_state</th>\n",
       "      <th>application_type</th>\n",
       "      <th>case_received_date</th>\n",
       "      <th>case_status</th>\n",
       "      <th>class_of_admission</th>\n",
       "      <th>country_of_citizenship</th>\n",
       "      <th>country_of_citzenship</th>\n",
       "      <th>...</th>\n",
       "      <th>ri_us_workers_considered</th>\n",
       "      <th>schd_a_sheepherder</th>\n",
       "      <th>us_economic_sector</th>\n",
       "      <th>wage_offer_from_9089</th>\n",
       "      <th>wage_offer_to_9089</th>\n",
       "      <th>wage_offer_unit_of_pay_9089</th>\n",
       "      <th>wage_offered_from_9089</th>\n",
       "      <th>wage_offered_to_9089</th>\n",
       "      <th>wage_offered_unit_of_pay_9089</th>\n",
       "      <th>casenumberlist</th>\n",
       "    </tr>\n",
       "  </thead>\n",
       "  <tbody>\n",
       "    <tr>\n",
       "      <th>0</th>\n",
       "      <td>NaN</td>\n",
       "      <td>NaN</td>\n",
       "      <td>NaN</td>\n",
       "      <td>NaN</td>\n",
       "      <td>PERM</td>\n",
       "      <td>NaN</td>\n",
       "      <td>Certified</td>\n",
       "      <td>J-1</td>\n",
       "      <td>NaN</td>\n",
       "      <td>ARMENIA</td>\n",
       "      <td>...</td>\n",
       "      <td>NaN</td>\n",
       "      <td>NaN</td>\n",
       "      <td>IT</td>\n",
       "      <td>75629.0</td>\n",
       "      <td>NaN</td>\n",
       "      <td>yr</td>\n",
       "      <td>NaN</td>\n",
       "      <td>NaN</td>\n",
       "      <td>NaN</td>\n",
       "      <td>A-07323-97014</td>\n",
       "    </tr>\n",
       "    <tr>\n",
       "      <th>1</th>\n",
       "      <td>NaN</td>\n",
       "      <td>NaN</td>\n",
       "      <td>NaN</td>\n",
       "      <td>NaN</td>\n",
       "      <td>PERM</td>\n",
       "      <td>NaN</td>\n",
       "      <td>Denied</td>\n",
       "      <td>B-2</td>\n",
       "      <td>NaN</td>\n",
       "      <td>POLAND</td>\n",
       "      <td>...</td>\n",
       "      <td>NaN</td>\n",
       "      <td>NaN</td>\n",
       "      <td>Other Economic Sector</td>\n",
       "      <td>37024.0</td>\n",
       "      <td>NaN</td>\n",
       "      <td>yr</td>\n",
       "      <td>NaN</td>\n",
       "      <td>NaN</td>\n",
       "      <td>NaN</td>\n",
       "      <td>A-07332-99439</td>\n",
       "    </tr>\n",
       "    <tr>\n",
       "      <th>2</th>\n",
       "      <td>NaN</td>\n",
       "      <td>NaN</td>\n",
       "      <td>NaN</td>\n",
       "      <td>NaN</td>\n",
       "      <td>PERM</td>\n",
       "      <td>NaN</td>\n",
       "      <td>Certified</td>\n",
       "      <td>H-1B</td>\n",
       "      <td>NaN</td>\n",
       "      <td>INDIA</td>\n",
       "      <td>...</td>\n",
       "      <td>NaN</td>\n",
       "      <td>NaN</td>\n",
       "      <td>Aerospace</td>\n",
       "      <td>47923.0</td>\n",
       "      <td>NaN</td>\n",
       "      <td>yr</td>\n",
       "      <td>NaN</td>\n",
       "      <td>NaN</td>\n",
       "      <td>NaN</td>\n",
       "      <td>A-07333-99643</td>\n",
       "    </tr>\n",
       "    <tr>\n",
       "      <th>3</th>\n",
       "      <td>NaN</td>\n",
       "      <td>NaN</td>\n",
       "      <td>NaN</td>\n",
       "      <td>NaN</td>\n",
       "      <td>PERM</td>\n",
       "      <td>NaN</td>\n",
       "      <td>Certified</td>\n",
       "      <td>B-2</td>\n",
       "      <td>NaN</td>\n",
       "      <td>SOUTH KOREA</td>\n",
       "      <td>...</td>\n",
       "      <td>NaN</td>\n",
       "      <td>NaN</td>\n",
       "      <td>Other Economic Sector</td>\n",
       "      <td>10.97</td>\n",
       "      <td>NaN</td>\n",
       "      <td>hr</td>\n",
       "      <td>NaN</td>\n",
       "      <td>NaN</td>\n",
       "      <td>NaN</td>\n",
       "      <td>A-07339-01930</td>\n",
       "    </tr>\n",
       "    <tr>\n",
       "      <th>4</th>\n",
       "      <td>NaN</td>\n",
       "      <td>NaN</td>\n",
       "      <td>NaN</td>\n",
       "      <td>NaN</td>\n",
       "      <td>PERM</td>\n",
       "      <td>NaN</td>\n",
       "      <td>Certified</td>\n",
       "      <td>L-1</td>\n",
       "      <td>NaN</td>\n",
       "      <td>CANADA</td>\n",
       "      <td>...</td>\n",
       "      <td>NaN</td>\n",
       "      <td>NaN</td>\n",
       "      <td>Advanced Mfg</td>\n",
       "      <td>100000.0</td>\n",
       "      <td>NaN</td>\n",
       "      <td>yr</td>\n",
       "      <td>NaN</td>\n",
       "      <td>NaN</td>\n",
       "      <td>NaN</td>\n",
       "      <td>A-07345-03565</td>\n",
       "    </tr>\n",
       "    <tr>\n",
       "      <th>...</th>\n",
       "      <td>...</td>\n",
       "      <td>...</td>\n",
       "      <td>...</td>\n",
       "      <td>...</td>\n",
       "      <td>...</td>\n",
       "      <td>...</td>\n",
       "      <td>...</td>\n",
       "      <td>...</td>\n",
       "      <td>...</td>\n",
       "      <td>...</td>\n",
       "      <td>...</td>\n",
       "      <td>...</td>\n",
       "      <td>...</td>\n",
       "      <td>...</td>\n",
       "      <td>...</td>\n",
       "      <td>...</td>\n",
       "      <td>...</td>\n",
       "      <td>...</td>\n",
       "      <td>...</td>\n",
       "      <td>...</td>\n",
       "      <td>...</td>\n",
       "    </tr>\n",
       "    <tr>\n",
       "      <th>374357</th>\n",
       "      <td>NaN</td>\n",
       "      <td>Buena Park</td>\n",
       "      <td>Law Offices of Yohan Lee</td>\n",
       "      <td>CA</td>\n",
       "      <td>NaN</td>\n",
       "      <td>2016-12-29</td>\n",
       "      <td>Withdrawn</td>\n",
       "      <td>NaN</td>\n",
       "      <td>SOUTH KOREA</td>\n",
       "      <td>NaN</td>\n",
       "      <td>...</td>\n",
       "      <td>NaN</td>\n",
       "      <td>N</td>\n",
       "      <td>NaN</td>\n",
       "      <td>28,330.00</td>\n",
       "      <td>NaN</td>\n",
       "      <td>Year</td>\n",
       "      <td>NaN</td>\n",
       "      <td>NaN</td>\n",
       "      <td>NaN</td>\n",
       "      <td>NaN</td>\n",
       "    </tr>\n",
       "    <tr>\n",
       "      <th>374358</th>\n",
       "      <td>NaN</td>\n",
       "      <td>Seattle</td>\n",
       "      <td>MacDonald Hoague &amp; Bayless</td>\n",
       "      <td>WA</td>\n",
       "      <td>NaN</td>\n",
       "      <td>2016-12-30</td>\n",
       "      <td>Withdrawn</td>\n",
       "      <td>L-1</td>\n",
       "      <td>VIETNAM</td>\n",
       "      <td>NaN</td>\n",
       "      <td>...</td>\n",
       "      <td>Y</td>\n",
       "      <td>N</td>\n",
       "      <td>NaN</td>\n",
       "      <td>122,000.00</td>\n",
       "      <td>142,000.00</td>\n",
       "      <td>Year</td>\n",
       "      <td>NaN</td>\n",
       "      <td>NaN</td>\n",
       "      <td>NaN</td>\n",
       "      <td>NaN</td>\n",
       "    </tr>\n",
       "    <tr>\n",
       "      <th>374359</th>\n",
       "      <td>NaN</td>\n",
       "      <td>Schaumburg</td>\n",
       "      <td>International Legal and Business Services Grou...</td>\n",
       "      <td>IL</td>\n",
       "      <td>NaN</td>\n",
       "      <td>2016-12-30</td>\n",
       "      <td>Withdrawn</td>\n",
       "      <td>H-1B</td>\n",
       "      <td>INDIA</td>\n",
       "      <td>NaN</td>\n",
       "      <td>...</td>\n",
       "      <td>NaN</td>\n",
       "      <td>N</td>\n",
       "      <td>NaN</td>\n",
       "      <td>79,082.00</td>\n",
       "      <td>79,082.00</td>\n",
       "      <td>Year</td>\n",
       "      <td>NaN</td>\n",
       "      <td>NaN</td>\n",
       "      <td>NaN</td>\n",
       "      <td>NaN</td>\n",
       "    </tr>\n",
       "    <tr>\n",
       "      <th>374360</th>\n",
       "      <td>NaN</td>\n",
       "      <td>LOS ANGELES</td>\n",
       "      <td>LAW OFFICES OF JAMES S HONG</td>\n",
       "      <td>CA</td>\n",
       "      <td>NaN</td>\n",
       "      <td>2016-12-30</td>\n",
       "      <td>Withdrawn</td>\n",
       "      <td>B-2</td>\n",
       "      <td>SOUTH KOREA</td>\n",
       "      <td>NaN</td>\n",
       "      <td>...</td>\n",
       "      <td>NaN</td>\n",
       "      <td>N</td>\n",
       "      <td>NaN</td>\n",
       "      <td>37,981.00</td>\n",
       "      <td>NaN</td>\n",
       "      <td>Year</td>\n",
       "      <td>NaN</td>\n",
       "      <td>NaN</td>\n",
       "      <td>NaN</td>\n",
       "      <td>NaN</td>\n",
       "    </tr>\n",
       "    <tr>\n",
       "      <th>374361</th>\n",
       "      <td>NaN</td>\n",
       "      <td>Phoenix</td>\n",
       "      <td>Fragomen, Del Rey, Bernsen &amp; Loewy, LLP</td>\n",
       "      <td>AZ</td>\n",
       "      <td>NaN</td>\n",
       "      <td>2016-12-30</td>\n",
       "      <td>Withdrawn</td>\n",
       "      <td>H-1B</td>\n",
       "      <td>CHINA</td>\n",
       "      <td>NaN</td>\n",
       "      <td>...</td>\n",
       "      <td>NaN</td>\n",
       "      <td>N</td>\n",
       "      <td>NaN</td>\n",
       "      <td>84,926.00</td>\n",
       "      <td>121,500.00</td>\n",
       "      <td>Year</td>\n",
       "      <td>NaN</td>\n",
       "      <td>NaN</td>\n",
       "      <td>NaN</td>\n",
       "      <td>NaN</td>\n",
       "    </tr>\n",
       "  </tbody>\n",
       "</table>\n",
       "<p>374362 rows × 153 columns</p>\n",
       "</div>"
      ],
      "text/plain": [
       "       add_these_pw_job_title_9089   agent_city  \\\n",
       "0                              NaN          NaN   \n",
       "1                              NaN          NaN   \n",
       "2                              NaN          NaN   \n",
       "3                              NaN          NaN   \n",
       "4                              NaN          NaN   \n",
       "...                            ...          ...   \n",
       "374357                         NaN   Buena Park   \n",
       "374358                         NaN      Seattle   \n",
       "374359                         NaN   Schaumburg   \n",
       "374360                         NaN  LOS ANGELES   \n",
       "374361                         NaN      Phoenix   \n",
       "\n",
       "                                          agent_firm_name agent_state  \\\n",
       "0                                                     NaN         NaN   \n",
       "1                                                     NaN         NaN   \n",
       "2                                                     NaN         NaN   \n",
       "3                                                     NaN         NaN   \n",
       "4                                                     NaN         NaN   \n",
       "...                                                   ...         ...   \n",
       "374357                           Law Offices of Yohan Lee          CA   \n",
       "374358                         MacDonald Hoague & Bayless          WA   \n",
       "374359  International Legal and Business Services Grou...          IL   \n",
       "374360                        LAW OFFICES OF JAMES S HONG          CA   \n",
       "374361            Fragomen, Del Rey, Bernsen & Loewy, LLP          AZ   \n",
       "\n",
       "       application_type case_received_date case_status class_of_admission  \\\n",
       "0                  PERM                NaN   Certified                J-1   \n",
       "1                  PERM                NaN      Denied                B-2   \n",
       "2                  PERM                NaN   Certified               H-1B   \n",
       "3                  PERM                NaN   Certified                B-2   \n",
       "4                  PERM                NaN   Certified                L-1   \n",
       "...                 ...                ...         ...                ...   \n",
       "374357              NaN         2016-12-29   Withdrawn                NaN   \n",
       "374358              NaN         2016-12-30   Withdrawn                L-1   \n",
       "374359              NaN         2016-12-30   Withdrawn               H-1B   \n",
       "374360              NaN         2016-12-30   Withdrawn                B-2   \n",
       "374361              NaN         2016-12-30   Withdrawn               H-1B   \n",
       "\n",
       "       country_of_citizenship country_of_citzenship  ...  \\\n",
       "0                         NaN               ARMENIA  ...   \n",
       "1                         NaN                POLAND  ...   \n",
       "2                         NaN                 INDIA  ...   \n",
       "3                         NaN           SOUTH KOREA  ...   \n",
       "4                         NaN                CANADA  ...   \n",
       "...                       ...                   ...  ...   \n",
       "374357            SOUTH KOREA                   NaN  ...   \n",
       "374358                VIETNAM                   NaN  ...   \n",
       "374359                  INDIA                   NaN  ...   \n",
       "374360            SOUTH KOREA                   NaN  ...   \n",
       "374361                  CHINA                   NaN  ...   \n",
       "\n",
       "       ri_us_workers_considered schd_a_sheepherder     us_economic_sector  \\\n",
       "0                           NaN                NaN                     IT   \n",
       "1                           NaN                NaN  Other Economic Sector   \n",
       "2                           NaN                NaN              Aerospace   \n",
       "3                           NaN                NaN  Other Economic Sector   \n",
       "4                           NaN                NaN           Advanced Mfg   \n",
       "...                         ...                ...                    ...   \n",
       "374357                      NaN                  N                    NaN   \n",
       "374358                        Y                  N                    NaN   \n",
       "374359                      NaN                  N                    NaN   \n",
       "374360                      NaN                  N                    NaN   \n",
       "374361                      NaN                  N                    NaN   \n",
       "\n",
       "       wage_offer_from_9089 wage_offer_to_9089 wage_offer_unit_of_pay_9089  \\\n",
       "0                   75629.0                NaN                          yr   \n",
       "1                   37024.0                NaN                          yr   \n",
       "2                   47923.0                NaN                          yr   \n",
       "3                     10.97                NaN                          hr   \n",
       "4                  100000.0                NaN                          yr   \n",
       "...                     ...                ...                         ...   \n",
       "374357            28,330.00                NaN                        Year   \n",
       "374358           122,000.00         142,000.00                        Year   \n",
       "374359            79,082.00          79,082.00                        Year   \n",
       "374360            37,981.00                NaN                        Year   \n",
       "374361            84,926.00         121,500.00                        Year   \n",
       "\n",
       "       wage_offered_from_9089  wage_offered_to_9089  \\\n",
       "0                         NaN                   NaN   \n",
       "1                         NaN                   NaN   \n",
       "2                         NaN                   NaN   \n",
       "3                         NaN                   NaN   \n",
       "4                         NaN                   NaN   \n",
       "...                       ...                   ...   \n",
       "374357                    NaN                   NaN   \n",
       "374358                    NaN                   NaN   \n",
       "374359                    NaN                   NaN   \n",
       "374360                    NaN                   NaN   \n",
       "374361                    NaN                   NaN   \n",
       "\n",
       "       wage_offered_unit_of_pay_9089 casenumberlist  \n",
       "0                                NaN  A-07323-97014  \n",
       "1                                NaN  A-07332-99439  \n",
       "2                                NaN  A-07333-99643  \n",
       "3                                NaN  A-07339-01930  \n",
       "4                                NaN  A-07345-03565  \n",
       "...                              ...            ...  \n",
       "374357                           NaN            NaN  \n",
       "374358                           NaN            NaN  \n",
       "374359                           NaN            NaN  \n",
       "374360                           NaN            NaN  \n",
       "374361                           NaN            NaN  \n",
       "\n",
       "[374362 rows x 153 columns]"
      ]
     },
     "execution_count": 18,
     "metadata": {},
     "output_type": "execute_result"
    }
   ],
   "source": [
    "# droping columns--\n",
    "\n",
    "df=df.drop([\"case_no\",\"case_number\"],axis=1)\n",
    "df"
   ]
  },
  {
   "cell_type": "code",
   "execution_count": 19,
   "id": "c269b6e0-51c6-44fb-a2b1-03118f4c9b3f",
   "metadata": {},
   "outputs": [
    {
     "data": {
      "text/plain": [
       "array(['add_these_pw_job_title_9089', 'agent_city', 'agent_firm_name',\n",
       "       'agent_state', 'application_type', 'case_received_date',\n",
       "       'case_status', 'class_of_admission', 'country_of_citizenship',\n",
       "       'country_of_citzenship', 'decision_date', 'employer_address_1',\n",
       "       'employer_address_2', 'employer_city', 'employer_country',\n",
       "       'employer_decl_info_title', 'employer_name',\n",
       "       'employer_num_employees', 'employer_phone', 'employer_phone_ext',\n",
       "       'employer_postal_code', 'employer_state', 'employer_yr_estab',\n",
       "       'foreign_worker_info_alt_edu_experience',\n",
       "       'foreign_worker_info_birth_country', 'foreign_worker_info_city',\n",
       "       'foreign_worker_info_education',\n",
       "       'foreign_worker_info_education_other', 'foreign_worker_info_inst',\n",
       "       'foreign_worker_info_major', 'foreign_worker_info_postal_code',\n",
       "       'foreign_worker_info_rel_occup_exp',\n",
       "       'foreign_worker_info_req_experience', 'foreign_worker_info_state',\n",
       "       'foreign_worker_info_training_comp',\n",
       "       'foreign_worker_ownership_interest',\n",
       "       'foreign_worker_yr_rel_edu_completed',\n",
       "       'fw_info_alt_edu_experience', 'fw_info_birth_country',\n",
       "       'fw_info_education_other', 'fw_info_postal_code',\n",
       "       'fw_info_rel_occup_exp', 'fw_info_req_experience',\n",
       "       'fw_info_training_comp', 'fw_info_yr_rel_edu_completed',\n",
       "       'fw_ownership_interest', 'ji_foreign_worker_live_on_premises',\n",
       "       'ji_fw_live_on_premises', 'ji_live_in_dom_svc_contract',\n",
       "       'ji_live_in_domestic_service',\n",
       "       'ji_offered_to_sec_j_foreign_worker', 'ji_offered_to_sec_j_fw',\n",
       "       'job_info_alt_cmb_ed_oth_yrs', 'job_info_alt_combo_ed',\n",
       "       'job_info_alt_combo_ed_exp', 'job_info_alt_combo_ed_other',\n",
       "       'job_info_alt_field', 'job_info_alt_field_name',\n",
       "       'job_info_alt_occ', 'job_info_alt_occ_job_title',\n",
       "       'job_info_alt_occ_num_months', 'job_info_combo_occupation',\n",
       "       'job_info_education', 'job_info_education_other',\n",
       "       'job_info_experience', 'job_info_experience_num_months',\n",
       "       'job_info_foreign_ed', 'job_info_foreign_lang_req',\n",
       "       'job_info_job_req_normal', 'job_info_job_title', 'job_info_major',\n",
       "       'job_info_training', 'job_info_training_field',\n",
       "       'job_info_training_num_months', 'job_info_work_city',\n",
       "       'job_info_work_postal_code', 'job_info_work_state',\n",
       "       'naics_2007_us_code', 'naics_2007_us_title', 'naics_code',\n",
       "       'naics_title', 'naics_us_code', 'naics_us_code_2007',\n",
       "       'naics_us_title', 'naics_us_title_2007', 'orig_case_no',\n",
       "       'orig_file_date', 'preparer_info_emp_completed',\n",
       "       'preparer_info_title', 'pw_amount_9089', 'pw_determ_date',\n",
       "       'pw_expire_date', 'pw_job_title_908', 'pw_job_title_9089',\n",
       "       'pw_level_9089', 'pw_soc_code', 'pw_soc_title',\n",
       "       'pw_source_name_9089', 'pw_source_name_other_9089', 'pw_track_num',\n",
       "       'pw_unit_of_pay_9089', 'rec_info_barg_rep_notified',\n",
       "       'recr_info_barg_rep_notified', 'recr_info_coll_teach_comp_proc',\n",
       "       'recr_info_coll_univ_teacher', 'recr_info_employer_rec_payment',\n",
       "       'recr_info_first_ad_start', 'recr_info_job_fair_from',\n",
       "       'recr_info_job_fair_to', 'recr_info_on_campus_recr_from',\n",
       "       'recr_info_on_campus_recr_to', 'recr_info_pro_org_advert_from',\n",
       "       'recr_info_pro_org_advert_to', 'recr_info_prof_org_advert_from',\n",
       "       'recr_info_prof_org_advert_to', 'recr_info_professional_occ',\n",
       "       'recr_info_radio_tv_ad_from', 'recr_info_radio_tv_ad_to',\n",
       "       'recr_info_second_ad_start', 'recr_info_sunday_newspaper',\n",
       "       'recr_info_swa_job_order_end', 'recr_info_swa_job_order_start',\n",
       "       'refile', 'ri_1st_ad_newspaper_name', 'ri_2nd_ad_newspaper_name',\n",
       "       'ri_2nd_ad_newspaper_or_journal', 'ri_campus_placement_from',\n",
       "       'ri_campus_placement_to', 'ri_coll_tch_basic_process',\n",
       "       'ri_coll_teach_pro_jnl', 'ri_coll_teach_select_date',\n",
       "       'ri_employee_referral_prog_from', 'ri_employee_referral_prog_to',\n",
       "       'ri_employer_web_post_from', 'ri_employer_web_post_to',\n",
       "       'ri_job_search_website_from', 'ri_job_search_website_to',\n",
       "       'ri_layoff_in_past_six_months', 'ri_local_ethnic_paper_from',\n",
       "       'ri_local_ethnic_paper_to', 'ri_posted_notice_at_worksite',\n",
       "       'ri_pvt_employment_firm_from', 'ri_pvt_employment_firm_to',\n",
       "       'ri_us_workers_considered', 'schd_a_sheepherder',\n",
       "       'us_economic_sector', 'wage_offer_from_9089', 'wage_offer_to_9089',\n",
       "       'wage_offer_unit_of_pay_9089', 'wage_offered_from_9089',\n",
       "       'wage_offered_to_9089', 'wage_offered_unit_of_pay_9089',\n",
       "       'casenumberlist'], dtype=object)"
      ]
     },
     "execution_count": 19,
     "metadata": {},
     "output_type": "execute_result"
    }
   ],
   "source": [
    "df.columns.values"
   ]
  },
  {
   "cell_type": "code",
   "execution_count": 20,
   "id": "7a740d73-da25-4dd8-b3c2-9ec7041a7678",
   "metadata": {},
   "outputs": [
    {
     "data": {
      "text/plain": [
       "array(['Certified', 'Denied', 'Certified-Expired', 'Withdrawn'],\n",
       "      dtype=object)"
      ]
     },
     "execution_count": 20,
     "metadata": {},
     "output_type": "execute_result"
    }
   ],
   "source": [
    "df.case_status.unique()"
   ]
  },
  {
   "cell_type": "code",
   "execution_count": 21,
   "id": "1779066a-0644-4d93-a87e-5eb973d5d233",
   "metadata": {},
   "outputs": [
    {
     "data": {
      "text/plain": [
       "case_status\n",
       "Certified            48.598148\n",
       "Certified-Expired    39.690460\n",
       "Denied                6.851390\n",
       "Withdrawn             4.860002\n",
       "Name: proportion, dtype: float64"
      ]
     },
     "execution_count": 21,
     "metadata": {},
     "output_type": "execute_result"
    }
   ],
   "source": [
    "df.case_status.value_counts(normalize=True)*100"
   ]
  },
  {
   "cell_type": "code",
   "execution_count": 22,
   "id": "a6fa3ef5-1b3d-467a-85bd-1ca17091e4af",
   "metadata": {},
   "outputs": [],
   "source": [
    "#we don't want to use the withdraw data from the case_status column\n",
    "df=df[df.case_status!=\"Withdrawn\"]\n"
   ]
  },
  {
   "cell_type": "code",
   "execution_count": 23,
   "id": "c1bf893c-28cd-490b-9fd7-0e2a7429cd3a",
   "metadata": {},
   "outputs": [
    {
     "data": {
      "text/plain": [
       "case_status\n",
       "Certified            181933\n",
       "Certified-Expired    148586\n",
       "Denied                25649\n",
       "Name: count, dtype: int64"
      ]
     },
     "execution_count": 23,
     "metadata": {},
     "output_type": "execute_result"
    }
   ],
   "source": [
    "df.case_status.value_counts()"
   ]
  },
  {
   "cell_type": "code",
   "execution_count": 24,
   "id": "409a2bb6-864f-40d9-831e-765ce3b0e666",
   "metadata": {},
   "outputs": [
    {
     "data": {
      "text/plain": [
       "case_status\n",
       "Certified    330519\n",
       "Denied        25649\n",
       "Name: count, dtype: int64"
      ]
     },
     "execution_count": 24,
     "metadata": {},
     "output_type": "execute_result"
    }
   ],
   "source": [
    "#as we dont need the Certified-Expired, we replace the Certified-Expired with Certified\n",
    "df.loc[df.case_status==\"Certified-Expired\",\"case_status\"]=\"Certified\"\n",
    "df.case_status.value_counts()"
   ]
  },
  {
   "cell_type": "code",
   "execution_count": 25,
   "id": "c6b02c90-ca23-4581-9c6a-18e75d4c4de1",
   "metadata": {},
   "outputs": [
    {
     "data": {
      "text/plain": [
       "case_status\n",
       "Certified    92.798623\n",
       "Denied        7.201377\n",
       "Name: proportion, dtype: float64"
      ]
     },
     "execution_count": 25,
     "metadata": {},
     "output_type": "execute_result"
    }
   ],
   "source": [
    "df.case_status.value_counts(normalize=True)*100\n",
    "\n",
    "# only 7.3% application for visa denied"
   ]
  },
  {
   "cell_type": "code",
   "execution_count": 26,
   "id": "b75a3554-25ca-408c-93ce-b0d59297efca",
   "metadata": {},
   "outputs": [
    {
     "data": {
      "text/plain": [
       "add_these_pw_job_title_9089      317031\n",
       "agent_city                       153452\n",
       "agent_firm_name                  157646\n",
       "agent_state                      156544\n",
       "application_type                 229320\n",
       "                                  ...  \n",
       "wage_offer_unit_of_pay_9089      108769\n",
       "wage_offered_from_9089           248582\n",
       "wage_offered_to_9089             326852\n",
       "wage_offered_unit_of_pay_9089    289470\n",
       "casenumberlist                   229320\n",
       "Length: 153, dtype: int64"
      ]
     },
     "execution_count": 26,
     "metadata": {},
     "output_type": "execute_result"
    }
   ],
   "source": [
    "df.isnull().sum()"
   ]
  },
  {
   "cell_type": "code",
   "execution_count": 27,
   "id": "40d43a01-db92-4d72-89b8-2e8a67b146c8",
   "metadata": {},
   "outputs": [],
   "source": [
    "#if all the value of col is null drop it---\n",
    "df.dropna(axis=1,how=\"all\",inplace=True)\n",
    "df.dropna(axis=0,how=\"all\",inplace=True)"
   ]
  },
  {
   "cell_type": "code",
   "execution_count": 28,
   "id": "9c5dce6f-c2e8-4ea3-87bb-80d8dc7c375c",
   "metadata": {},
   "outputs": [
    {
     "data": {
      "text/plain": [
       "add_these_pw_job_title_9089      317031\n",
       "agent_city                       153452\n",
       "agent_firm_name                  157646\n",
       "agent_state                      156544\n",
       "application_type                 229320\n",
       "                                  ...  \n",
       "wage_offer_unit_of_pay_9089      108769\n",
       "wage_offered_from_9089           248582\n",
       "wage_offered_to_9089             326852\n",
       "wage_offered_unit_of_pay_9089    289470\n",
       "casenumberlist                   229320\n",
       "Length: 153, dtype: int64"
      ]
     },
     "execution_count": 28,
     "metadata": {},
     "output_type": "execute_result"
    }
   ],
   "source": [
    "df.isna().sum()"
   ]
  },
  {
   "cell_type": "code",
   "execution_count": 29,
   "id": "b0492081-bb5f-4a68-8ba1-4edb33c67258",
   "metadata": {},
   "outputs": [
    {
     "name": "stdout",
     "output_type": "stream",
     "text": [
      "the missing value of add_these_pw_job_title_9089 is 317031\n",
      "the missing value of agent_city is 153452\n",
      "the missing value of agent_firm_name is 157646\n",
      "the missing value of agent_state is 156544\n",
      "the missing value of application_type is 229320\n",
      "the missing value of case_received_date is 126848\n",
      "the missing value of case_status is 0\n",
      "the missing value of class_of_admission is 21085\n",
      "the missing value of country_of_citizenship is 19272\n",
      "the missing value of country_of_citzenship is 336951\n",
      "the missing value of decision_date is 0\n",
      "the missing value of employer_address_1 is 37\n",
      "the missing value of employer_address_2 is 236133\n",
      "the missing value of employer_city is 10\n",
      "the missing value of employer_country is 126920\n",
      "the missing value of employer_decl_info_title is 126886\n",
      "the missing value of employer_name is 8\n",
      "the missing value of employer_num_employees is 126925\n",
      "the missing value of employer_phone is 126883\n",
      "the missing value of employer_phone_ext is 333670\n",
      "the missing value of employer_postal_code is 33\n",
      "the missing value of employer_state is 37\n",
      "the missing value of employer_yr_estab is 126982\n",
      "the missing value of foreign_worker_info_alt_edu_experience is 271883\n",
      "the missing value of foreign_worker_info_birth_country is 271880\n",
      "the missing value of foreign_worker_info_city is 126875\n",
      "the missing value of foreign_worker_info_education is 143554\n",
      "the missing value of foreign_worker_info_education_other is 352421\n",
      "the missing value of foreign_worker_info_inst is 143883\n",
      "the missing value of foreign_worker_info_major is 144800\n",
      "the missing value of foreign_worker_info_postal_code is 274425\n",
      "the missing value of foreign_worker_info_rel_occup_exp is 271875\n",
      "the missing value of foreign_worker_info_req_experience is 271873\n",
      "the missing value of foreign_worker_info_state is 142448\n",
      "the missing value of foreign_worker_info_training_comp is 271874\n",
      "the missing value of foreign_worker_ownership_interest is 271870\n",
      "the missing value of foreign_worker_yr_rel_edu_completed is 276735\n",
      "the missing value of fw_info_alt_edu_experience is 211154\n",
      "the missing value of fw_info_birth_country is 211166\n",
      "the missing value of fw_info_education_other is 350072\n",
      "the missing value of fw_info_postal_code is 213280\n",
      "the missing value of fw_info_rel_occup_exp is 211157\n",
      "the missing value of fw_info_req_experience is 211153\n",
      "the missing value of fw_info_training_comp is 211156\n",
      "the missing value of fw_info_yr_rel_edu_completed is 223131\n",
      "the missing value of fw_ownership_interest is 211154\n",
      "the missing value of ji_foreign_worker_live_on_premises is 271871\n",
      "the missing value of ji_fw_live_on_premises is 211152\n",
      "the missing value of ji_live_in_dom_svc_contract is 353855\n",
      "the missing value of ji_live_in_domestic_service is 126858\n",
      "the missing value of ji_offered_to_sec_j_foreign_worker is 271871\n",
      "the missing value of ji_offered_to_sec_j_fw is 211152\n",
      "the missing value of job_info_alt_cmb_ed_oth_yrs is 288242\n",
      "the missing value of job_info_alt_combo_ed is 290025\n",
      "the missing value of job_info_alt_combo_ed_exp is 126881\n",
      "the missing value of job_info_alt_combo_ed_other is 347190\n",
      "the missing value of job_info_alt_field is 126880\n",
      "the missing value of job_info_alt_field_name is 265907\n",
      "the missing value of job_info_alt_occ is 213169\n",
      "the missing value of job_info_alt_occ_job_title is 213847\n",
      "the missing value of job_info_alt_occ_num_months is 214045\n",
      "the missing value of job_info_combo_occupation is 126855\n",
      "the missing value of job_info_education is 147649\n",
      "the missing value of job_info_education_other is 348724\n",
      "the missing value of job_info_experience is 126858\n",
      "the missing value of job_info_experience_num_months is 227222\n",
      "the missing value of job_info_foreign_ed is 127075\n",
      "the missing value of job_info_foreign_lang_req is 126862\n",
      "the missing value of job_info_job_req_normal is 126859\n",
      "the missing value of job_info_job_title is 126889\n",
      "the missing value of job_info_major is 151241\n",
      "the missing value of job_info_training is 126861\n",
      "the missing value of job_info_training_field is 351877\n",
      "the missing value of job_info_training_num_months is 351596\n",
      "the missing value of job_info_work_city is 95\n",
      "the missing value of job_info_work_postal_code is 126930\n",
      "the missing value of job_info_work_state is 96\n",
      "the missing value of naics_2007_us_code is 337009\n",
      "the missing value of naics_2007_us_title is 337598\n",
      "the missing value of naics_code is 272070\n",
      "the missing value of naics_title is 272070\n",
      "the missing value of naics_us_code is 211467\n",
      "the missing value of naics_us_code_2007 is 248921\n",
      "the missing value of naics_us_title is 211467\n",
      "the missing value of naics_us_title_2007 is 251893\n",
      "the missing value of orig_case_no is 355892\n",
      "the missing value of orig_file_date is 355904\n",
      "the missing value of preparer_info_emp_completed is 126885\n",
      "the missing value of preparer_info_title is 154602\n",
      "the missing value of pw_amount_9089 is 2203\n",
      "the missing value of pw_determ_date is 127160\n",
      "the missing value of pw_expire_date is 127239\n",
      "the missing value of pw_job_title_908 is 211218\n",
      "the missing value of pw_job_title_9089 is 145334\n",
      "the missing value of pw_level_9089 is 26585\n",
      "the missing value of pw_soc_code is 574\n",
      "the missing value of pw_soc_title is 2321\n",
      "the missing value of pw_source_name_9089 is 2087\n",
      "the missing value of pw_source_name_other_9089 is 340927\n",
      "the missing value of pw_track_num is 128696\n",
      "the missing value of pw_unit_of_pay_9089 is 1481\n",
      "the missing value of rec_info_barg_rep_notified is 271930\n",
      "the missing value of recr_info_barg_rep_notified is 211165\n",
      "the missing value of recr_info_coll_teach_comp_proc is 349374\n",
      "the missing value of recr_info_coll_univ_teacher is 126876\n",
      "the missing value of recr_info_employer_rec_payment is 126864\n",
      "the missing value of recr_info_first_ad_start is 132806\n",
      "the missing value of recr_info_job_fair_from is 354447\n",
      "the missing value of recr_info_job_fair_to is 354451\n",
      "the missing value of recr_info_on_campus_recr_from is 354403\n",
      "the missing value of recr_info_on_campus_recr_to is 354410\n",
      "the missing value of recr_info_pro_org_advert_from is 342873\n",
      "the missing value of recr_info_pro_org_advert_to is 342879\n",
      "the missing value of recr_info_prof_org_advert_from is 328771\n",
      "the missing value of recr_info_prof_org_advert_to is 328778\n",
      "the missing value of recr_info_professional_occ is 126861\n",
      "the missing value of recr_info_radio_tv_ad_from is 336666\n",
      "the missing value of recr_info_radio_tv_ad_to is 336665\n",
      "the missing value of recr_info_second_ad_start is 132843\n",
      "the missing value of recr_info_sunday_newspaper is 132717\n",
      "the missing value of recr_info_swa_job_order_end is 132841\n",
      "the missing value of recr_info_swa_job_order_start is 132819\n",
      "the missing value of refile is 247861\n",
      "the missing value of ri_1st_ad_newspaper_name is 132797\n",
      "the missing value of ri_2nd_ad_newspaper_name is 132858\n",
      "the missing value of ri_2nd_ad_newspaper_or_journal is 132825\n",
      "the missing value of ri_campus_placement_from is 327380\n",
      "the missing value of ri_campus_placement_to is 327390\n",
      "the missing value of ri_coll_tch_basic_process is 349382\n",
      "the missing value of ri_coll_teach_pro_jnl is 350625\n",
      "the missing value of ri_coll_teach_select_date is 350626\n",
      "the missing value of ri_employee_referral_prog_from is 289853\n",
      "the missing value of ri_employee_referral_prog_to is 289852\n",
      "the missing value of ri_employer_web_post_from is 224277\n",
      "the missing value of ri_employer_web_post_to is 224300\n",
      "the missing value of ri_job_search_website_from is 166377\n",
      "the missing value of ri_job_search_website_to is 166388\n",
      "the missing value of ri_layoff_in_past_six_months is 126878\n",
      "the missing value of ri_local_ethnic_paper_from is 239853\n",
      "the missing value of ri_local_ethnic_paper_to is 239852\n",
      "the missing value of ri_posted_notice_at_worksite is 126927\n",
      "the missing value of ri_pvt_employment_firm_from is 340050\n",
      "the missing value of ri_pvt_employment_firm_to is 340052\n",
      "the missing value of ri_us_workers_considered is 339595\n",
      "the missing value of schd_a_sheepherder is 126866\n",
      "the missing value of us_economic_sector is 235300\n",
      "the missing value of wage_offer_from_9089 is 107705\n",
      "the missing value of wage_offer_to_9089 is 285397\n",
      "the missing value of wage_offer_unit_of_pay_9089 is 108769\n",
      "the missing value of wage_offered_from_9089 is 248582\n",
      "the missing value of wage_offered_to_9089 is 326852\n",
      "the missing value of wage_offered_unit_of_pay_9089 is 289470\n",
      "the missing value of casenumberlist is 229320\n"
     ]
    }
   ],
   "source": [
    "# printing all columns missing values----\n",
    "\n",
    "for cols in df.columns:\n",
    "    print(f\"the missing value of {cols} is {df[cols].isna().sum()}\")"
   ]
  },
  {
   "cell_type": "code",
   "execution_count": 30,
   "id": "5816a1e5-b848-4d43-85f6-405e73a1daa8",
   "metadata": {},
   "outputs": [
    {
     "data": {
      "text/plain": [
       "0         2012-02-01\n",
       "1         2011-12-21\n",
       "2         2011-12-01\n",
       "3         2011-12-01\n",
       "4         2012-01-26\n",
       "             ...    \n",
       "374349    2016-12-30\n",
       "374350    2016-12-30\n",
       "374351    2016-12-30\n",
       "374352    2016-12-30\n",
       "374353    2016-12-30\n",
       "Name: decision_date, Length: 356168, dtype: object"
      ]
     },
     "execution_count": 30,
     "metadata": {},
     "output_type": "execute_result"
    }
   ],
   "source": [
    "df[\"decision_date\"]"
   ]
  },
  {
   "cell_type": "code",
   "execution_count": 31,
   "id": "16ae209d-19b9-4fd0-bbb1-9b1784aecd2e",
   "metadata": {},
   "outputs": [
    {
     "data": {
      "text/plain": [
       "0        2012-02-01\n",
       "1        2011-12-21\n",
       "2        2011-12-01\n",
       "3        2011-12-01\n",
       "4        2012-01-26\n",
       "            ...    \n",
       "374349   2016-12-30\n",
       "374350   2016-12-30\n",
       "374351   2016-12-30\n",
       "374352   2016-12-30\n",
       "374353   2016-12-30\n",
       "Name: decision_date, Length: 356168, dtype: datetime64[ns]"
      ]
     },
     "execution_count": 31,
     "metadata": {},
     "output_type": "execute_result"
    }
   ],
   "source": [
    "df_date=pd.to_datetime(df[\"decision_date\"])\n",
    "df_date"
   ]
  },
  {
   "cell_type": "code",
   "execution_count": 32,
   "id": "377d7358-fa98-4175-b8e6-01ae0e1eef77",
   "metadata": {},
   "outputs": [],
   "source": [
    "df[\"day\"]=df_date.dt.day"
   ]
  },
  {
   "cell_type": "code",
   "execution_count": 33,
   "id": "33ddb589-9933-4458-8a23-2f0279e72860",
   "metadata": {},
   "outputs": [],
   "source": [
    "df[\"month\"]=df_date.dt.month"
   ]
  },
  {
   "cell_type": "code",
   "execution_count": 34,
   "id": "17600999-7260-46b2-960a-5287937b302e",
   "metadata": {},
   "outputs": [],
   "source": [
    "df[\"year\"]=df_date.dt.year"
   ]
  },
  {
   "cell_type": "code",
   "execution_count": 35,
   "id": "b4a7dea5-e5b2-4976-b710-9bb78d3ce0e9",
   "metadata": {},
   "outputs": [
    {
     "data": {
      "text/plain": [
       "<Axes: xlabel='year', ylabel='count'>"
      ]
     },
     "execution_count": 35,
     "metadata": {},
     "output_type": "execute_result"
    },
    {
     "data": {
      "image/png": "[encoded data removed]",
      "text/plain": [
       "<Figure size 640x480 with 1 Axes>"
      ]
     },
     "metadata": {},
     "output_type": "display_data"
    }
   ],
   "source": [
    "# want to know year-wise status ---\n",
    "\n",
    "sns.countplot(x=df[\"year\"],hue=df[\"case_status\"])\n",
    "\n",
    "# insight>> upward trend in visa certification"
   ]
  },
  {
   "cell_type": "code",
   "execution_count": 36,
   "id": "af95b12e-e934-4207-bc64-3bba9635cc5a",
   "metadata": {},
   "outputs": [
    {
     "data": {
      "text/plain": [
       "array(['NEW YORK', 'CARLSTADT', 'GLEN ALLEN', ..., 'austin',\n",
       "       'Carson City', 'Northfield'], dtype=object)"
      ]
     },
     "execution_count": 36,
     "metadata": {},
     "output_type": "execute_result"
    }
   ],
   "source": [
    "df[\"employer_city\"].unique()"
   ]
  },
  {
   "cell_type": "code",
   "execution_count": 37,
   "id": "0992da7e-4c50-48e4-8adf-8b0823400820",
   "metadata": {},
   "outputs": [
    {
     "data": {
      "text/plain": [
       "employer_city\n",
       "NEW YORK           15992\n",
       "COLLEGE STATION    11983\n",
       "SANTA CLARA        10446\n",
       "SAN JOSE            9004\n",
       "REDMOND             8469\n",
       "                   ...  \n",
       "PARADISE               1\n",
       "GRANITE SPRINGS        1\n",
       "GALLIANO               1\n",
       "BURKBURNETT            1\n",
       "Northfield             1\n",
       "Name: count, Length: 8324, dtype: int64"
      ]
     },
     "execution_count": 37,
     "metadata": {},
     "output_type": "execute_result"
    }
   ],
   "source": [
    "df[\"employer_city\"].value_counts()"
   ]
  },
  {
   "cell_type": "code",
   "execution_count": 38,
   "id": "d6330c90-2477-417b-bf33-a893f4036a99",
   "metadata": {},
   "outputs": [
    {
     "data": {
      "text/plain": [
       "array(['NEW YORK', 'CARLSTADT', 'GLEN ALLEN', ..., 'PERRYSVILLE',\n",
       "       'STILWELL', 'ROYAL OAKS'], dtype=object)"
      ]
     },
     "execution_count": 38,
     "metadata": {},
     "output_type": "execute_result"
    }
   ],
   "source": [
    "# convertig all letter case to upper case ----\n",
    "\n",
    "df[\"employer_city\"]=df[\"employer_city\"].str.upper()\n",
    "df[\"employer_city\"].unique()"
   ]
  },
  {
   "cell_type": "code",
   "execution_count": 39,
   "id": "f0ad0d2d-1cec-4138-a5cf-f1fb7c4e5d2f",
   "metadata": {},
   "outputs": [
    {
     "data": {
      "image/png": "[encoded data removed]",
      "text/plain": [
       "<Figure size 640x480 with 1 Axes>"
      ]
     },
     "metadata": {},
     "output_type": "display_data"
    }
   ],
   "source": [
    "# employer_city year wise which are the city where visa approved people are working\n",
    "\n",
    "sns.countplot(x=df[\"employer_city\"],hue=df[\"year\"],order=df.employer_city.value_counts().iloc[:10].index)\n",
    "plt.xticks(rotation=90)\n",
    "plt.show()\n",
    "#insight> highest number of people who apply for the visa work in new york,"
   ]
  },
  {
   "cell_type": "code",
   "execution_count": 40,
   "id": "8b392917-7a8e-48be-9cae-1448fd2ee883",
   "metadata": {},
   "outputs": [
    {
     "data": {
      "text/html": [
       "<div>\n",
       "<style scoped>\n",
       "    .dataframe tbody tr th:only-of-type {\n",
       "        vertical-align: middle;\n",
       "    }\n",
       "\n",
       "    .dataframe tbody tr th {\n",
       "        vertical-align: top;\n",
       "    }\n",
       "\n",
       "    .dataframe thead th {\n",
       "        text-align: right;\n",
       "    }\n",
       "</style>\n",
       "<table border=\"1\" class=\"dataframe\">\n",
       "  <thead>\n",
       "    <tr style=\"text-align: right;\">\n",
       "      <th></th>\n",
       "      <th>count</th>\n",
       "    </tr>\n",
       "    <tr>\n",
       "      <th>employer_name</th>\n",
       "      <th></th>\n",
       "    </tr>\n",
       "  </thead>\n",
       "  <tbody>\n",
       "    <tr>\n",
       "      <th>COGNIZANT TECHNOLOGY SOLUTIONS US CORPORATION</th>\n",
       "      <td>11936</td>\n",
       "    </tr>\n",
       "    <tr>\n",
       "      <th>MICROSOFT CORPORATION</th>\n",
       "      <td>8082</td>\n",
       "    </tr>\n",
       "    <tr>\n",
       "      <th>INTEL CORPORATION</th>\n",
       "      <td>6120</td>\n",
       "    </tr>\n",
       "    <tr>\n",
       "      <th>GOOGLE INC.</th>\n",
       "      <td>5060</td>\n",
       "    </tr>\n",
       "    <tr>\n",
       "      <th>AMAZON CORPORATE LLC</th>\n",
       "      <td>3639</td>\n",
       "    </tr>\n",
       "    <tr>\n",
       "      <th>CISCO SYSTEMS, INC.</th>\n",
       "      <td>2592</td>\n",
       "    </tr>\n",
       "    <tr>\n",
       "      <th>APPLE INC.</th>\n",
       "      <td>2536</td>\n",
       "    </tr>\n",
       "    <tr>\n",
       "      <th>ORACLE AMERICA, INC.</th>\n",
       "      <td>2505</td>\n",
       "    </tr>\n",
       "    <tr>\n",
       "      <th>INFOSYS LTD.</th>\n",
       "      <td>2498</td>\n",
       "    </tr>\n",
       "    <tr>\n",
       "      <th>DELOITTE CONSULTING LLP</th>\n",
       "      <td>1689</td>\n",
       "    </tr>\n",
       "  </tbody>\n",
       "</table>\n",
       "</div>"
      ],
      "text/plain": [
       "                                               count\n",
       "employer_name                                       \n",
       "COGNIZANT TECHNOLOGY SOLUTIONS US CORPORATION  11936\n",
       "MICROSOFT CORPORATION                           8082\n",
       "INTEL CORPORATION                               6120\n",
       "GOOGLE INC.                                     5060\n",
       "AMAZON CORPORATE LLC                            3639\n",
       "CISCO SYSTEMS, INC.                             2592\n",
       "APPLE INC.                                      2536\n",
       "ORACLE AMERICA, INC.                            2505\n",
       "INFOSYS LTD.                                    2498\n",
       "DELOITTE CONSULTING LLP                         1689"
      ]
     },
     "execution_count": 40,
     "metadata": {},
     "output_type": "execute_result"
    }
   ],
   "source": [
    "# top 10 employes by visa application\n",
    "\n",
    "a=df[\"employer_name\"].value_counts().head(10)\n",
    "df_a=pd.DataFrame(a)\n",
    "df_a"
   ]
  },
  {
   "cell_type": "code",
   "execution_count": 41,
   "id": "7c872907-2f30-41cd-9f41-57292f1e52ad",
   "metadata": {},
   "outputs": [
    {
     "data": {
      "image/png": "[encoded data removed]",
      "text/plain": [
       "<Figure size 640x480 with 1 Axes>"
      ]
     },
     "metadata": {},
     "output_type": "display_data"
    }
   ],
   "source": [
    "sns.barplot(x=\"employer_name\",y=\"count\",data=df_a,color=\"skyblue\")\n",
    "plt.xticks(rotation=90)\n",
    "\n",
    "for i,v in enumerate(df_a[\"count\"]):\n",
    "    plt.text(i, v+10 ,str(v),ha=\"center\")\n",
    "\n",
    "\n",
    "plt.show()\n",
    "\n",
    "#insight>> the highest number of visa application from the cognizent us corporation "
   ]
  },
  {
   "cell_type": "code",
   "execution_count": 42,
   "id": "fc5d7d0d-f619-41c9-8ae9-b882fa3860ee",
   "metadata": {},
   "outputs": [
    {
     "data": {
      "text/plain": [
       "0                            IT\n",
       "1         Other Economic Sector\n",
       "2                     Aerospace\n",
       "3         Other Economic Sector\n",
       "4                  Advanced Mfg\n",
       "                  ...          \n",
       "374349                      NaN\n",
       "374350                      NaN\n",
       "374351                      NaN\n",
       "374352                      NaN\n",
       "374353                      NaN\n",
       "Name: us_economic_sector, Length: 356168, dtype: object"
      ]
     },
     "execution_count": 42,
     "metadata": {},
     "output_type": "execute_result"
    }
   ],
   "source": [
    "df[\"us_economic_sector\"]"
   ]
  },
  {
   "cell_type": "code",
   "execution_count": 43,
   "id": "0f300f08-9936-43bc-a929-76aa859df6f0",
   "metadata": {},
   "outputs": [
    {
     "data": {
      "text/plain": [
       "us_economic_sector\n",
       "IT                       49311\n",
       "Advanced Mfg             17601\n",
       "Other Economic Sector    14662\n",
       "Finance                   8686\n",
       "Educational Services      8561\n",
       "Health Care               6407\n",
       "Retail                    4208\n",
       "Aerospace                 3917\n",
       "Hospitality               1767\n",
       "Construction              1315\n",
       "Automotive                1084\n",
       "Energy                    1021\n",
       "Transportation             893\n",
       "Agribusiness               784\n",
       "Biotechnology              436\n",
       "Geospatial                 137\n",
       "Homeland Security           78\n",
       "Name: count, dtype: int64"
      ]
     },
     "execution_count": 43,
     "metadata": {},
     "output_type": "execute_result"
    }
   ],
   "source": [
    "df[\"us_economic_sector\"].value_counts()"
   ]
  },
  {
   "cell_type": "code",
   "execution_count": 44,
   "id": "dc4940d9-7bd6-4bb3-8262-ab085aeee0b0",
   "metadata": {},
   "outputs": [
    {
     "data": {
      "text/plain": [
       "us_economic_sector\n",
       "IT                       49311\n",
       "Advanced Mfg             17601\n",
       "Other Economic Sector    14662\n",
       "Finance                   8686\n",
       "Educational Services      8561\n",
       "Health Care               6407\n",
       "Retail                    4208\n",
       "Aerospace                 3917\n",
       "Hospitality               1767\n",
       "Construction              1315\n",
       "Name: count, dtype: int64"
      ]
     },
     "execution_count": 44,
     "metadata": {},
     "output_type": "execute_result"
    }
   ],
   "source": [
    "sector_value=df[\"us_economic_sector\"].value_counts().head(10)\n",
    "sector_value"
   ]
  },
  {
   "cell_type": "code",
   "execution_count": 45,
   "id": "58b3ea8f-c6be-430d-a000-8300f9a4461d",
   "metadata": {},
   "outputs": [
    {
     "data": {
      "image/png": "[encoded data removed]",
      "text/plain": [
       "<Figure size 640x480 with 1 Axes>"
      ]
     },
     "metadata": {},
     "output_type": "display_data"
    }
   ],
   "source": [
    "# Define the explode parameter to create gaps between the slices\n",
    "explode = [0.1 if i == 0 else 0 for i in range(len(sector_value))]\n",
    "plt.pie(x=sector_value,labels=sector_value.index,autopct=\"%1.1f%%\",shadow=True,explode=explode)\n",
    "\n",
    "plt.show()\n",
    "\n",
    "# insight>> most of the it  professional get their visa in this dataset"
   ]
  },
  {
   "cell_type": "code",
   "execution_count": 46,
   "id": "616e1d76-fda2-4386-adda-58ad0faf8dc5",
   "metadata": {},
   "outputs": [
    {
     "data": {
      "text/plain": [
       "job_info_job_title\n",
       "Software Engineer                       14372\n",
       "Computer Systems Analyst - V             4747\n",
       "Senior Software Engineer                 3801\n",
       "Computer Systems Analyst - II            3416\n",
       "Software Developer                       2880\n",
       "Assistant Professor                      2604\n",
       "Programmer Analyst                       2534\n",
       "Computer Systems Analyst - IV            2496\n",
       "Systems Analyst                          2034\n",
       "Software Development Engineer II         1630\n",
       "Poultry Processing Worker                1594\n",
       "Component Design Engineer                1064\n",
       "Poultry Processor                        1037\n",
       "Business Analyst                          963\n",
       "software engineer                         932\n",
       "SOFTWARE ENGINEER                         877\n",
       "Senior Programmer Analyst                 862\n",
       "Sr. Software Engineer                     847\n",
       "Senior Software Developer                 817\n",
       "Commercial Cleaner                        802\n",
       "Process Engineer                          746\n",
       "Accountant                                719\n",
       "Computer Programmer                       687\n",
       "Computer Systems Analyst                  684\n",
       "Database Administrator                    654\n",
       "Software Engineer II                      653\n",
       "Sr. Programmer Analyst                    641\n",
       "Software Development Engineer             623\n",
       "Hospitalist                               612\n",
       "Software Developer / Analyst              603\n",
       "Market Research Analyst                   583\n",
       "Computer Systems Analyst - A              574\n",
       "Poultry Trimmer                           568\n",
       "Project Manager                           564\n",
       "Hospitalist Physician                     527\n",
       "Caregiver                                 510\n",
       "Lead Analyst                              499\n",
       "Lead Consultant                           498\n",
       "PROGRAMMER ANALYST                        493\n",
       "Senior Systems Analyst                    466\n",
       "Business Systems Analyst                  452\n",
       "Software Developer, Systems Software      443\n",
       "Consultant                                442\n",
       "Manager                                   427\n",
       "Senior Consultant                         424\n",
       "Project Engineer                          409\n",
       "General Labor                             406\n",
       "Production Line Worker                    400\n",
       "Applications Developer                    396\n",
       "SOFTWARE DEVELOPER                        392\n",
       "Name: count, dtype: int64"
      ]
     },
     "execution_count": 46,
     "metadata": {},
     "output_type": "execute_result"
    }
   ],
   "source": [
    "df[\"job_info_job_title\"].value_counts().head(50)"
   ]
  },
  {
   "cell_type": "code",
   "execution_count": 47,
   "id": "e5a75c62-3f3a-41d7-ac7d-f835f59431de",
   "metadata": {},
   "outputs": [],
   "source": [
    "# marging Computer Systems Analyst - IV,Computer Systems Analyst - II,Computer Systems Analyst - V \n",
    "# so they have same job domain.\n",
    "# same for SOFTWARE ENGINEERs . "
   ]
  },
  {
   "cell_type": "code",
   "execution_count": 48,
   "id": "0a021219-261d-4f36-b332-a32de0af8b06",
   "metadata": {},
   "outputs": [
    {
     "data": {
      "text/plain": [
       "job_info_job_title\n",
       "Software Engineer                   15398\n",
       "Computer Systems Analyst            11937\n",
       "Senior Software Engineer             4545\n",
       "Software Developer                   3788\n",
       "Assistant Professor                  2740\n",
       "Programmer Analyst                   2733\n",
       "Systems Analyst                      2146\n",
       "Software Development Engineer II     1772\n",
       "Poultry Processing Worker            1594\n",
       "Business Analyst                     1292\n",
       "Name: count, dtype: int64"
      ]
     },
     "execution_count": 48,
     "metadata": {},
     "output_type": "execute_result"
    }
   ],
   "source": [
    "#converting into lower case--\n",
    "df[\"job_info_job_title\"].str.lower()\n",
    "\n",
    "#Splitting job titles by '-'\n",
    "df['job_info_job_title'] = df['job_info_job_title'].astype(str).str.split('-').str[0]\n",
    "#Splitting job titles by 'ii'\n",
    "df['job_info_job_title'] = df['job_info_job_title'].astype(str).str.split('ii').str[0]\n",
    "#Splitting job titles by '/'\n",
    "df['job_info_job_title'] = df['job_info_job_title'].astype(str).str.split('/').str[0]\n",
    "#Removing leading and ending spaces\n",
    "df['job_info_job_title'] = df['job_info_job_title'].astype(str).str.strip()\n",
    "#Replacing \"sr.\" values with \"senior\"\n",
    "df['job_info_job_title'] = df['job_info_job_title'].str.replace('sr.', 'senior')\n",
    "#Replacing \"NaN\", \"NaT\" and \"nan\" values with np.nan\n",
    "df['job_info_job_title'].replace([\"NaN\", 'NaT','nan'], np.nan, inplace = True)\n",
    "\n",
    "\n",
    "df['job_info_job_title'].value_counts(dropna=True)[:10]\n"
   ]
  },
  {
   "cell_type": "code",
   "execution_count": 49,
   "id": "c6a92b34-d493-4134-9ada-b7b8877c7224",
   "metadata": {},
   "outputs": [
    {
     "data": {
      "text/plain": [
       "job_info_job_title\n",
       "Software Engineer                   15398\n",
       "Computer Systems Analyst            11937\n",
       "Senior Software Engineer             4545\n",
       "Software Developer                   3788\n",
       "Assistant Professor                  2740\n",
       "Programmer Analyst                   2733\n",
       "Systems Analyst                      2146\n",
       "Software Development Engineer II     1772\n",
       "Poultry Processing Worker            1594\n",
       "Business Analyst                     1292\n",
       "Name: count, dtype: int64"
      ]
     },
     "execution_count": 49,
     "metadata": {},
     "output_type": "execute_result"
    }
   ],
   "source": [
    "top_job_title=df[\"job_info_job_title\"].value_counts().head(10)\n",
    "top_job_title"
   ]
  },
  {
   "cell_type": "code",
   "execution_count": 50,
   "id": "294f4051-4224-4381-b787-0800eb8bee44",
   "metadata": {},
   "outputs": [
    {
     "data": {
      "image/png": "[encoded data removed]",
      "text/plain": [
       "<Figure size 640x480 with 1 Axes>"
      ]
     },
     "metadata": {},
     "output_type": "display_data"
    }
   ],
   "source": [
    "sns.barplot(x=top_job_title.index,y=top_job_title,palette=\"coolwarm\")\n",
    "\n",
    "plt.xticks(rotation=90)\n",
    "plt.show()\n",
    "\n",
    "# insight>> software engineer applied the most of the visa applications"
   ]
  },
  {
   "cell_type": "code",
   "execution_count": 51,
   "id": "193d3a53-f798-45f9-9a71-15213ccf2fb6",
   "metadata": {},
   "outputs": [
    {
     "data": {
      "text/plain": [
       "[NaN, NaN, NaN, NaN, NaN, ..., 'INDIA', 'INDIA', 'INDIA', 'INDIA', 'INDIA']\n",
       "Length: 356168\n",
       "Categories (201, object): ['AFGHANISTAN', 'ALBANIA', 'ALGERIA', 'ANDORRA', ..., 'YEMEN', 'YUGOSLAVIA', 'ZAMBIA', 'ZIMBABWE']"
      ]
     },
     "execution_count": 51,
     "metadata": {},
     "output_type": "execute_result"
    }
   ],
   "source": [
    "#CONVERING COUNTRY OF CITIZENSHIP INTO CATEGORICAL DATA TYPE\n",
    "pd.Categorical(df.country_of_citizenship)"
   ]
  },
  {
   "cell_type": "code",
   "execution_count": 52,
   "id": "f8a7099a-6858-4e98-b918-bb4be3ab45a9",
   "metadata": {},
   "outputs": [
    {
     "data": {
      "text/plain": [
       "country_of_citizenship\n",
       "INDIA             186777\n",
       "CHINA              26418\n",
       "SOUTH KOREA        21218\n",
       "CANADA             13129\n",
       "MEXICO              7917\n",
       "PHILIPPINES         7485\n",
       "UNITED KINGDOM      4414\n",
       "TAIWAN              3690\n",
       "PAKISTAN            3507\n",
       "FRANCE              2871\n",
       "NEPAL               2747\n",
       "BRAZIL              2627\n",
       "JAPAN               2618\n",
       "VENEZUELA           2450\n",
       "RUSSIA              2301\n",
       "Name: count, dtype: int64"
      ]
     },
     "execution_count": 52,
     "metadata": {},
     "output_type": "execute_result"
    }
   ],
   "source": [
    "citizenship_df=df.country_of_citizenship.value_counts().head(15)\n",
    "citizenship_df\n",
    "\n"
   ]
  },
  {
   "cell_type": "code",
   "execution_count": 53,
   "id": "af999d98-372a-4af7-9872-ccfbc8c0de16",
   "metadata": {},
   "outputs": [
    {
     "data": {
      "image/png": "[encoded data removed]",
      "text/plain": [
       "<Figure size 640x480 with 1 Axes>"
      ]
     },
     "metadata": {},
     "output_type": "display_data"
    }
   ],
   "source": [
    "sns.barplot(x=citizenship_df.index,y=citizenship_df)\n",
    "plt.xticks(rotation=90)\n",
    "plt.show()"
   ]
  },
  {
   "cell_type": "code",
   "execution_count": 54,
   "id": "e26da464-ede0-48eb-92a3-da9f44a2ed9c",
   "metadata": {},
   "outputs": [
    {
     "data": {
      "image/png": "[encoded data removed]",
      "text/plain": [
       "<Figure size 640x480 with 1 Axes>"
      ]
     },
     "metadata": {},
     "output_type": "display_data"
    }
   ],
   "source": [
    "sns.countplot(x=df[\"country_of_citzenship\"],hue=df[\"case_status\"],order=df.country_of_citizenship.value_counts().head(10).index)\n",
    "\n",
    "plt.xticks(rotation=90)\n",
    "plt.show()\n",
    "\n",
    "#insight>> india has the maximum number of people awarded with the visa "
   ]
  },
  {
   "cell_type": "code",
   "execution_count": 55,
   "id": "f5ba943b-befd-4875-b377-f04e3cb41cbf",
   "metadata": {},
   "outputs": [
    {
     "data": {
      "text/plain": [
       "application_type\n",
       "ONLINE      105616\n",
       "PERM         19219\n",
       "MAILEDIN      2013\n",
       "Name: count, dtype: int64"
      ]
     },
     "execution_count": 55,
     "metadata": {},
     "output_type": "execute_result"
    }
   ],
   "source": [
    "df.application_type.value_counts()"
   ]
  },
  {
   "cell_type": "code",
   "execution_count": 56,
   "id": "8636a2f4-319a-4aee-9b02-9461ae1ba167",
   "metadata": {},
   "outputs": [
    {
     "data": {
      "image/png": "[encoded data removed]",
      "text/plain": [
       "<Figure size 640x480 with 1 Axes>"
      ]
     },
     "metadata": {},
     "output_type": "display_data"
    }
   ],
   "source": [
    "sns.countplot(x=df[\"application_type\"],order=df['application_type'].value_counts().index[:10])\n",
    "plt.show()"
   ]
  },
  {
   "cell_type": "code",
   "execution_count": 57,
   "id": "fc38f43a-62ef-413e-a226-f48381683b1f",
   "metadata": {},
   "outputs": [
    {
     "data": {
      "text/plain": [
       "foreign_worker_info_education\n",
       "Master's       99892\n",
       "Bachelor's     84674\n",
       "Doctorate      11759\n",
       "Other           9807\n",
       "High School     4257\n",
       "Associate's     2225\n",
       "Name: count, dtype: int64"
      ]
     },
     "execution_count": 57,
     "metadata": {},
     "output_type": "execute_result"
    }
   ],
   "source": [
    "foreign_work=df['foreign_worker_info_education'].value_counts()\n",
    "foreign_work"
   ]
  },
  {
   "cell_type": "code",
   "execution_count": 58,
   "id": "a7de7816-51e5-4ed0-880b-26d79112e859",
   "metadata": {},
   "outputs": [
    {
     "data": {
      "image/png": "[encoded data removed]",
      "text/plain": [
       "<Figure size 640x480 with 1 Axes>"
      ]
     },
     "metadata": {},
     "output_type": "display_data"
    }
   ],
   "source": [
    "# Creating the count plot\n",
    "sns.barplot(x=foreign_work.index, y=foreign_work,\n",
    "              palette=sns.color_palette(\"Paired\"),\n",
    "              order=df['foreign_worker_info_education'].value_counts().index[:10])\n",
    "\n",
    "plt.show()\n",
    "\n",
    "#insights>> most of the people apply for visa are done master now they are trying to go abroad"
   ]
  },
  {
   "cell_type": "code",
   "execution_count": 59,
   "id": "59ca75b5-fdd4-46c1-a4a0-6ef0d9fa56ac",
   "metadata": {},
   "outputs": [
    {
     "data": {
      "text/plain": [
       "add_these_pw_job_title_9089      317031\n",
       "agent_city                       153452\n",
       "agent_firm_name                  157646\n",
       "agent_state                      156544\n",
       "application_type                 229320\n",
       "                                  ...  \n",
       "wage_offered_unit_of_pay_9089    289470\n",
       "casenumberlist                   229320\n",
       "day                                   0\n",
       "month                                 0\n",
       "year                                  0\n",
       "Length: 156, dtype: int64"
      ]
     },
     "execution_count": 59,
     "metadata": {},
     "output_type": "execute_result"
    }
   ],
   "source": [
    "df.isnull().sum()"
   ]
  },
  {
   "cell_type": "code",
   "execution_count": 60,
   "id": "6c154ad2-8f1c-4ee6-ab4b-5f3797a3951e",
   "metadata": {},
   "outputs": [],
   "source": [
    "df.case_status=df.case_status.map({\"Certified\":1,\"Denied\":0})\n"
   ]
  },
  {
   "cell_type": "code",
   "execution_count": 61,
   "id": "b4e9fda9-6971-436f-994b-a447295285fe",
   "metadata": {},
   "outputs": [
    {
     "data": {
      "text/plain": [
       "0         1\n",
       "1         0\n",
       "2         1\n",
       "3         1\n",
       "4         1\n",
       "         ..\n",
       "374349    1\n",
       "374350    1\n",
       "374351    1\n",
       "374352    1\n",
       "374353    1\n",
       "Name: case_status, Length: 356168, dtype: int64"
      ]
     },
     "execution_count": 61,
     "metadata": {},
     "output_type": "execute_result"
    }
   ],
   "source": [
    "df.case_status"
   ]
  },
  {
   "cell_type": "code",
   "execution_count": 62,
   "id": "7ed88ece-f723-412c-af0a-e6b61825d156",
   "metadata": {},
   "outputs": [
    {
     "data": {
      "text/plain": [
       "37"
      ]
     },
     "execution_count": 62,
     "metadata": {},
     "output_type": "execute_result"
    }
   ],
   "source": [
    "df[\"employer_state\"].isnull().sum()"
   ]
  },
  {
   "cell_type": "code",
   "execution_count": 63,
   "id": "1ca61182-f462-41b0-8a03-e7452cfe0b3b",
   "metadata": {},
   "outputs": [
    {
     "data": {
      "text/plain": [
       "'CALIFORNIA'"
      ]
     },
     "execution_count": 63,
     "metadata": {},
     "output_type": "execute_result"
    }
   ],
   "source": [
    "df[\"employer_state\"].mode()[0]"
   ]
  },
  {
   "cell_type": "code",
   "execution_count": 64,
   "id": "db5820c5-4eff-434a-a680-25c895c0b95b",
   "metadata": {},
   "outputs": [],
   "source": [
    "df[\"employer_state\"]=df[\"employer_state\"].fillna(df[\"employer_state\"].mode()[0])"
   ]
  },
  {
   "cell_type": "code",
   "execution_count": 136,
   "id": "68cbde36-add9-4d76-a531-80a676188ae9",
   "metadata": {},
   "outputs": [],
   "source": [
    "#missing value treatment for other columns\n",
    "\n",
    "#Replacing missing values with mode\n",
    "df['class_of_admission']=df['class_of_admission'].fillna((df['class_of_admission'].mode()[0]))\n",
    "df['country_of_citizenship']=df['country_of_citizenship'].fillna((df['country_of_citizenship'].mode()[0]))\n",
    "df['employer_city']=df['employer_city'].fillna((df['employer_city'].mode()[0]))\n",
    "df['employer_name']=df['employer_name'].fillna((df['employer_name'].mode()[0]))\n",
    "df['employer_name']=df['employer_name'].astype(str).str.upper()\n",
    "df['pw_source_name_9089']=df['pw_source_name_9089'].fillna((df['pw_source_name_9089'].mode()[0]))"
   ]
  },
  {
   "cell_type": "code",
   "execution_count": 143,
   "id": "4074b1ad-6026-47dc-b1a6-fd1ce5339980",
   "metadata": {},
   "outputs": [
    {
     "name": "stdout",
     "output_type": "stream",
     "text": [
      "<class 'pandas.core.frame.DataFrame'>\n",
      "Index: 356168 entries, 0 to 374353\n",
      "Columns: 156 entries, add_these_pw_job_title_9089 to year\n",
      "dtypes: float64(11), int32(3), int64(1), object(141)\n",
      "memory usage: 422.5+ MB\n"
     ]
    }
   ],
   "source": [
    "df.info()"
   ]
  },
  {
   "cell_type": "code",
   "execution_count": 147,
   "id": "3c078cf6-816e-4612-9fa1-188e7cefef17",
   "metadata": {},
   "outputs": [
    {
     "ename": "AttributeError",
     "evalue": "Can only use .str accessor with string values!",
     "output_type": "error",
     "traceback": [
      "\u001b[1;31m---------------------------------------------------------------------------\u001b[0m",
      "\u001b[1;31mAttributeError\u001b[0m                            Traceback (most recent call last)",
      "Cell \u001b[1;32mIn[147], line 2\u001b[0m\n\u001b[0;32m      1\u001b[0m \u001b[38;5;66;03m# Convert the column containing numerical values with commas to numeric format\u001b[39;00m\n\u001b[1;32m----> 2\u001b[0m df[\u001b[38;5;124m'\u001b[39m\u001b[38;5;124mpw_amount_9089\u001b[39m\u001b[38;5;124m'\u001b[39m] \u001b[38;5;241m=\u001b[39m df[\u001b[38;5;124m'\u001b[39m\u001b[38;5;124mpw_amount_9089\u001b[39m\u001b[38;5;124m'\u001b[39m]\u001b[38;5;241m.\u001b[39mstr\u001b[38;5;241m.\u001b[39mreplace(\u001b[38;5;124m'\u001b[39m\u001b[38;5;124m,\u001b[39m\u001b[38;5;124m'\u001b[39m, \u001b[38;5;124m'\u001b[39m\u001b[38;5;124m'\u001b[39m)\u001b[38;5;241m.\u001b[39mastype(\u001b[38;5;28mfloat\u001b[39m)\n\u001b[0;32m      4\u001b[0m \u001b[38;5;66;03m# Now, you can replace null values in the numerical column with the median\u001b[39;00m\n\u001b[0;32m      5\u001b[0m median_pw_amount \u001b[38;5;241m=\u001b[39m df[\u001b[38;5;124m'\u001b[39m\u001b[38;5;124mpw_amount_9089\u001b[39m\u001b[38;5;124m'\u001b[39m]\u001b[38;5;241m.\u001b[39mmedian()\n",
      "File \u001b[1;32m~\\anaconda3\\Lib\\site-packages\\pandas\\core\\generic.py:6299\u001b[0m, in \u001b[0;36mNDFrame.__getattr__\u001b[1;34m(self, name)\u001b[0m\n\u001b[0;32m   6292\u001b[0m \u001b[38;5;28;01mif\u001b[39;00m (\n\u001b[0;32m   6293\u001b[0m     name \u001b[38;5;129;01mnot\u001b[39;00m \u001b[38;5;129;01min\u001b[39;00m \u001b[38;5;28mself\u001b[39m\u001b[38;5;241m.\u001b[39m_internal_names_set\n\u001b[0;32m   6294\u001b[0m     \u001b[38;5;129;01mand\u001b[39;00m name \u001b[38;5;129;01mnot\u001b[39;00m \u001b[38;5;129;01min\u001b[39;00m \u001b[38;5;28mself\u001b[39m\u001b[38;5;241m.\u001b[39m_metadata\n\u001b[0;32m   6295\u001b[0m     \u001b[38;5;129;01mand\u001b[39;00m name \u001b[38;5;129;01mnot\u001b[39;00m \u001b[38;5;129;01min\u001b[39;00m \u001b[38;5;28mself\u001b[39m\u001b[38;5;241m.\u001b[39m_accessors\n\u001b[0;32m   6296\u001b[0m     \u001b[38;5;129;01mand\u001b[39;00m \u001b[38;5;28mself\u001b[39m\u001b[38;5;241m.\u001b[39m_info_axis\u001b[38;5;241m.\u001b[39m_can_hold_identifiers_and_holds_name(name)\n\u001b[0;32m   6297\u001b[0m ):\n\u001b[0;32m   6298\u001b[0m     \u001b[38;5;28;01mreturn\u001b[39;00m \u001b[38;5;28mself\u001b[39m[name]\n\u001b[1;32m-> 6299\u001b[0m \u001b[38;5;28;01mreturn\u001b[39;00m \u001b[38;5;28mobject\u001b[39m\u001b[38;5;241m.\u001b[39m\u001b[38;5;21m__getattribute__\u001b[39m(\u001b[38;5;28mself\u001b[39m, name)\n",
      "File \u001b[1;32m~\\anaconda3\\Lib\\site-packages\\pandas\\core\\accessor.py:224\u001b[0m, in \u001b[0;36mCachedAccessor.__get__\u001b[1;34m(self, obj, cls)\u001b[0m\n\u001b[0;32m    221\u001b[0m \u001b[38;5;28;01mif\u001b[39;00m obj \u001b[38;5;129;01mis\u001b[39;00m \u001b[38;5;28;01mNone\u001b[39;00m:\n\u001b[0;32m    222\u001b[0m     \u001b[38;5;66;03m# we're accessing the attribute of the class, i.e., Dataset.geo\u001b[39;00m\n\u001b[0;32m    223\u001b[0m     \u001b[38;5;28;01mreturn\u001b[39;00m \u001b[38;5;28mself\u001b[39m\u001b[38;5;241m.\u001b[39m_accessor\n\u001b[1;32m--> 224\u001b[0m accessor_obj \u001b[38;5;241m=\u001b[39m \u001b[38;5;28mself\u001b[39m\u001b[38;5;241m.\u001b[39m_accessor(obj)\n\u001b[0;32m    225\u001b[0m \u001b[38;5;66;03m# Replace the property with the accessor object. Inspired by:\u001b[39;00m\n\u001b[0;32m    226\u001b[0m \u001b[38;5;66;03m# https://www.pydanny.com/cached-property.html\u001b[39;00m\n\u001b[0;32m    227\u001b[0m \u001b[38;5;66;03m# We need to use object.__setattr__ because we overwrite __setattr__ on\u001b[39;00m\n\u001b[0;32m    228\u001b[0m \u001b[38;5;66;03m# NDFrame\u001b[39;00m\n\u001b[0;32m    229\u001b[0m \u001b[38;5;28mobject\u001b[39m\u001b[38;5;241m.\u001b[39m\u001b[38;5;21m__setattr__\u001b[39m(obj, \u001b[38;5;28mself\u001b[39m\u001b[38;5;241m.\u001b[39m_name, accessor_obj)\n",
      "File \u001b[1;32m~\\anaconda3\\Lib\\site-packages\\pandas\\core\\strings\\accessor.py:191\u001b[0m, in \u001b[0;36mStringMethods.__init__\u001b[1;34m(self, data)\u001b[0m\n\u001b[0;32m    188\u001b[0m \u001b[38;5;28;01mdef\u001b[39;00m \u001b[38;5;21m__init__\u001b[39m(\u001b[38;5;28mself\u001b[39m, data) \u001b[38;5;241m-\u001b[39m\u001b[38;5;241m>\u001b[39m \u001b[38;5;28;01mNone\u001b[39;00m:\n\u001b[0;32m    189\u001b[0m     \u001b[38;5;28;01mfrom\u001b[39;00m \u001b[38;5;21;01mpandas\u001b[39;00m\u001b[38;5;21;01m.\u001b[39;00m\u001b[38;5;21;01mcore\u001b[39;00m\u001b[38;5;21;01m.\u001b[39;00m\u001b[38;5;21;01marrays\u001b[39;00m\u001b[38;5;21;01m.\u001b[39;00m\u001b[38;5;21;01mstring_\u001b[39;00m \u001b[38;5;28;01mimport\u001b[39;00m StringDtype\n\u001b[1;32m--> 191\u001b[0m     \u001b[38;5;28mself\u001b[39m\u001b[38;5;241m.\u001b[39m_inferred_dtype \u001b[38;5;241m=\u001b[39m \u001b[38;5;28mself\u001b[39m\u001b[38;5;241m.\u001b[39m_validate(data)\n\u001b[0;32m    192\u001b[0m     \u001b[38;5;28mself\u001b[39m\u001b[38;5;241m.\u001b[39m_is_categorical \u001b[38;5;241m=\u001b[39m \u001b[38;5;28misinstance\u001b[39m(data\u001b[38;5;241m.\u001b[39mdtype, CategoricalDtype)\n\u001b[0;32m    193\u001b[0m     \u001b[38;5;28mself\u001b[39m\u001b[38;5;241m.\u001b[39m_is_string \u001b[38;5;241m=\u001b[39m \u001b[38;5;28misinstance\u001b[39m(data\u001b[38;5;241m.\u001b[39mdtype, StringDtype)\n",
      "File \u001b[1;32m~\\anaconda3\\Lib\\site-packages\\pandas\\core\\strings\\accessor.py:245\u001b[0m, in \u001b[0;36mStringMethods._validate\u001b[1;34m(data)\u001b[0m\n\u001b[0;32m    242\u001b[0m inferred_dtype \u001b[38;5;241m=\u001b[39m lib\u001b[38;5;241m.\u001b[39minfer_dtype(values, skipna\u001b[38;5;241m=\u001b[39m\u001b[38;5;28;01mTrue\u001b[39;00m)\n\u001b[0;32m    244\u001b[0m \u001b[38;5;28;01mif\u001b[39;00m inferred_dtype \u001b[38;5;129;01mnot\u001b[39;00m \u001b[38;5;129;01min\u001b[39;00m allowed_types:\n\u001b[1;32m--> 245\u001b[0m     \u001b[38;5;28;01mraise\u001b[39;00m \u001b[38;5;167;01mAttributeError\u001b[39;00m(\u001b[38;5;124m\"\u001b[39m\u001b[38;5;124mCan only use .str accessor with string values!\u001b[39m\u001b[38;5;124m\"\u001b[39m)\n\u001b[0;32m    246\u001b[0m \u001b[38;5;28;01mreturn\u001b[39;00m inferred_dtype\n",
      "\u001b[1;31mAttributeError\u001b[0m: Can only use .str accessor with string values!"
     ]
    }
   ],
   "source": [
    "# Convert the column containing numerical values with commas to numeric format\n",
    "df['pw_amount_9089'] = df['pw_amount_9089'].str.replace(',', '').astype(float)\n",
    "\n",
    "# Now, you can replace null values in the numerical column with the median\n",
    "median_pw_amount = df['pw_amount_9089'].median()\n",
    "df['pw_amount_9089'].fillna(median_pw_amount, inplace=True)\n",
    "\n",
    "# Verify that there are no more null values\n",
    "print(df.isnull().sum())"
   ]
  },
  {
   "cell_type": "code",
   "execution_count": null,
   "id": "59107076-5906-4eab-9eb7-4e9082108768",
   "metadata": {},
   "outputs": [],
   "source": [
    "df.info"
   ]
  },
  {
   "cell_type": "code",
   "execution_count": null,
   "id": "da87d75f-e50c-4515-a968-0f2acc75a33e",
   "metadata": {},
   "outputs": [],
   "source": []
  },
  {
   "cell_type": "code",
   "execution_count": null,
   "id": "65977160-adca-4bcf-8a4b-179ea8d8f7bd",
   "metadata": {},
   "outputs": [],
   "source": []
  }
 ],
 "metadata": {
  "kernelspec": {
   "display_name": "Python 3 (ipykernel)",
   "language": "python",
   "name": "python3"
  },
  "language_info": {
   "codemirror_mode": {
    "name": "ipython",
    "version": 3
   },
   "file_extension": ".py",
   "mimetype": "text/x-python",
   "name": "python",
   "nbconvert_exporter": "python",
   "pygments_lexer": "ipython3",
   "version": "3.12.4"
  }
 },
 "nbformat": 4,
 "nbformat_minor": 5
}
