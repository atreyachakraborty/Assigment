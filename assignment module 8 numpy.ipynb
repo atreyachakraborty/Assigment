{
 "cells": [
  {
   "cell_type": "markdown",
   "id": "bee209f6-bb8c-4732-a60c-7918c439e16c",
   "metadata": {},
   "source": [
    "THEORETICAL QUESTIONS"
   ]
  },
  {
   "cell_type": "markdown",
   "id": "b905b9fb-20c2-481b-8aba-8e49fddc9550",
   "metadata": {},
   "source": [
    "1. Explain the purpose and advantages of NumPy in scientific computing and data analysis. How does it enhance Python's capabilities for numerical operations?\n",
    "\n",
    "ANS. numpy deals with large amounts of data, offering significant improvement in speed and memory as it uses a type data structure. Also, numpy offers high-level syntax and a wide range of numerical operation\n",
    "\n",
    "Numpy serves uses to solves complex algorithms in the field of probability and statistical analysis"
   ]
  },
  {
   "cell_type": "markdown",
   "id": "03fb064a-2afd-48b8-9337-50aaa81e95d6",
   "metadata": {},
   "source": [
    "2.Compare and contrast np.mean() and np.average() functions in NumPy. When would you use one over the \n",
    "other\n",
    "\n",
    "ans. as np. mean() is used to calculate the average values in an array \n",
    "        np. average() gives weight to the average of the values in an array.\n",
    "\n",
    "when we want unweighted average of data for our computation we use np.mean()\n",
    "when we want weighted avaerage number for our calculation we use np.average()?"
   ]
  },
  {
   "cell_type": "code",
   "execution_count": 21,
   "id": "3e8a86c8-f27e-431d-bdd7-94c09e35a905",
   "metadata": {},
   "outputs": [
    {
     "data": {
      "text/plain": [
       "array([[4, 3, 1],\n",
       "       [5, 4, 2],\n",
       "       [5, 3, 2]], dtype=int32)"
      ]
     },
     "execution_count": 21,
     "metadata": {},
     "output_type": "execute_result"
    }
   ],
   "source": [
    "#3.Describe the methods for reversing a NumPy array along different axes. Provide examples for 1D and 2D \n",
    "#array.\n",
    "\n",
    "#ans. \n",
    "import numpy as np\n",
    "arr1=np.random.randint(1,6,size=(3,3))\n",
    "arr1"
   ]
  },
  {
   "cell_type": "code",
   "execution_count": 35,
   "id": "9089ffdf-1458-45d2-b4e4-382900d3cd97",
   "metadata": {},
   "outputs": [],
   "source": [
    "arr2=np.array([1,2,3,4,5,6])"
   ]
  },
  {
   "cell_type": "code",
   "execution_count": 37,
   "id": "b4bf5e9d-7d0f-4d7f-8432-52c6db228656",
   "metadata": {},
   "outputs": [
    {
     "data": {
      "text/plain": [
       "array([[5, 3, 2],\n",
       "       [5, 4, 2],\n",
       "       [4, 3, 1]], dtype=int32)"
      ]
     },
     "execution_count": 37,
     "metadata": {},
     "output_type": "execute_result"
    }
   ],
   "source": [
    "arr1[::-1]"
   ]
  },
  {
   "cell_type": "code",
   "execution_count": 39,
   "id": "fc438fbc-b658-4532-9aa0-235cfd1bd1e9",
   "metadata": {},
   "outputs": [
    {
     "data": {
      "text/plain": [
       "array([6, 5, 4, 3, 2, 1])"
      ]
     },
     "execution_count": 39,
     "metadata": {},
     "output_type": "execute_result"
    }
   ],
   "source": [
    "arr2[::-1]"
   ]
  },
  {
   "cell_type": "code",
   "execution_count": 47,
   "id": "ad4d4943-334e-451b-bc89-2ac168fa85d7",
   "metadata": {},
   "outputs": [
    {
     "data": {
      "text/plain": [
       "1"
      ]
     },
     "execution_count": 47,
     "metadata": {},
     "output_type": "execute_result"
    }
   ],
   "source": [
    "arr2.ndim"
   ]
  },
  {
   "cell_type": "code",
   "execution_count": null,
   "id": "9af6e9ff-597c-4f98-94b7-34c82044fb73",
   "metadata": {},
   "outputs": [],
   "source": []
  },
  {
   "cell_type": "code",
   "execution_count": 61,
   "id": "dc25a0ea-8fc0-4a8a-89e9-2c3176d9af27",
   "metadata": {},
   "outputs": [
    {
     "data": {
      "text/plain": [
       "array([[4, 3, 1],\n",
       "       [5, 4, 2],\n",
       "       [5, 3, 2]], dtype=int32)"
      ]
     },
     "execution_count": 61,
     "metadata": {},
     "output_type": "execute_result"
    }
   ],
   "source": [
    " #4. How can you determine the data type of elements in a NumPy array? Discuss the importance of data types in memory management and performance.\n",
    "arr1"
   ]
  },
  {
   "cell_type": "code",
   "execution_count": 67,
   "id": "7534094f-f45a-47d3-b3c1-93249c220871",
   "metadata": {},
   "outputs": [
    {
     "data": {
      "text/plain": [
       "dtype('int32')"
      ]
     },
     "execution_count": 67,
     "metadata": {},
     "output_type": "execute_result"
    }
   ],
   "source": [
    "arr1.dtype\n"
   ]
  },
  {
   "cell_type": "markdown",
   "id": "b402afb2-bd90-47cf-864e-ff4468b90a01",
   "metadata": {},
   "source": [
    "for memory managment if we use int32 in place of int64 it will consume less memory , and if we use float 32 inplace of float64 it wil run faster as it consum less CPU power "
   ]
  },
  {
   "cell_type": "markdown",
   "id": "2a96dad7-f1fe-43e7-8216-1e1a3c454ed5",
   "metadata": {},
   "source": [
    "5.Define ndarrays in NumPy and explain their key features. How do they differ from standard Python lists?\n",
    "\n",
    "An ndarray, or N-dimensional array, is a central feature of NumPy that stores homogeneous data types, meaning all elements in the array must be of the same type. Unlike standard Python lists, which can store any kind of data, ndarrays support multiple dimensions, allowing for the representation of complex data structures. \r\n",
    "\r\n",
    "Key features of ndarrays include:\r\n",
    "- Support for vectorized operations, enabling efficient mathematical computations on large datasets.\r\n",
    "- A rich set of mathematical functions that cater to linear algebra, statistics, and random sampling.\r\n",
    "\r\n",
    "In comparison to standard Python lists, ndarrays are generally faster and more efficient in terms of memory consumption. While lists can store various data types, this flexibility comes at the cost of speed and increased memory usage.\n"
   ]
  },
  {
   "cell_type": "markdown",
   "id": "2a7c0e8c-644a-4a1f-82e5-1465af0bedbb",
   "metadata": {},
   "source": [
    " 6. Analyze the performance benefits of NumPy arrays over Python lists for large-scale numerical operations.\n",
    "\n",
    "ans.NumPy Arrays: Offer a vast array of built-in functions for complex mathematical operations (like linear algebra, Fourier transforms).\n",
    "Python Lists: Lack these built-in capabilities and require additional coding or libraries to achieve similar functionality.\n",
    "\n",
    "NumPy Arrays: Store data in contiguous blocks of memory, leading to better  performance and less memory\n",
    "Python Lists: Store references to objects, which means more memory usage and less efficient\n"
   ]
  },
  {
   "cell_type": "code",
   "execution_count": 70,
   "id": "5dbc067e-b482-45b0-b0cf-4dc28d765f4f",
   "metadata": {},
   "outputs": [
    {
     "data": {
      "text/plain": [
       "array([[1, 2, 3],\n",
       "       [4, 5, 6]])"
      ]
     },
     "execution_count": 70,
     "metadata": {},
     "output_type": "execute_result"
    }
   ],
   "source": [
    " #7. Compare vstack() and hstack() functions in NumPy. Provide examples demonstrating their usage and output.\n",
    "\n",
    "#ans. vstack() used for stacking arrays top of one each other\n",
    "#     hstack() used for horizontally stacking array\n",
    "\n",
    "     \n",
    "\n",
    "arr1 = np.array([1, 2, 3]) \n",
    "arr2 = np.array([4, 5, 6])\n",
    "\n",
    "np.vstack((arr1,arr2))\n"
   ]
  },
  {
   "cell_type": "code",
   "execution_count": 72,
   "id": "5659764f-aaa3-44cc-a3c8-f09ccb3a3df1",
   "metadata": {},
   "outputs": [
    {
     "data": {
      "text/plain": [
       "array([1, 2, 3, 4, 5, 6])"
      ]
     },
     "execution_count": 72,
     "metadata": {},
     "output_type": "execute_result"
    }
   ],
   "source": [
    "np.hstack((arr1,arr2))"
   ]
  },
  {
   "cell_type": "code",
   "execution_count": null,
   "id": "d07a5e2e-d7a3-41f9-aae0-e67f8e6657ac",
   "metadata": {},
   "outputs": [],
   "source": []
  },
  {
   "cell_type": "markdown",
   "id": "18219e0e-48e0-4511-a6d6-e69a00644081",
   "metadata": {},
   "source": [
    "#8. Explain the differences between fliplr() and flipud() methods in NumPy, including their effects on various \n",
    "#array dimensions.\n",
    "\n",
    "fliplr()\n",
    "Flips the array in the left/right direction.\n",
    "Reverses the order of columns.\n",
    "Works on arrays of 2 or more dimensions.\n",
    "\n",
    "flipud()\n",
    "Flips the array in the up/down direction.\n",
    "Reverses the order of rows.\n",
    "Works on arrays of 2 or more dimensions."
   ]
  },
  {
   "cell_type": "code",
   "execution_count": 88,
   "id": "18c847aa-795e-4129-9c5f-91f437549f12",
   "metadata": {},
   "outputs": [
    {
     "data": {
      "text/plain": [
       "array([[3, 2, 1],\n",
       "       [6, 5, 4]])"
      ]
     },
     "execution_count": 88,
     "metadata": {},
     "output_type": "execute_result"
    }
   ],
   "source": [
    "arr1=np.array([[1,2,3],[4,5,6]])\n",
    "np.fliplr(arr1)\n",
    "#np.fliplr(arr1)"
   ]
  },
  {
   "cell_type": "code",
   "execution_count": 92,
   "id": "c79a11c5-a529-4402-a604-2f8433e29612",
   "metadata": {},
   "outputs": [
    {
     "data": {
      "text/plain": [
       "array([[4, 5, 6],\n",
       "       [1, 2, 3]])"
      ]
     },
     "execution_count": 92,
     "metadata": {},
     "output_type": "execute_result"
    }
   ],
   "source": [
    "np.flipud(arr1)"
   ]
  },
  {
   "cell_type": "code",
   "execution_count": null,
   "id": "c8e4a168-50f3-41c4-be3d-4b594da0d562",
   "metadata": {},
   "outputs": [],
   "source": []
  },
  {
   "cell_type": "markdown",
   "id": "99d03155-44eb-45d4-9d19-e650c94b6ff3",
   "metadata": {},
   "source": [
    " 9. Discuss the functionality of the array_split() method in NumPy. How does it handle uneven splits?\n",
    "\n",
    "this method in NumPy that allows us to split an array into multiple sub-arrays."
   ]
  },
  {
   "cell_type": "code",
   "execution_count": 102,
   "id": "6a4d66fe-31c8-4b1a-afd9-b8c795d4ee2c",
   "metadata": {},
   "outputs": [
    {
     "name": "stdout",
     "output_type": "stream",
     "text": [
      "[array([[1, 2, 3]]), array([[4, 5, 6]]), array([[7, 8, 9]])]\n"
     ]
    }
   ],
   "source": [
    "arr_2d = np.array([[1, 2, 3], [4, 5, 6], [7, 8, 9]]) \n",
    "new_arr = np.array_split(arr_2d, 3, axis=0) \n",
    "print(new_arr)"
   ]
  },
  {
   "cell_type": "code",
   "execution_count": 110,
   "id": "f829032a-5b10-4e31-bed6-802b3d714375",
   "metadata": {},
   "outputs": [
    {
     "name": "stdout",
     "output_type": "stream",
     "text": [
      "[array([1, 2, 3]), array([4, 5]), array([6, 7])]\n"
     ]
    }
   ],
   "source": [
    "#for un even data type\n",
    "arr = np.array([1, 2, 3, 4, 5, 6,7]) \n",
    "arr2 = np.array_split(arr, 3) \n",
    "print(arr2)\n",
    "\n"
   ]
  },
  {
   "cell_type": "code",
   "execution_count": 112,
   "id": "8aab8ad6-3809-4bdc-8975-89e13462b031",
   "metadata": {},
   "outputs": [
    {
     "name": "stdout",
     "output_type": "stream",
     "text": [
      "[array([1, 2, 3]), array([4, 5]), array([6, 7])]\n"
     ]
    }
   ],
   "source": [
    "arr = np.array([1, 2, 3, 4, 5, 6, 7]) \n",
    "arr3 = np.array_split(arr, 3) \n",
    "print(arr3)"
   ]
  },
  {
   "cell_type": "code",
   "execution_count": null,
   "id": "9c4a0f46-dd29-4550-85b6-254bb00e5b18",
   "metadata": {},
   "outputs": [],
   "source": []
  },
  {
   "cell_type": "markdown",
   "id": "4f8f4a6c-669f-4ac2-b1da-85850bb376b5",
   "metadata": {},
   "source": [
    " 10. Explain the concepts of vectorization and broadcasting in NumPy. How do they contribute to efficient array operations?\n",
    "\n",
    "Broadcasting allows NumPy to perform operations on arrays of different shapes by automatically expanding their dimensions to make them compatible\n",
    "\n",
    "Vectorization refers to the ability of NumPy to apply operations to entire arrays at once, without the need for explicit loops."
   ]
  },
  {
   "cell_type": "code",
   "execution_count": 116,
   "id": "fa568704-377f-45ef-8008-9ba2635ebde9",
   "metadata": {},
   "outputs": [
    {
     "data": {
      "text/plain": [
       "array([[ 6,  7,  8],\n",
       "       [ 9, 10, 11],\n",
       "       [12, 13, 14]])"
      ]
     },
     "execution_count": 116,
     "metadata": {},
     "output_type": "execute_result"
    }
   ],
   "source": [
    "arr_2d+5 #vectorized"
   ]
  },
  {
   "cell_type": "code",
   "execution_count": 120,
   "id": "a2930a93-7200-40b2-ae4a-7c5171d808ff",
   "metadata": {},
   "outputs": [
    {
     "data": {
      "text/plain": [
       "array([[1, 2, 3, 4, 5, 6, 7, 8, 9]])"
      ]
     },
     "execution_count": 120,
     "metadata": {},
     "output_type": "execute_result"
    }
   ],
   "source": [
    "arr_2d.reshape(1,9) #broadcasting"
   ]
  },
  {
   "cell_type": "code",
   "execution_count": null,
   "id": "b7919bf6-2568-4c17-9180-ada5da44b3c3",
   "metadata": {},
   "outputs": [],
   "source": []
  }
 ],
 "metadata": {
  "kernelspec": {
   "display_name": "Python 3 (ipykernel)",
   "language": "python",
   "name": "python3"
  },
  "language_info": {
   "codemirror_mode": {
    "name": "ipython",
    "version": 3
   },
   "file_extension": ".py",
   "mimetype": "text/x-python",
   "name": "python",
   "nbconvert_exporter": "python",
   "pygments_lexer": "ipython3",
   "version": "3.12.4"
  }
 },
 "nbformat": 4,
 "nbformat_minor": 5
}
