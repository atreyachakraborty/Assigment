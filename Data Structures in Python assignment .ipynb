{
 "cells": [
  {
   "cell_type": "code",
   "execution_count": 1,
   "id": "ffd26549-84a4-49b3-a62c-31929ff9d8b9",
   "metadata": {},
   "outputs": [
    {
     "name": "stdout",
     "output_type": "stream",
     "text": [
      "olleh\n"
     ]
    }
   ],
   "source": [
    "# Write a code to reverse a string\n",
    "\n",
    "def reverse_string(s):\n",
    "    return s[::-1]\n",
    "\n",
    "print(reverse_string(\"hello\")) "
   ]
  },
  {
   "cell_type": "code",
   "execution_count": 2,
   "id": "a41ed36d-b7f4-4a9b-b004-921942dd522b",
   "metadata": {},
   "outputs": [
    {
     "name": "stdout",
     "output_type": "stream",
     "text": [
      "3\n"
     ]
    }
   ],
   "source": [
    "# Write a code to count the number of vowels in a string\n",
    "\n",
    "def count_vowels(s):\n",
    "    vowels = \"aeiouAEIOU\"\n",
    "    return sum(1 for char in s if char in vowels)\n",
    "\n",
    "print(count_vowels(\"hello world\"))  "
   ]
  },
  {
   "cell_type": "code",
   "execution_count": 3,
   "id": "4ff55b7a-e2c1-45fe-bed9-0f9e8278c1f0",
   "metadata": {},
   "outputs": [
    {
     "name": "stdout",
     "output_type": "stream",
     "text": [
      "True\n",
      "False\n"
     ]
    }
   ],
   "source": [
    "# Write a code to check if a given string is a palindrome or not\n",
    "\n",
    "def is_palindrome(s):\n",
    "    return s == s[::-1]\n",
    "\n",
    "print(is_palindrome(\"madam\"))  \n",
    "print(is_palindrome(\"hello\"))  "
   ]
  },
  {
   "cell_type": "code",
   "execution_count": 4,
   "id": "7f44cece-673e-46ab-9553-376f45f676fb",
   "metadata": {},
   "outputs": [
    {
     "name": "stdout",
     "output_type": "stream",
     "text": [
      "True\n",
      "False\n"
     ]
    }
   ],
   "source": [
    "# Write a code to check if two given strings are anagrams of each other\n",
    "\n",
    "from collections import Counter\n",
    "\n",
    "def are_anagrams(s1, s2):\n",
    "    return Counter(s1) == Counter(s2)\n",
    "\n",
    "print(are_anagrams(\"listen\", \"silent\"))  \n",
    "print(are_anagrams(\"hello\", \"world\"))  "
   ]
  },
  {
   "cell_type": "code",
   "execution_count": 5,
   "id": "67d84fd0-539d-4a84-9a63-4c6b92ea509d",
   "metadata": {},
   "outputs": [
    {
     "name": "stdout",
     "output_type": "stream",
     "text": [
      "[1, 3]\n"
     ]
    }
   ],
   "source": [
    "# Write a code to find all occurrences of a given substring within another string\n",
    "\n",
    "def find_occurrences(s, sub):\n",
    "    return [i for i in range(len(s)) if s.startswith(sub, i)]\n",
    "\n",
    "print(find_occurrences(\"banana\", \"ana\")) "
   ]
  },
  {
   "cell_type": "code",
   "execution_count": 6,
   "id": "fecf8fde-1cee-41a9-aa6b-eaeefc59c340",
   "metadata": {},
   "outputs": [
    {
     "name": "stdout",
     "output_type": "stream",
     "text": [
      "a3b2c3\n"
     ]
    }
   ],
   "source": [
    "# Write a code to perform basic string compression using the counts of repeated characters\n",
    "\n",
    "def compress_string(s):\n",
    "    compressed = []\n",
    "    count = 1\n",
    "    for i in range(1, len(s)):\n",
    "        if s[i] == s[i-1]:\n",
    "            count += 1\n",
    "        else:\n",
    "            compressed.append(s[i-1] + str(count))\n",
    "            count = 1\n",
    "    compressed.append(s[-1] + str(count))\n",
    "    return \"\".join(compressed)\n",
    "\n",
    "print(compress_string(\"aaabbccc\"))  "
   ]
  },
  {
   "cell_type": "code",
   "execution_count": 7,
   "id": "4c1417b6-1e8c-4b2b-9e10-eca5adff438b",
   "metadata": {},
   "outputs": [
    {
     "name": "stdout",
     "output_type": "stream",
     "text": [
      "True\n",
      "False\n"
     ]
    }
   ],
   "source": [
    "# Write a code to determine if a string has all unique characters\n",
    "\n",
    "def has_unique_chars(s):\n",
    "    return len(set(s)) == len(s)\n",
    "\n",
    "print(has_unique_chars(\"abcdef\"))  \n",
    "print(has_unique_chars(\"hello\"))  "
   ]
  },
  {
   "cell_type": "code",
   "execution_count": 8,
   "id": "fd5e6d49-5d95-4d92-a6f5-432631ae9d93",
   "metadata": {},
   "outputs": [
    {
     "name": "stdout",
     "output_type": "stream",
     "text": [
      "HELLO WORLD\n",
      "hello world\n"
     ]
    }
   ],
   "source": [
    "# Write a code to convert a given string to uppercase or lowercase\n",
    "\n",
    "s = \"Hello World\"\n",
    "print(s.upper())  \n",
    "print(s.lower())  "
   ]
  },
  {
   "cell_type": "code",
   "execution_count": 9,
   "id": "cf8dfb21-eae2-41c9-8afe-5866250cf76c",
   "metadata": {},
   "outputs": [
    {
     "name": "stdout",
     "output_type": "stream",
     "text": [
      "5\n"
     ]
    }
   ],
   "source": [
    "# Write a code to count the number of words in a string\n",
    "\n",
    "def count_words(s):\n",
    "    return len(s.split())\n",
    "\n",
    "print(count_words(\"Hello world this is Python\"))  "
   ]
  },
  {
   "cell_type": "code",
   "execution_count": 10,
   "id": "3728eec2-2204-4769-8bb7-dc5b081c0f9e",
   "metadata": {},
   "outputs": [
    {
     "name": "stdout",
     "output_type": "stream",
     "text": [
      "HelloWorld\n"
     ]
    }
   ],
   "source": [
    "# Write a code to concatenate two strings without using the + operator\n",
    "def concatenate_strings(s1, s2):\n",
    "    return \"{}{}\".format(s1, s2)\n",
    "\n",
    "print(concatenate_strings(\"Hello\", \"World\"))  \n"
   ]
  },
  {
   "cell_type": "code",
   "execution_count": 11,
   "id": "ce9bd470-6925-454c-9db3-49c9e75c3084",
   "metadata": {},
   "outputs": [
    {
     "name": "stdout",
     "output_type": "stream",
     "text": [
      "[1, 3, 4]\n"
     ]
    }
   ],
   "source": [
    "# Write a code to remove all occurrences of a specific element from a list\n",
    "\n",
    "def remove_element(lst, elem):\n",
    "    return [x for x in lst if x != elem]\n",
    "\n",
    "print(remove_element([1, 2, 3, 2, 4], 2))  # Output: [1, 3, 4]"
   ]
  },
  {
   "cell_type": "code",
   "execution_count": 12,
   "id": "75a4fed6-ed28-4043-ad6c-cbe1383fbd1d",
   "metadata": {},
   "outputs": [
    {
     "name": "stdout",
     "output_type": "stream",
     "text": [
      "30\n"
     ]
    }
   ],
   "source": [
    "# Write a code to find the second largest number in a given list of integers\n",
    "\n",
    "def second_largest(lst):\n",
    "    unique_sorted = sorted(set(lst), reverse=True)\n",
    "    return unique_sorted[1] if len(unique_sorted) > 1 else None\n",
    "\n",
    "print(second_largest([10, 20, 30, 40, 40]))  "
   ]
  },
  {
   "cell_type": "code",
   "execution_count": 13,
   "id": "1b67dd74-3fc0-412e-991c-4b74c0bc55e0",
   "metadata": {},
   "outputs": [
    {
     "name": "stdout",
     "output_type": "stream",
     "text": [
      "{1: 1, 2: 2, 3: 3}\n"
     ]
    }
   ],
   "source": [
    "# Create a code to count the occurrences of each element in a list and return a dictionary\n",
    "\n",
    "from collections import Counter\n",
    "\n",
    "def count_elements(lst):\n",
    "    return dict(Counter(lst))\n",
    "\n",
    "print(count_elements([1, 2, 2, 3, 3, 3]))  # Output: {1: 1, 2: 2, 3: 3}"
   ]
  },
  {
   "cell_type": "code",
   "execution_count": 14,
   "id": "8ae75302-e186-4c57-ba52-b52d769ae741",
   "metadata": {},
   "outputs": [
    {
     "name": "stdout",
     "output_type": "stream",
     "text": [
      "[4, 3, 2, 1]\n"
     ]
    }
   ],
   "source": [
    "# Write a code to reverse a list in-place without using any built-in reverse functions\n",
    "def reverse_list(lst):\n",
    "    left, right = 0, len(lst) - 1\n",
    "    while left < right:\n",
    "        lst[left], lst[right] = lst[right], lst[left]\n",
    "        left += 1\n",
    "        right -= 1\n",
    "\n",
    "lst = [1, 2, 3, 4]\n",
    "reverse_list(lst)\n",
    "print(lst)  # Output: [4, 3, 2, 1]"
   ]
  },
  {
   "cell_type": "code",
   "execution_count": 15,
   "id": "3ee4e7a8-dce9-4cb7-87b1-8f25ac010c6c",
   "metadata": {},
   "outputs": [
    {
     "name": "stdout",
     "output_type": "stream",
     "text": [
      "[1, 2, 3, 4]\n"
     ]
    }
   ],
   "source": [
    "#  Implement a code to find and remove duplicates from a list while preserving order\n",
    "\n",
    "def remove_duplicates(lst):\n",
    "    seen = set()\n",
    "    return [x for x in lst if not (x in seen or seen.add(x))]\n",
    "\n",
    "print(remove_duplicates([1, 2, 2, 3, 4, 4]))  # Output: [1, 2, 3, 4]"
   ]
  },
  {
   "cell_type": "code",
   "execution_count": 16,
   "id": "b9ebb816-d8b0-4dbb-82cd-f653c5ad2559",
   "metadata": {},
   "outputs": [
    {
     "name": "stdout",
     "output_type": "stream",
     "text": [
      "True\n",
      "True\n",
      "False\n"
     ]
    }
   ],
   "source": [
    "# Create a code to check if a given list is sorted (either in ascending or descending order) or not\n",
    "def is_sorted(lst):\n",
    "    return lst == sorted(lst) or lst == sorted(lst, reverse=True)\n",
    "\n",
    "print(is_sorted([1, 2, 3])) \n",
    "print(is_sorted([3, 2, 1]))  \n",
    "print(is_sorted([1, 3, 2]))  "
   ]
  },
  {
   "cell_type": "code",
   "execution_count": 18,
   "id": "d7123dc9-bc98-4d0c-8fa8-b2d3b8767a38",
   "metadata": {},
   "outputs": [
    {
     "name": "stdout",
     "output_type": "stream",
     "text": [
      "[1, 2, 3, 4, 5, 6]\n"
     ]
    }
   ],
   "source": [
    "# Write a code to merge two sorted lists into a single sorted list\n",
    "\n",
    "def merge_sorted_lists(lst1, lst2):\n",
    "    return sorted(lst1 + lst2)\n",
    "\n",
    "print(merge_sorted_lists([1, 3, 5], [2, 4, 6]))  "
   ]
  },
  {
   "cell_type": "code",
   "execution_count": 19,
   "id": "51570dd7-f32f-4a61-91a2-e312b875ee28",
   "metadata": {},
   "outputs": [
    {
     "name": "stdout",
     "output_type": "stream",
     "text": [
      "[2, 3]\n"
     ]
    }
   ],
   "source": [
    "# Implement a code to find the intersection of two given list\n",
    "\n",
    "def list_intersection(lst1, lst2):\n",
    "    return list(set(lst1) & set(lst2))\n",
    "\n",
    "print(list_intersection([1, 2, 3], [2, 3, 4]))  "
   ]
  },
  {
   "cell_type": "code",
   "execution_count": 20,
   "id": "d2e360a9-ea50-486e-8ee3-ce4f70ecf6af",
   "metadata": {},
   "outputs": [
    {
     "name": "stdout",
     "output_type": "stream",
     "text": [
      "[5, 3, 1, 4, 2]\n"
     ]
    }
   ],
   "source": [
    "# Write a code to shuffle a given list randomly without using any built-in shuffle function\n",
    "\n",
    "import random\n",
    "\n",
    "def shuffle_list(lst):\n",
    "    for i in range(len(lst)):\n",
    "        j = random.randint(0, len(lst) - 1)\n",
    "        lst[i], lst[j] = lst[j], lst[i]\n",
    "\n",
    "lst = [1, 2, 3, 4, 5]\n",
    "shuffle_list(lst)\n",
    "print(lst)  "
   ]
  },
  {
   "cell_type": "code",
   "execution_count": 21,
   "id": "96c5529e-4bdc-4c23-b061-c2e66d031aaf",
   "metadata": {},
   "outputs": [
    {
     "name": "stdout",
     "output_type": "stream",
     "text": [
      "(3, 4)\n"
     ]
    }
   ],
   "source": [
    "# Write a code that takes two tuples as input and returns a new tuple containing elements that are common to both input tuples\n",
    "\n",
    "def tuple_intersection(tpl1, tpl2):\n",
    "    return tuple(set(tpl1) & set(tpl2))\n",
    "\n",
    "print(tuple_intersection((1, 2, 3, 4), (3, 4, 5, 6)))  "
   ]
  },
  {
   "cell_type": "code",
   "execution_count": 23,
   "id": "60d2b0d9-b11a-49da-a763-1c5b446a84e8",
   "metadata": {},
   "outputs": [
    {
     "name": "stdin",
     "output_type": "stream",
     "text": [
      "Enter first set of integers (comma-separated):  56\n",
      "Enter second set of integers (comma-separated):  96\n"
     ]
    },
    {
     "name": "stdout",
     "output_type": "stream",
     "text": [
      "Intersection: set()\n"
     ]
    }
   ],
   "source": [
    "# Create a code that prompts the user to enter two sets of integers separated by commas. Then, print the intersection of these two sets\n",
    "\n",
    "def get_set_intersection():\n",
    "    set1 = set(map(int, input(\"Enter first set of integers (comma-separated): \").split(',')))\n",
    "    set2 = set(map(int, input(\"Enter second set of integers (comma-separated): \").split(',')))\n",
    "    print(\"Intersection:\", set1 & set2)\n",
    "\n",
    "get_set_intersection()"
   ]
  },
  {
   "cell_type": "code",
   "execution_count": 24,
   "id": "689eb366-5e4b-4b95-a653-f0542867d04e",
   "metadata": {},
   "outputs": [
    {
     "name": "stdout",
     "output_type": "stream",
     "text": [
      "(1, 2, 3, 4, 5, 6)\n"
     ]
    }
   ],
   "source": [
    "# Write a code to concatenate two tuples. The function should take two tuples as input and return a new tuple containing elements from both input tuples\n",
    "\n",
    "def concatenate_tuples(tpl1, tpl2):\n",
    "    return tpl1 + tpl2\n",
    "\n",
    "print(concatenate_tuples((1, 2, 3), (4, 5, 6)))  "
   ]
  },
  {
   "cell_type": "code",
   "execution_count": 25,
   "id": "0d67cd3b-e5ff-48c0-9786-f61a6f6e6677",
   "metadata": {},
   "outputs": [
    {
     "name": "stdin",
     "output_type": "stream",
     "text": [
      "Enter first set of strings (comma-separated):  12,5\n",
      "Enter second set of strings (comma-separated):  45,56\n"
     ]
    },
    {
     "name": "stdout",
     "output_type": "stream",
     "text": [
      "Elements in first set but not in second: {'12', '5'}\n"
     ]
    }
   ],
   "source": [
    "# Develop a code that prompts the user to input two sets of strings. Then, print the elements that are present in the first set but not in the second set\n",
    "\n",
    "def set_difference():\n",
    "    set1 = set(input(\"Enter first set of strings (comma-separated): \").split(','))\n",
    "    set2 = set(input(\"Enter second set of strings (comma-separated): \").split(','))\n",
    "    print(\"Elements in first set but not in second:\", set1 - set2)\n",
    "\n",
    "set_difference()"
   ]
  },
  {
   "cell_type": "code",
   "execution_count": 26,
   "id": "ae07a845-3163-4b6c-9c86-caeca1d68653",
   "metadata": {},
   "outputs": [
    {
     "name": "stdout",
     "output_type": "stream",
     "text": [
      "(2, 3, 4)\n"
     ]
    }
   ],
   "source": [
    "# Create a code that takes a tuple and two integers as input. The function should return a new tuple containing elements from the original tuple within the specified range of indice\n",
    "\n",
    "def slice_tuple(tpl, start, end):\n",
    "    return tpl[start:end]\n",
    "\n",
    "print(slice_tuple((1, 2, 3, 4, 5), 1, 4))  "
   ]
  },
  {
   "cell_type": "code",
   "execution_count": 27,
   "id": "657012e5-6ecf-4ee7-a6e6-5899a5e19099",
   "metadata": {},
   "outputs": [
    {
     "name": "stdin",
     "output_type": "stream",
     "text": [
      "Enter first set of characters:  45\n",
      "Enter second set of characters:  55\n"
     ]
    },
    {
     "name": "stdout",
     "output_type": "stream",
     "text": [
      "Union: {'4', '5'}\n"
     ]
    }
   ],
   "source": [
    "# Write a code that prompts the user to input two sets of characters. Then, print the union of these two sets\n",
    "\n",
    "def set_union():\n",
    "    set1 = set(input(\"Enter first set of characters: \"))\n",
    "    set2 = set(input(\"Enter second set of characters: \"))\n",
    "    print(\"Union:\", set1 | set2)\n",
    "\n",
    "set_union()"
   ]
  },
  {
   "cell_type": "code",
   "execution_count": 28,
   "id": "b0670b6a-1906-418b-b22d-67c3c43428f3",
   "metadata": {},
   "outputs": [
    {
     "name": "stdout",
     "output_type": "stream",
     "text": [
      "(40, 5)\n"
     ]
    }
   ],
   "source": [
    "# Develop a code that takes a tuple of integers as input. The function should return the maximum and minimum values from the tuple using tuple unpacking\n",
    "\n",
    "def max_min_tuple(tpl):\n",
    "    return max(tpl), min(tpl)\n",
    "\n",
    "print(max_min_tuple((10, 20, 5, 40)))  # Output: (40, 5)"
   ]
  },
  {
   "cell_type": "code",
   "execution_count": 29,
   "id": "63c8508e-332e-4151-8d34-2a165ee6890f",
   "metadata": {},
   "outputs": [
    {
     "name": "stdout",
     "output_type": "stream",
     "text": [
      "Union: {1, 2, 3, 4, 5, 6}\n",
      "Intersection: {3, 4}\n",
      "Difference: {1, 2}\n"
     ]
    }
   ],
   "source": [
    "# Create a code that defines two sets of integers. Then, print the union, intersection, and difference of these two set\n",
    "\n",
    "set1 = {1, 2, 3, 4}\n",
    "set2 = {3, 4, 5, 6}\n",
    "\n",
    "print(\"Union:\", set1 | set2)         \n",
    "print(\"Intersection:\", set1 & set2)  \n",
    "print(\"Difference:\", set1 - set2)    "
   ]
  },
  {
   "cell_type": "code",
   "execution_count": 30,
   "id": "72c37f2c-a242-4a6b-86e6-d845486fd7e3",
   "metadata": {},
   "outputs": [
    {
     "name": "stdout",
     "output_type": "stream",
     "text": [
      "3\n"
     ]
    }
   ],
   "source": [
    "# Write a code that takes a tuple and an element as input. The function should return the count of occurrences of the given element in the tuple\n",
    "\n",
    "def count_occurrences(tpl, element):\n",
    "    return tpl.count(element)\n",
    "\n",
    "print(count_occurrences((1, 2, 3, 2, 4, 2), 2)) "
   ]
  },
  {
   "cell_type": "code",
   "execution_count": 31,
   "id": "ffd6298d-67fd-452e-b46d-7e83911e1e8b",
   "metadata": {},
   "outputs": [
    {
     "name": "stdout",
     "output_type": "stream",
     "text": [
      "{'apple': 2, 'banana': 3, 'orange': 1}\n"
     ]
    }
   ],
   "source": [
    "# Write a code that takes a list of words as input and returns a dictionary with word frequencies\n",
    "\n",
    "from collections import Counter\n",
    "\n",
    "def word_frequency(words):\n",
    "    return dict(Counter(words))\n",
    "\n",
    "print(word_frequency([\"apple\", \"banana\", \"apple\", \"orange\", \"banana\", \"banana\"]))  \n"
   ]
  },
  {
   "cell_type": "code",
   "execution_count": null,
   "id": "f8ef7076-fe92-46ac-914a-2541b3193b02",
   "metadata": {},
   "outputs": [],
   "source": []
  }
 ],
 "metadata": {
  "kernelspec": {
   "display_name": "Python 3 (ipykernel)",
   "language": "python",
   "name": "python3"
  },
  "language_info": {
   "codemirror_mode": {
    "name": "ipython",
    "version": 3
   },
   "file_extension": ".py",
   "mimetype": "text/x-python",
   "name": "python",
   "nbconvert_exporter": "python",
   "pygments_lexer": "ipython3",
   "version": "3.12.7"
  }
 },
 "nbformat": 4,
 "nbformat_minor": 5
}
