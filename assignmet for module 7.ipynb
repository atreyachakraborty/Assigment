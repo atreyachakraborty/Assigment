{
 "cells": [
  {
   "cell_type": "markdown",
   "id": "2ff9d674-595a-4349-a6ff-3cc4cd34e928",
   "metadata": {},
   "source": [
    "#1.What are the five key concepts of Object-Oriented Programming (OOP)?\n",
    "\n",
    "1. representing a relation between classes\n",
    "2. method overriding> rewriting/redefining method of parent class i derived/child class\n",
    "3. method overloading> to have multiple methods with the same name but different parameters. \n",
    "4. creating> classes based on existing classes or accessing them \n",
    "5. abstractions> hiding complex implemeentations"
   ]
  },
  {
   "cell_type": "code",
   "execution_count": 18,
   "id": "b286889f-c75e-406f-a3e7-6db373fea33b",
   "metadata": {},
   "outputs": [],
   "source": [
    "#2. Write a Python class for a `Car` with attributes for `make`, `model`, and `year`. Include a method to display the car's information.\n",
    "class Car:\n",
    "    def __init__(self, make, model, year):\n",
    "        self.make = make\n",
    "        self.model = model\n",
    "        self.year = year\n",
    "\n",
    "    def car_info(self):\n",
    "        print(f\"Car info: {self.make} {self.model} {self.year}\")\n"
   ]
  },
  {
   "cell_type": "code",
   "execution_count": 20,
   "id": "88fec0e8-5ad8-403e-a914-fc7f2ad93d43",
   "metadata": {},
   "outputs": [
    {
     "name": "stdout",
     "output_type": "stream",
     "text": [
      "Car info: suzuki alto 2024\n"
     ]
    }
   ],
   "source": [
    "obj=Car(\"suzuki\",\"alto\",\"2024\")\n",
    "obj.car_info()"
   ]
  },
  {
   "cell_type": "code",
   "execution_count": null,
   "id": "72f1038d-deee-4559-bbac-65a88f61fdb2",
   "metadata": {},
   "outputs": [],
   "source": []
  },
  {
   "cell_type": "code",
   "execution_count": null,
   "id": "c78aebe1-591b-4917-9f88-f86d43f67f86",
   "metadata": {},
   "outputs": [],
   "source": []
  },
  {
   "cell_type": "code",
   "execution_count": 42,
   "id": "28380852-2b1f-4517-9e9d-e79f0ab71d7d",
   "metadata": {},
   "outputs": [],
   "source": [
    "#3.Explain the difference between instance methods and class methods. Provide an example of each\n",
    "\n",
    "\n",
    "\n",
    "\n",
    "#class method \n",
    "\n",
    "class Cat1:\n",
    "    species = \"species 1\"\n",
    "\n",
    "    def __init__(self, name):\n",
    "        self.name = name\n",
    "\n",
    "    @classmethod\n",
    "    def update_species(cls, new_species):\n",
    "        cls.species = new_species\n",
    "\n",
    "    def species_info(self):\n",
    "        return f\"{self.name} is a {self.species}\"\n",
    "\n",
    "#class method takes cls as 1st parameter, and it operates on the class itself.\n",
    "#static method it takes self as the first parameter and operates on the instance of the class"
   ]
  },
  {
   "cell_type": "code",
   "execution_count": 44,
   "id": "eec03bc4-0190-40f6-a5ec-d6c4e0083d5a",
   "metadata": {},
   "outputs": [],
   "source": [
    "#instance method\n",
    "class Cat:\n",
    "    def __init__(self, name):\n",
    "        self.name = name\n",
    "\n",
    "    def cat_sound(self):\n",
    "        return f\"{self.name} says meow!\""
   ]
  },
  {
   "cell_type": "code",
   "execution_count": 46,
   "id": "601674be-1835-4cbf-b200-e381cd8a818b",
   "metadata": {},
   "outputs": [
    {
     "data": {
      "text/plain": [
       "'cat1 says meow!'"
      ]
     },
     "execution_count": 46,
     "metadata": {},
     "output_type": "execute_result"
    }
   ],
   "source": [
    "a=Cat(\"cat1\")\n",
    "a.cat_sound()"
   ]
  },
  {
   "cell_type": "code",
   "execution_count": 58,
   "id": "1059d124-edd0-49dc-9d0e-04cdd27bdfbe",
   "metadata": {},
   "outputs": [
    {
     "data": {
      "text/plain": [
       "'cat is a cat3'"
      ]
     },
     "execution_count": 58,
     "metadata": {},
     "output_type": "execute_result"
    }
   ],
   "source": [
    "b=Cat1(\"cat\")\n",
    "b.update_species(\"cat3\")\n",
    "b.species_info()"
   ]
  },
  {
   "cell_type": "code",
   "execution_count": 82,
   "id": "ce6b8f91-85db-4866-90cd-4d0c8a13d18a",
   "metadata": {},
   "outputs": [],
   "source": [
    "#4. How does Python implement method overloading? Give an example.\n",
    "\n",
    "#ANS. in the same class, the function stay same, but data is different, as per entry data, the same method gives us different outcome this called overloading\n",
    "class Area:\n",
    "    def find_area(self,x=None,y=None): \n",
    "        if x!=None and y!=None:\n",
    "            print(2*(x+y))\n",
    "        elif x!=None:\n",
    "            print(x*x)\n",
    "        else:\n",
    "            print(\"PLEASE INPUT VALUES\")\n",
    "        \n",
    "\n"
   ]
  },
  {
   "cell_type": "code",
   "execution_count": 84,
   "id": "d1a2a4c6-53d6-432f-bba1-a8e0566a9ffd",
   "metadata": {},
   "outputs": [
    {
     "name": "stdout",
     "output_type": "stream",
     "text": [
      "4\n"
     ]
    }
   ],
   "source": [
    "obj=Area()\n",
    "obj.find_area(2)"
   ]
  },
  {
   "cell_type": "code",
   "execution_count": null,
   "id": "8578acc9-d411-4164-8698-bbf58e4fb332",
   "metadata": {},
   "outputs": [],
   "source": [
    "#5. What are the three types of access modifiers in Python? How are they denoted?\n",
    "'''\n",
    "ANS. 1.PUBLIC ATTRIBUTES\n",
    "Class Name:\n",
    "   def __init__(self,name):\n",
    "       self.name=name\n",
    "       \n",
    "     2.PROTECTED ATTRIBUTES:\n",
    "class Name:\n",
    "    def __init__(self,name):\n",
    "         self._name=name\n",
    "\n",
    "     3.PRIVATE ATTRIBUTE \n",
    "class Name:\n",
    "   def __init__(self,name):\n",
    "       self.__name=name"
   ]
  },
  {
   "cell_type": "code",
   "execution_count": 78,
   "id": "74ec6ff1-b639-4fd6-a0fc-8bac0730efd3",
   "metadata": {},
   "outputs": [],
   "source": [
    "#6. Describe the five types of inheritance in Python. Provide a simple example of multiple inheritance\n",
    "''' \n",
    "1. single inheritance\n",
    "2. multiple inheritance\n",
    "3. hybrid inheritance\n",
    "4. multilevel inheritance\n",
    "5. Diamond-type inheritance  '''\n",
    "\n",
    "class Car:\n",
    "    def car_info(self):\n",
    "        print(\"this from car class\")\n",
    "\n",
    "class Familycar(Car):\n",
    "    def car_info2(self):\n",
    "        print(\"this is from family car class\")\n",
    "        \n",
    "class Sportcar(Familycar):\n",
    "    def car_info3(self):\n",
    "        print(\"this is from sportcar class\")\n",
    "    "
   ]
  },
  {
   "cell_type": "code",
   "execution_count": 80,
   "id": "80be6b8f-b69f-4f5b-b3b6-ac2135edf695",
   "metadata": {},
   "outputs": [
    {
     "name": "stdout",
     "output_type": "stream",
     "text": [
      "this from car class\n"
     ]
    }
   ],
   "source": [
    "obj=Sportcar()\n",
    "obj.car_info()"
   ]
  },
  {
   "cell_type": "code",
   "execution_count": 126,
   "id": "86f86e80-3746-4b5c-8ca0-eb8b1659bb4e",
   "metadata": {},
   "outputs": [],
   "source": [
    "#7.What is the Method Resolution Order (MRO) in Python? How can you retrieve it programmatically?\n",
    "'''\n",
    "ans. Method Resolution Order(MRO) is the order in which Python looks for method in \n",
    "the hierarchy of classes. '''\n",
    "\n",
    "class A:\n",
    "    def methodA(self):\n",
    "        print(\"from class a\")\n",
    "\n",
    "class B(A):\n",
    "    def methodB(self):\n",
    "        print(\"from class b\")\n",
    "\n",
    "class C(A):\n",
    "    def methodC(self):\n",
    "         print(\"from class c\")\n",
    "\n",
    "class D(B, C):\n",
    "    def methodD(self):\n",
    "        print(\"from class d\")\n",
    "\n"
   ]
  },
  {
   "cell_type": "code",
   "execution_count": 128,
   "id": "0fc0f5a8-5cb3-4203-904b-92648ebfaf70",
   "metadata": {},
   "outputs": [
    {
     "name": "stdout",
     "output_type": "stream",
     "text": [
      "[<class '__main__.D'>, <class '__main__.B'>, <class '__main__.C'>, <class '__main__.A'>, <class 'object'>]\n"
     ]
    }
   ],
   "source": [
    "obj= D()\n",
    "print(D.mro())"
   ]
  },
  {
   "cell_type": "code",
   "execution_count": 130,
   "id": "af449e39-00dd-44eb-ae55-5493362afe6e",
   "metadata": {},
   "outputs": [
    {
     "name": "stdout",
     "output_type": "stream",
     "text": [
      "from class a\n"
     ]
    }
   ],
   "source": [
    "obj.methodA()"
   ]
  },
  {
   "cell_type": "code",
   "execution_count": null,
   "id": "eaebf47b-eaf1-41bb-8941-8b487b8ba1be",
   "metadata": {},
   "outputs": [],
   "source": []
  },
  {
   "cell_type": "code",
   "execution_count": 5,
   "id": "969c8c19-c47a-4778-b9ad-65256d320d5c",
   "metadata": {},
   "outputs": [],
   "source": [
    "''' 8.. Create an abstract base class `Shape` with an abstract method `area()`. Then create two subclasses \n",
    "`Circle` and `Rectangle` that implements the `area()` method.'''\n",
    "\n",
    "import abc\n",
    "\n",
    "class Shape(abc.ABC):\n",
    "    @abc.abstractmethod\n",
    "    def area(self):\n",
    "        pass\n",
    "\n",
    "class Circle(Shape):\n",
    "    def area(self,radius):\n",
    "        self.radius=radius\n",
    "        return 3.14*self.radius**2\n",
    "\n",
    "class Rectangle(Shape):\n",
    "    def area(self,l,b):\n",
    "        self.l=l\n",
    "        self.b=b\n",
    "        return self.l*self.b"
   ]
  },
  {
   "cell_type": "code",
   "execution_count": 7,
   "id": "bb6090e6-f9a7-4595-a460-78d4e76bcea7",
   "metadata": {},
   "outputs": [
    {
     "data": {
      "text/plain": [
       "50.24"
      ]
     },
     "execution_count": 7,
     "metadata": {},
     "output_type": "execute_result"
    }
   ],
   "source": [
    "C=Circle()\n",
    "C.area(4)\n"
   ]
  },
  {
   "cell_type": "code",
   "execution_count": 12,
   "id": "45783e4b-16da-4ecc-a059-ddbd67119a27",
   "metadata": {},
   "outputs": [
    {
     "data": {
      "text/plain": [
       "16"
      ]
     },
     "execution_count": 12,
     "metadata": {},
     "output_type": "execute_result"
    }
   ],
   "source": [
    "r=Rectangle()\n",
    "r.area(4,4)"
   ]
  },
  {
   "cell_type": "code",
   "execution_count": null,
   "id": "e1c5db02-fefd-439e-9e8d-47c172e7892a",
   "metadata": {},
   "outputs": [],
   "source": []
  },
  {
   "cell_type": "code",
   "execution_count": 42,
   "id": "87d75546-c09a-4bac-b104-0aa28a77f0f8",
   "metadata": {},
   "outputs": [],
   "source": [
    "'''9.Demonstrate polymorphism by creating a function that can work with different shape objects to calculate \n",
    "and print their areas '''\n",
    "\n",
    "import abc\n",
    "\n",
    "class Shape(abc.ABC):\n",
    "    @abc.abstractmethod\n",
    "    def area(self):\n",
    "        pass\n",
    "\n",
    "class Circle(Shape):\n",
    "    def __init__(self, radius):\n",
    "        self.radius = radius\n",
    "\n",
    "    def area(self):\n",
    "        return 3.14 * self.radius ** 2\n",
    "\n",
    "class Cylinder(Shape):\n",
    "    def __init__(self, radius, height):\n",
    "        self.radius = radius\n",
    "        self.height= height\n",
    "\n",
    "    def area(self):\n",
    "        return (2*3.14*self.radius * self.height)+(2*3.14*self.radius**2)\n"
   ]
  },
  {
   "cell_type": "code",
   "execution_count": 44,
   "id": "1774abef-1c9d-4c46-80c1-ae095a44828f",
   "metadata": {},
   "outputs": [
    {
     "data": {
      "text/plain": [
       "78.5"
      ]
     },
     "execution_count": 44,
     "metadata": {},
     "output_type": "execute_result"
    }
   ],
   "source": [
    "c=Circle(5)\n",
    "c.area()"
   ]
  },
  {
   "cell_type": "code",
   "execution_count": 46,
   "id": "30aa94f8-fafa-4ddd-8d7b-c2430ef60c1f",
   "metadata": {},
   "outputs": [
    {
     "data": {
      "text/plain": [
       "226.08"
      ]
     },
     "execution_count": 46,
     "metadata": {},
     "output_type": "execute_result"
    }
   ],
   "source": [
    "l=Cylinder(4,5)\n",
    "l.area()"
   ]
  },
  {
   "cell_type": "code",
   "execution_count": null,
   "id": "ac640231-7dea-45b4-bd32-1d41b2ad659f",
   "metadata": {},
   "outputs": [],
   "source": []
  },
  {
   "cell_type": "code",
   "execution_count": 62,
   "id": "ddf0ae47-01d8-4adc-91cf-227489fc1734",
   "metadata": {},
   "outputs": [],
   "source": [
    "\"\"\"10. Implement encapsulation in a `BankAccount` class with private attributes for `balance` and \n",
    "`account_number`. Include methods for deposit, withdrawal, and balance inquiry\"\"\"\n",
    "\n",
    "class Bank_account:\n",
    "    def __init__(self,name,balance,account_number):\n",
    "        self.name=name\n",
    "        self.__balance=balance\n",
    "        self.__account_number=account_number\n",
    "        \n",
    "    def deposite(self,amount):\n",
    "        if amount> 0:\n",
    "            self.__balance=self.__balance+amount\n",
    "            print(\"deposite successfull\") \n",
    "        else:\n",
    "            print(\"plase provide amount > 0\")\n",
    "            \n",
    "    def with_draw(self,amount):\n",
    "         if self.__balance>amount:\n",
    "             self.__balance=self.__balance-amount\n",
    "             print(\"withdraw successfull\")\n",
    "         else:\n",
    "             print(\"insufficient funds\")\n",
    "             \n",
    "    def balance_inquiry(self):\n",
    "         return self.__balance"
   ]
  },
  {
   "cell_type": "code",
   "execution_count": 74,
   "id": "f243b85d-ea28-4cd4-9dd8-37374bea309f",
   "metadata": {},
   "outputs": [
    {
     "name": "stdout",
     "output_type": "stream",
     "text": [
      "deposite successfull\n",
      "withdraw successfull\n"
     ]
    },
    {
     "data": {
      "text/plain": [
       "200"
      ]
     },
     "execution_count": 74,
     "metadata": {},
     "output_type": "execute_result"
    }
   ],
   "source": [
    "a=Bank_account(\"atreya\",1000,1234567890)\n",
    "a.deposite(200)\n",
    "a.balance_inquiry()\n",
    "a.with_draw(1000)\n",
    "a.balance_inquiry()"
   ]
  },
  {
   "cell_type": "code",
   "execution_count": 90,
   "id": "652eeb35-bf3b-4fc5-ae65-181c5cc14841",
   "metadata": {},
   "outputs": [],
   "source": [
    "\"\"\"11.Write a class that overrides the `__str__` and `__add__` magic methods. What will these methods allow \n",
    "you to do?\"\"\"\n",
    "\n",
    "class ComplexNumber:\n",
    "    def __init__(self, real, imag):\n",
    "        self.real = real\n",
    "        self.imag = imag\n",
    "\n",
    "    def __str__(self):\n",
    "        return f\"{self.real} + {self.imag}i\"\n",
    "\n",
    "    def __add__(self, other):\n",
    "        return ComplexNumber(self.real + other.real, self.imag+other.imag)"
   ]
  },
  {
   "cell_type": "code",
   "execution_count": 92,
   "id": "4f9eef31-5b88-42c4-86d1-6f3ef54bb761",
   "metadata": {},
   "outputs": [
    {
     "name": "stdout",
     "output_type": "stream",
     "text": [
      "2 + 3i\n",
      "1 + 1i\n"
     ]
    }
   ],
   "source": [
    "num1 = ComplexNumber(2, 3)\n",
    "num2 = ComplexNumber(1, 1)\n",
    "print(num1)\n",
    "print(num2)"
   ]
  },
  {
   "cell_type": "code",
   "execution_count": 94,
   "id": "9a0c725a-5946-4079-8315-c057309ddeab",
   "metadata": {},
   "outputs": [
    {
     "name": "stdout",
     "output_type": "stream",
     "text": [
      "3 + 4i\n"
     ]
    }
   ],
   "source": [
    "num3 = num1 + num2\n",
    "print(num3)"
   ]
  },
  {
   "cell_type": "code",
   "execution_count": null,
   "id": "5e61cee6-1b3b-416f-9d0b-27b77984b7a1",
   "metadata": {},
   "outputs": [],
   "source": []
  },
  {
   "cell_type": "code",
   "execution_count": 49,
   "id": "9a7a051f-13a4-4379-aae1-b89f3d490b5d",
   "metadata": {},
   "outputs": [],
   "source": [
    "''' 12.  Create a decorator that measures and prints the execution time of a function.'''\n",
    "\n",
    "import time \n",
    "def calculate_time(func):\n",
    "    def timer(*args, **kwargs):\n",
    "        start=time.time()\n",
    "        k=func(*args, **kwargs)\n",
    "        end=time.time()\n",
    "        print(\"time taken to run the function\",end-start)\n",
    "        return k\n",
    "    return timer    \n",
    "\n",
    "\n",
    "@calculate_time\n",
    "def time_difference():\n",
    "    print (10**10)"
   ]
  },
  {
   "cell_type": "code",
   "execution_count": 51,
   "id": "d9200279-af2d-4b82-aecf-707aaaaee2a6",
   "metadata": {},
   "outputs": [
    {
     "name": "stdout",
     "output_type": "stream",
     "text": [
      "10000000000\n",
      "time taken to run the function 0.0\n"
     ]
    }
   ],
   "source": [
    "time_difference()"
   ]
  },
  {
   "cell_type": "code",
   "execution_count": 53,
   "id": "bd965a9b-52f6-40ed-aefb-69e6ef46edb6",
   "metadata": {},
   "outputs": [],
   "source": [
    "'''13. Explain the concept of the Diamond Problem in multiple inheritance. How does Python resolve it'''\n",
    "\n",
    "#python solves the diamond problem through Method Resolution Order\n",
    "class A:\n",
    "    def method(self):\n",
    "        print(\"method of class A\")\n",
    "class B(A):\n",
    "    def method1(self):\n",
    "        print(\"method of class B\")\n",
    "class C(A):\n",
    "    def method1_5(self):\n",
    "        print(\"method of class C\")\n",
    "class D(B,C):\n",
    "    def method2(self):\n",
    "        print(\"method of class D\")"
   ]
  },
  {
   "cell_type": "code",
   "execution_count": 55,
   "id": "441e4ce6-b939-4144-8a07-7503b8421500",
   "metadata": {},
   "outputs": [
    {
     "name": "stdout",
     "output_type": "stream",
     "text": [
      "method of class A\n"
     ]
    }
   ],
   "source": [
    "d=D()\n",
    "d.method()"
   ]
  },
  {
   "cell_type": "code",
   "execution_count": 57,
   "id": "9524e2b6-c74b-4f3d-9ce8-c6e9a475fef1",
   "metadata": {},
   "outputs": [
    {
     "ename": "SyntaxError",
     "evalue": "incomplete input (1134439459.py, line 1)",
     "output_type": "error",
     "traceback": [
      "\u001b[1;36m  Cell \u001b[1;32mIn[57], line 1\u001b[1;36m\u001b[0m\n\u001b[1;33m    \"\"\"14.. Write a class method that keeps track of the number of instances created from a class.\"\"\u001b[0m\n\u001b[1;37m    ^\u001b[0m\n\u001b[1;31mSyntaxError\u001b[0m\u001b[1;31m:\u001b[0m incomplete input\n"
     ]
    }
   ],
   "source": [
    "\"\"\"14.. Write a class method that keeps track of the number of instances created from a class.\"\"\n"
   ]
  },
  {
   "cell_type": "code",
   "execution_count": 81,
   "id": "c03f53cf-c071-461c-9287-085f8a170735",
   "metadata": {},
   "outputs": [],
   "source": [
    "\"\"\"15. Implement a static method in a class that checks if a given year is a leap year\"\"\"\n",
    "class Check:\n",
    "    @staticmethod\n",
    "    def leap_year(x):\n",
    "        if x<=0:\n",
    "                print(\"invalid entry \")\n",
    "           \n",
    "        elif x%4==0:\n",
    "             print (x,\"leap year\")\n",
    "            \n",
    "        else:\n",
    "            print (\"not a leap year\")"
   ]
  },
  {
   "cell_type": "code",
   "execution_count": 83,
   "id": "99fa6dde-8463-4ca1-bf33-20013ccfe555",
   "metadata": {},
   "outputs": [
    {
     "name": "stdout",
     "output_type": "stream",
     "text": [
      "invalid entry \n"
     ]
    }
   ],
   "source": [
    "Check.leap_year(0)"
   ]
  },
  {
   "cell_type": "code",
   "execution_count": null,
   "id": "ff30163e-8aba-4947-9dd7-1292de875a38",
   "metadata": {},
   "outputs": [],
   "source": []
  }
 ],
 "metadata": {
  "kernelspec": {
   "display_name": "Python 3 (ipykernel)",
   "language": "python",
   "name": "python3"
  },
  "language_info": {
   "codemirror_mode": {
    "name": "ipython",
    "version": 3
   },
   "file_extension": ".py",
   "mimetype": "text/x-python",
   "name": "python",
   "nbconvert_exporter": "python",
   "pygments_lexer": "ipython3",
   "version": "3.12.4"
  }
 },
 "nbformat": 4,
 "nbformat_minor": 5
}
