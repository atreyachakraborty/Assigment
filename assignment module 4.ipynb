{
 "cells": [
  {
   "cell_type": "code",
   "execution_count": 28,
   "id": "63cd98c9-f148-4658-a2d8-0b66fd56056c",
   "metadata": {},
   "outputs": [
    {
     "data": {
      "text/plain": [
       "'M aei tea'"
      ]
     },
     "execution_count": 28,
     "metadata": {},
     "output_type": "execute_result"
    }
   ],
   "source": [
    "#  1. Discuss string slicing and provide examples\n",
    "\n",
    "# We use slicing to get data up to a particular position in a string. String slicing is used to extract substrings and reverse the string.\n",
    "\n",
    "l= \"My name is Atreya Chakraborty\"\n",
    "l[0:18]# Here we will get items up to 18th positions.\n",
    "\n",
    "l[:18] #in this example if we don't provide 1st slicing parameter, python automatically provides data from 0 positions  to the 18th position\n",
    "\n",
    "l[::-1] # This method used to reverse the list data set"
   ]
  },
  {
   "cell_type": "code",
   "execution_count": 30,
   "id": "5bddb0f9-0a4f-499b-8e7f-afd9ce9f804b",
   "metadata": {},
   "outputs": [
    {
     "data": {
      "text/plain": [
       "' 1. list is mutable data set \\n    2. in the list we can store any kind of data. like - integer, float,complex number, \"string\" '"
      ]
     },
     "execution_count": 30,
     "metadata": {},
     "output_type": "execute_result"
    }
   ],
   "source": [
    "# 2. Explain the key features of lists in Python\n",
    "\n",
    "\"\"\" 1. list is a mutable data set \n",
    "    2. in the list we can store any kind of data. like - integer, float, complex number, \"string\" \"\"\"\n"
   ]
  },
  {
   "cell_type": "code",
   "execution_count": 46,
   "id": "ce83a52c-3220-49fe-84a3-80ef647439e4",
   "metadata": {},
   "outputs": [
    {
     "data": {
      "text/plain": [
       "[]"
      ]
     },
     "execution_count": 46,
     "metadata": {},
     "output_type": "execute_result"
    }
   ],
   "source": [
    "# 3. Describe how to access, modify, and delete elements in a list with examples\n",
    "\n",
    "# To access the data inside the list we can use the indexing method\n",
    "a=[1,2,3,4,5,6]\n",
    "a[0]# we will get 1st position value\n",
    "\n",
    "# to modify any list \n",
    "a[0]=\"Atreya\"\n",
    "a\n",
    "\n",
    "# to delete any data\n",
    "a.pop(0)\n",
    "a\n",
    "\n",
    "#to clear the data set\n",
    "a.clear()\n",
    "a\n"
   ]
  },
  {
   "cell_type": "markdown",
   "id": "eefb7b5e-c6b5-4fb9-9220-0eae49f4fa79",
   "metadata": {},
   "source": [
    "# 3. Compare and contrast tuples and lists with examples\n",
    "'''\n",
    "Once we create a tuple, we can't change its elements\n",
    "    tuple=(1,2,3)\n",
    "    tuple[0]=5, it will throw error\n",
    "    we can change, add, or remove elements in list \n",
    "    list=[1,2,3] \n",
    "    list[0]=5, it will update value 5 in the index 0 position.\n",
    "    \n",
    "    '''\n",
    "\n",
    "."
   ]
  },
  {
   "cell_type": "code",
   "execution_count": 78,
   "id": "2dc70140-1321-42ad-bae7-2f1161fe76f7",
   "metadata": {},
   "outputs": [
    {
     "data": {
      "text/plain": [
       "set"
      ]
     },
     "execution_count": 78,
     "metadata": {},
     "output_type": "execute_result"
    }
   ],
   "source": [
    "# 4. Describe the key features of sets and provide examples of their use\n",
    "\"\"\" set is a mutable data structure. It always returns unique values.\n",
    "The indexing method doesn't work in sets. We can use a set when we \n",
    "require unique values for our program since it doesn't allow duplicate values.\"\"\"\n",
    "\n",
    "s={1,2,3,4,5}\n",
    "s.add(\"atreya\")\n",
    "s\n",
    "s.pop()# it removes elements from the set\n",
    "s.discard(\"atreya\")#its remove atreya from s\n",
    "s.update(\"pwskill\")\n",
    "s.clear()\n",
    "type(s)"
   ]
  },
  {
   "cell_type": "code",
   "execution_count": null,
   "id": "cef85e65-5596-45f9-bd6f-89fa6f507b59",
   "metadata": {},
   "outputs": [],
   "source": [
    "#6. Discuss the use cases of tuples and sets in Python programming\n",
    "\n",
    "# when we need unique values we use sets,\n",
    "# when we dont needs to update the values inside any program we use tuples. example - students id, product number etc"
   ]
  },
  {
   "cell_type": "code",
   "execution_count": 102,
   "id": "ec8c3b69-1d3c-41da-a06c-bce8d107eb3d",
   "metadata": {},
   "outputs": [
    {
     "data": {
      "text/plain": [
       "{'student 1': 'atreya',\n",
       " 'student 3': 'animesh',\n",
       " 'student 4': 'titas',\n",
       " 'student 5': 'soma',\n",
       " 'student 6': 'mini'}"
      ]
     },
     "execution_count": 102,
     "metadata": {},
     "output_type": "execute_result"
    }
   ],
   "source": [
    "#7. Describe how to add, modify, and delete items in a dictionary with examples\n",
    "\n",
    "dict1={\"student 1\":\"atreya\",\"student 2\":\"tapash\",\"student 3\":\"animesh\"}\n",
    "dict1\n",
    "dict1[\"student 4\"]=\"titas\" #added new value\n",
    "dict1\n",
    "dict1.pop(\"student 2\") #remove student 2 from dictionary \n",
    "dict2={\"student 5\":\"soma\",\"student 6\":\"mini\"}\n",
    "dict1.update(dict2)\n",
    "dict1"
   ]
  },
  {
   "cell_type": "code",
   "execution_count": 112,
   "id": "9162af5f-6012-4d07-a7f9-e65340391522",
   "metadata": {},
   "outputs": [
    {
     "data": {
      "text/plain": [
       "'animesh'"
      ]
     },
     "execution_count": 112,
     "metadata": {},
     "output_type": "execute_result"
    }
   ],
   "source": [
    "#8.   Discuss the importance of dictionary keys being immutable and provide examples\n",
    "\"\"\" In Python, dictionary keys must be immutable, \n",
    "meaning their value cannot change after creation.\n",
    "\n",
    "we can use any integer, tuple,string as dictionary keys\n",
    "\"\"\"\n",
    "\n",
    "dict1={(1,2,3):\"atreya\", \"student1\":\"as is\",1:\"Animesh\"}\n",
    "dict1\n",
    "dict1[1]"
   ]
  },
  {
   "cell_type": "code",
   "execution_count": null,
   "id": "04a77f59-0ef7-4c63-ac24-a224d20167d0",
   "metadata": {},
   "outputs": [],
   "source": []
  }
 ],
 "metadata": {
  "kernelspec": {
   "display_name": "Python 3 (ipykernel)",
   "language": "python",
   "name": "python3"
  },
  "language_info": {
   "codemirror_mode": {
    "name": "ipython",
    "version": 3
   },
   "file_extension": ".py",
   "mimetype": "text/x-python",
   "name": "python",
   "nbconvert_exporter": "python",
   "pygments_lexer": "ipython3",
   "version": "3.12.4"
  }
 },
 "nbformat": 4,
 "nbformat_minor": 5
}
